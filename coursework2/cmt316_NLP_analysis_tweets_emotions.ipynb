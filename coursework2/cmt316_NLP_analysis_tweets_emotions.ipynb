{
  "cells": [
    {
      "cell_type": "markdown",
      "metadata": {
        "id": "RO0Xwp2SnOOU"
      },
      "source": [
        "Import related packages"
      ]
    },
    {
      "cell_type": "code",
      "execution_count": null,
      "metadata": {
        "colab": {
          "base_uri": "https://localhost:8080/"
        },
        "id": "MgJ6v2S3nOOV",
        "outputId": "1b833867-cc01-4490-eaf4-34134f25a559"
      },
      "outputs": [
        {
          "output_type": "stream",
          "name": "stdout",
          "text": [
            "[nltk_data] Downloading package punkt to /root/nltk_data...\n",
            "[nltk_data]   Package punkt is already up-to-date!\n",
            "[nltk_data] Downloading package stopwords to /root/nltk_data...\n",
            "[nltk_data]   Package stopwords is already up-to-date!\n",
            "[nltk_data] Downloading package wordnet to /root/nltk_data...\n",
            "[nltk_data]   Package wordnet is already up-to-date!\n"
          ]
        }
      ],
      "source": [
        "import pandas as pd\n",
        "import numpy as np\n",
        "import sklearn\n",
        "import nltk\n",
        "import operator\n",
        "nltk.download('punkt') #If needed\n",
        "nltk.download('stopwords') #If needed\n",
        "nltk.download('wordnet') #If needed\n",
        "\n",
        "from sklearn.metrics import precision_score,recall_score,f1_score,accuracy_score"
      ]
    },
    {
      "cell_type": "markdown",
      "metadata": {
        "id": "OSx-oVsOnOOX"
      },
      "source": [
        "Import dataset    \n",
        "The original data has been divided into training set, test set and validation set"
      ]
    },
    {
      "cell_type": "code",
      "execution_count": null,
      "metadata": {
        "id": "Xj41SmAcnOOX"
      },
      "outputs": [],
      "source": [
        "#Import training set data and label\n",
        "df1 = pd.read_table('train_text.txt', header = None)\n",
        "df2 = pd.read_table('train_labels.txt', header = None)\n",
        "train_data = pd.concat([df1, df2], axis = 1)\n",
        "train_data.columns =['0', '1']\n",
        "\n",
        "#Import testing set data and label\n",
        "df3 = pd.read_table('test_text.txt', header = None)\n",
        "df4 = pd.read_table('test_labels.txt', header = None)\n",
        "test_data = pd.concat([df3, df4], axis = 1)\n",
        "test_data.columns =['0', '1']\n",
        "\n",
        "#Import validation set data and label\n",
        "df5 = pd.read_table('val_text.txt', header = None)\n",
        "df6 = pd.read_table('val_labels.txt', header = None)\n",
        "val_data = pd.concat([df5, df6], axis = 1)\n",
        "val_data.columns =['0', '1']"
      ]
    },
    {
      "cell_type": "code",
      "execution_count": null,
      "metadata": {
        "colab": {
          "base_uri": "https://localhost:8080/",
          "height": 206
        },
        "id": "sam3DTCAnOOX",
        "outputId": "410c5241-a61b-47c0-c1be-9b80fc1e181e"
      },
      "outputs": [
        {
          "output_type": "execute_result",
          "data": {
            "text/plain": [
              "                                                   0  1\n",
              "0  “Worry is a down payment on a problem you may ...  2\n",
              "1  My roommate: it's okay that we can't spell bec...  0\n",
              "2  No but that's so cute. Atsu was probably shy a...  1\n",
              "3  Rooneys fucking untouchable isn't he? Been fuc...  0\n",
              "4  it's pretty depressing when u hit pan on ur fa...  3"
            ],
            "text/html": [
              "\n",
              "  <div id=\"df-78d239f4-e3c1-4765-a980-552ae41274a8\">\n",
              "    <div class=\"colab-df-container\">\n",
              "      <div>\n",
              "<style scoped>\n",
              "    .dataframe tbody tr th:only-of-type {\n",
              "        vertical-align: middle;\n",
              "    }\n",
              "\n",
              "    .dataframe tbody tr th {\n",
              "        vertical-align: top;\n",
              "    }\n",
              "\n",
              "    .dataframe thead th {\n",
              "        text-align: right;\n",
              "    }\n",
              "</style>\n",
              "<table border=\"1\" class=\"dataframe\">\n",
              "  <thead>\n",
              "    <tr style=\"text-align: right;\">\n",
              "      <th></th>\n",
              "      <th>0</th>\n",
              "      <th>1</th>\n",
              "    </tr>\n",
              "  </thead>\n",
              "  <tbody>\n",
              "    <tr>\n",
              "      <th>0</th>\n",
              "      <td>“Worry is a down payment on a problem you may ...</td>\n",
              "      <td>2</td>\n",
              "    </tr>\n",
              "    <tr>\n",
              "      <th>1</th>\n",
              "      <td>My roommate: it's okay that we can't spell bec...</td>\n",
              "      <td>0</td>\n",
              "    </tr>\n",
              "    <tr>\n",
              "      <th>2</th>\n",
              "      <td>No but that's so cute. Atsu was probably shy a...</td>\n",
              "      <td>1</td>\n",
              "    </tr>\n",
              "    <tr>\n",
              "      <th>3</th>\n",
              "      <td>Rooneys fucking untouchable isn't he? Been fuc...</td>\n",
              "      <td>0</td>\n",
              "    </tr>\n",
              "    <tr>\n",
              "      <th>4</th>\n",
              "      <td>it's pretty depressing when u hit pan on ur fa...</td>\n",
              "      <td>3</td>\n",
              "    </tr>\n",
              "  </tbody>\n",
              "</table>\n",
              "</div>\n",
              "      <button class=\"colab-df-convert\" onclick=\"convertToInteractive('df-78d239f4-e3c1-4765-a980-552ae41274a8')\"\n",
              "              title=\"Convert this dataframe to an interactive table.\"\n",
              "              style=\"display:none;\">\n",
              "        \n",
              "  <svg xmlns=\"http://www.w3.org/2000/svg\" height=\"24px\"viewBox=\"0 0 24 24\"\n",
              "       width=\"24px\">\n",
              "    <path d=\"M0 0h24v24H0V0z\" fill=\"none\"/>\n",
              "    <path d=\"M18.56 5.44l.94 2.06.94-2.06 2.06-.94-2.06-.94-.94-2.06-.94 2.06-2.06.94zm-11 1L8.5 8.5l.94-2.06 2.06-.94-2.06-.94L8.5 2.5l-.94 2.06-2.06.94zm10 10l.94 2.06.94-2.06 2.06-.94-2.06-.94-.94-2.06-.94 2.06-2.06.94z\"/><path d=\"M17.41 7.96l-1.37-1.37c-.4-.4-.92-.59-1.43-.59-.52 0-1.04.2-1.43.59L10.3 9.45l-7.72 7.72c-.78.78-.78 2.05 0 2.83L4 21.41c.39.39.9.59 1.41.59.51 0 1.02-.2 1.41-.59l7.78-7.78 2.81-2.81c.8-.78.8-2.07 0-2.86zM5.41 20L4 18.59l7.72-7.72 1.47 1.35L5.41 20z\"/>\n",
              "  </svg>\n",
              "      </button>\n",
              "      \n",
              "  <style>\n",
              "    .colab-df-container {\n",
              "      display:flex;\n",
              "      flex-wrap:wrap;\n",
              "      gap: 12px;\n",
              "    }\n",
              "\n",
              "    .colab-df-convert {\n",
              "      background-color: #E8F0FE;\n",
              "      border: none;\n",
              "      border-radius: 50%;\n",
              "      cursor: pointer;\n",
              "      display: none;\n",
              "      fill: #1967D2;\n",
              "      height: 32px;\n",
              "      padding: 0 0 0 0;\n",
              "      width: 32px;\n",
              "    }\n",
              "\n",
              "    .colab-df-convert:hover {\n",
              "      background-color: #E2EBFA;\n",
              "      box-shadow: 0px 1px 2px rgba(60, 64, 67, 0.3), 0px 1px 3px 1px rgba(60, 64, 67, 0.15);\n",
              "      fill: #174EA6;\n",
              "    }\n",
              "\n",
              "    [theme=dark] .colab-df-convert {\n",
              "      background-color: #3B4455;\n",
              "      fill: #D2E3FC;\n",
              "    }\n",
              "\n",
              "    [theme=dark] .colab-df-convert:hover {\n",
              "      background-color: #434B5C;\n",
              "      box-shadow: 0px 1px 3px 1px rgba(0, 0, 0, 0.15);\n",
              "      filter: drop-shadow(0px 1px 2px rgba(0, 0, 0, 0.3));\n",
              "      fill: #FFFFFF;\n",
              "    }\n",
              "  </style>\n",
              "\n",
              "      <script>\n",
              "        const buttonEl =\n",
              "          document.querySelector('#df-78d239f4-e3c1-4765-a980-552ae41274a8 button.colab-df-convert');\n",
              "        buttonEl.style.display =\n",
              "          google.colab.kernel.accessAllowed ? 'block' : 'none';\n",
              "\n",
              "        async function convertToInteractive(key) {\n",
              "          const element = document.querySelector('#df-78d239f4-e3c1-4765-a980-552ae41274a8');\n",
              "          const dataTable =\n",
              "            await google.colab.kernel.invokeFunction('convertToInteractive',\n",
              "                                                     [key], {});\n",
              "          if (!dataTable) return;\n",
              "\n",
              "          const docLinkHtml = 'Like what you see? Visit the ' +\n",
              "            '<a target=\"_blank\" href=https://colab.research.google.com/notebooks/data_table.ipynb>data table notebook</a>'\n",
              "            + ' to learn more about interactive tables.';\n",
              "          element.innerHTML = '';\n",
              "          dataTable['output_type'] = 'display_data';\n",
              "          await google.colab.output.renderOutput(dataTable, element);\n",
              "          const docLink = document.createElement('div');\n",
              "          docLink.innerHTML = docLinkHtml;\n",
              "          element.appendChild(docLink);\n",
              "        }\n",
              "      </script>\n",
              "    </div>\n",
              "  </div>\n",
              "  "
            ]
          },
          "metadata": {},
          "execution_count": 3
        }
      ],
      "source": [
        "train_data.head()"
      ]
    },
    {
      "cell_type": "code",
      "source": [
        "train_data.to_csv(r\"./result/train_with_labels.csv\",header =True, index = False, encoding = \"utf_8_sig\")\n",
        "val_data.to_csv(r\"./result/val_with_labels.csv\",header =True, index = False, encoding = \"utf_8_sig\")\n",
        "test_data.to_csv(r\"./result/test_with_labels.csv\",header =True, index = False, encoding = \"utf_8_sig\")"
      ],
      "metadata": {
        "id": "skIOkNUen2DW"
      },
      "execution_count": null,
      "outputs": []
    },
    {
      "cell_type": "code",
      "source": [
        "# !!!after installing v0.9 torchtext, if you using google-colab, pleas use Runtime -> Restart runtime!!!\n",
        "!pip install torchtext==0.9"
      ],
      "metadata": {
        "colab": {
          "base_uri": "https://localhost:8080/"
        },
        "id": "42xiH0-tos3z",
        "outputId": "134ca90b-6924-461b-f937-89e64f37aad2"
      },
      "execution_count": null,
      "outputs": [
        {
          "output_type": "stream",
          "name": "stdout",
          "text": [
            "Requirement already satisfied: torchtext==0.9 in /usr/local/lib/python3.7/dist-packages (0.9.0)\n",
            "Requirement already satisfied: numpy in /usr/local/lib/python3.7/dist-packages (from torchtext==0.9) (1.21.6)\n",
            "Requirement already satisfied: tqdm in /usr/local/lib/python3.7/dist-packages (from torchtext==0.9) (4.64.0)\n",
            "Requirement already satisfied: torch==1.8.0 in /usr/local/lib/python3.7/dist-packages (from torchtext==0.9) (1.8.0)\n",
            "Requirement already satisfied: requests in /usr/local/lib/python3.7/dist-packages (from torchtext==0.9) (2.23.0)\n",
            "Requirement already satisfied: typing-extensions in /usr/local/lib/python3.7/dist-packages (from torch==1.8.0->torchtext==0.9) (4.2.0)\n",
            "Requirement already satisfied: idna<3,>=2.5 in /usr/local/lib/python3.7/dist-packages (from requests->torchtext==0.9) (2.10)\n",
            "Requirement already satisfied: urllib3!=1.25.0,!=1.25.1,<1.26,>=1.21.1 in /usr/local/lib/python3.7/dist-packages (from requests->torchtext==0.9) (1.24.3)\n",
            "Requirement already satisfied: chardet<4,>=3.0.2 in /usr/local/lib/python3.7/dist-packages (from requests->torchtext==0.9) (3.0.4)\n",
            "Requirement already satisfied: certifi>=2017.4.17 in /usr/local/lib/python3.7/dist-packages (from requests->torchtext==0.9) (2021.10.8)\n"
          ]
        }
      ]
    },
    {
      "cell_type": "code",
      "source": [
        "import torch\n",
        "import torchtext\n",
        "print(torchtext.__version__)    # double check the torch version\n",
        "\n",
        "from torchtext.legacy import data"
      ],
      "metadata": {
        "colab": {
          "base_uri": "https://localhost:8080/"
        },
        "id": "oW8uqlsIpTAj",
        "outputId": "08926a1e-af70-4ae3-a849-428ad34921be"
      },
      "execution_count": null,
      "outputs": [
        {
          "output_type": "stream",
          "name": "stdout",
          "text": [
            "0.9.0\n"
          ]
        }
      ]
    },
    {
      "cell_type": "code",
      "source": [
        "# 添加cleanup_text 最终决定不用clean stopwords\n",
        "# import re\n",
        "# pattern1 = ['.','@','#','!','&',\"'\",'?',',',\"n't\",\"'s\",'...',\"'m\",';','-',':','u','(',')','/']\n",
        "# pattern2 = ['@user','+%', 'ahahah', 'am', '..', '...', 'He', 'he', 'She', 'she', 'it', 'It', 'Am', 'am', 'The', 'the', 'My','Im','.','#',',',\"'s\",\"'m\",';','-','(',')','/']\n",
        "\n",
        "# def cleanup_text(texts):\n",
        "#   cleaned_text = []\n",
        "#   for text in texts:\n",
        "#     if text not in pattern2 or text not in pattern1:\n",
        "#       text = re.sub('[^a-zA-Z0-9]', ' ', text)\n",
        "#       text = re.sub(r' +', ' ', text)\n",
        "#       text = re.sub(r'\\n', ' ', text)\n",
        "#       cleaned_text.append(text)\n",
        "#   return cleaned_text\n"
      ],
      "metadata": {
        "id": "ExYNsWy40Uub"
      },
      "execution_count": null,
      "outputs": []
    },
    {
      "cell_type": "code",
      "source": [
        "# 定义Field，一个能够加载，预处理和存储文本数据和标签的对象\n",
        "# 之后用它根据训练数据来建立词表，加载预训练Glove词向量\n",
        "import random\n",
        "\n",
        "def DataLoader():\n",
        "  SEED = 1234\n",
        "\n",
        "  torch.manual_seed(SEED)\n",
        "  torch.backends.cudnn.deterministic = True\n",
        "\n",
        "  # TEXT = data.Field(preprocessing=cleanup_text,\n",
        "  TEXT = data.Field(tokenize = 'spacy',\n",
        "                    tokenizer_language = 'en_core_web_sm', include_lengths = False)\n",
        "                    # include_lengths = True)\n",
        "\n",
        "  # LABEL = data.LabelField(dtype = torch.float)\n",
        "  LABEL = data.LabelField(dtype = torch.long)\n",
        "  fields = [('text', TEXT), ('label', LABEL)]\n",
        "\n",
        "  train_data, valid_data, test_data = data.TabularDataset.splits(path = './result',\n",
        "                                                                 train = 'train_with_labels.csv',\n",
        "                                                                 validation = 'val_with_labels.csv',\n",
        "                                                                 test = 'test_with_labels.csv',\n",
        "                                                                 format = 'csv',\n",
        "                                                                 fields = fields,\n",
        "                                                                 skip_header = True)\n",
        "\n",
        "\n",
        "  return TEXT, LABEL, train_data, valid_data, test_data"
      ],
      "metadata": {
        "id": "mXI7FUMupU48"
      },
      "execution_count": null,
      "outputs": []
    },
    {
      "cell_type": "code",
      "source": [
        "# 加载完数据之后，开始建词表\n",
        "TEXT, LABEL, train_data, valid_data, test_data = DataLoader()\n",
        "\n",
        "MAX_VOCAB_SIZE = 25_000\n",
        "\n",
        "TEXT.build_vocab(train_data, \n",
        "                 max_size = MAX_VOCAB_SIZE, \n",
        "                #  vectors = \"glove.6B.100d\", \n",
        "                 vectors = \"glove.twitter.27B.100d\",\n",
        "                 unk_init = torch.Tensor.normal_)\n",
        "\n",
        "LABEL.build_vocab(train_data)"
      ],
      "metadata": {
        "id": "Rus2XuAxpYVY",
        "colab": {
          "base_uri": "https://localhost:8080/"
        },
        "outputId": "df056565-7553-455e-c292-9bcdb5129a06"
      },
      "execution_count": null,
      "outputs": [
        {
          "output_type": "stream",
          "name": "stderr",
          "text": [
            ".vector_cache/glove.twitter.27B.zip: 1.52GB [04:45, 5.32MB/s]                            \n",
            "100%|█████████▉| 1193513/1193514 [00:49<00:00, 24049.85it/s]\n"
          ]
        }
      ]
    },
    {
      "cell_type": "code",
      "source": [
        "print(TEXT.vocab.freqs.most_common(20)) # 训练集中最常出现的词\n",
        "print(TEXT.vocab.itos[:10]) # 列表 index to word\n",
        "print(TEXT.vocab.stoi)  # 字典 word to index\n",
        "print(LABEL.vocab.stoi)"
      ],
      "metadata": {
        "colab": {
          "base_uri": "https://localhost:8080/"
        },
        "id": "ElasSKh3quPn",
        "outputId": "fbc81468-ef54-4b25-cc88-111a26a4df4e"
      },
      "execution_count": null,
      "outputs": [
        {
          "output_type": "stream",
          "name": "stdout",
          "text": [
            "[('#', 3239), ('@user', 2019), ('.', 1909), ('the', 1373), ('I', 1359), ('to', 1204), (',', 1079), ('a', 1004), ('and', 846), ('!', 763), ('is', 739), (' ', 722), ('of', 671), ('you', 638), ('in', 552), ('it', 527), (\"'s\", 477), (\"n't\", 476), ('that', 473), ('my', 435)]\n",
            "['<unk>', '<pad>', '#', '@user', '.', 'the', 'I', 'to', ',', 'a']\n",
            "defaultdict(<bound method Vocab._default_unk_index of <torchtext.vocab.Vocab object at 0x7f08b1502a90>>, {'<unk>': 0, '<pad>': 1, '#': 2, '@user': 3, '.': 4, 'the': 5, 'I': 6, 'to': 7, ',': 8, 'a': 9, 'and': 10, '!': 11, 'is': 12, ' ': 13, 'of': 14, 'you': 15, 'in': 16, 'it': 17, \"'s\": 18, \"n't\": 19, 'that': 20, 'my': 21, '?': 22, 'for': 23, \"'\": 24, 'on': 25, 'me': 26, 'do': 27, 'with': 28, 'have': 29, 'be': 30, 'so': 31, 'not': 32, \"'m\": 33, 'was': 34, 'just': 35, 'this': 36, 'are': 37, 'at': 38, 'but': 39, 'i': 40, 'your': 41, 'like': 42, ';': 43, '...': 44, '-': 45, 'all': 46, 'about': 47, '&': 48, 'out': 49, 'up': 50, 'get': 51, 'by': 52, 'he': 53, 'amp': 54, 'what': 55, 'when': 56, 'they': 57, 'from': 58, 'The': 59, 'if': 60, 'people': 61, 'as': 62, 'can': 63, ':': 64, 'we': 65, 'no': 66, 'or': 67, 'an': 68, 'will': 69, 'one': 70, 'who': 71, 'his': 72, 'It': 73, 'how': 74, 'there': 75, 'would': 76, 'know': 77, 'her': 78, 'think': 79, 'now': 80, 'sad': 81, 'You': 82, 'been': 83, 'ca': 84, 'did': 85, 'got': 86, \"'re\": 87, \"'ve\": 88, 'has': 89, 'really': 90, '..': 91, 'day': 92, 'go': 93, 'u': 94, 'am': 95, 'some': 96, 'time': 97, 'back': 98, 'over': 99, 'even': 100, 'their': 101, 'them': 102, '✨': 103, '😂': 104, 'off': 105, 'too': 106, 'want': 107, 'life': 108, 'more': 109, 'she': 110, '(': 111, 'going': 112, 'should': 113, 'than': 114, 'feel': 115, 'still': 116, 'angry': 117, 'had': 118, 'depression': 119, '2': 120, 'fear': 121, 'love': 122, 'because': 123, 'being': 124, 'good': 125, 'our': 126, 'someone': 127, 'him': 128, 'make': 129, 'much': 130, 'today': 131, 'only': 132, 'see': 133, 'This': 134, 'does': 135, 'work': 136, 'why': 137, \"'ll\": 138, 'fucking': 139, 'after': 140, 'lost': 141, 'sadness': 142, 'Do': 143, 'If': 144, 'm': 145, 'need': 146, 'never': 147, 'My': 148, 'new': 149, 'were': 150, '/': 151, 'That': 152, 'anger': 153, 'awful': 154, 'could': 155, 'man': 156, 'terrorism': 157, 'then': 158, 'way': 159, ')': 160, 'anxiety': 161, 'A': 162, 'into': 163, 'right': 164, 'let': 165, 'When': 166, 'before': 167, 'horrible': 168, 'rage': 169, 'say': 170, 'fuming': 171, 'again': 172, 'here': 173, 'We': 174, 'last': 175, 'nightmare': 176, 'shocking': 177, '....': 178, 'little': 179, 'terrible': 180, 'Just': 181, 'bad': 182, 'blues': 183, 'down': 184, 'fuck': 185, 'most': 186, 'What': 187, 'always': 188, 'any': 189, 'bully': 190, 'hilarious': 191, 'night': 192, 'No': 193, 'amazing': 194, 'depressing': 195, 'lol': 196, 'something': 197, 'terror': 198, 'those': 199, '*': 200, 'ever': 201, 'find': 202, 'happy': 203, 'So': 204, 'better': 205, 'every': 206, 'look': 207, 'makes': 208, 'outrage': 209, 'shit': 210, 'tell': 211, 'things': 212, 'us': 213, 'horror': 214, 'nt': 215, 'said': 216, 'start': 217, 'stop': 218, 'But': 219, 'serious': 220, 'where': 221, 'first': 222, 'getting': 223, \"'d\": 224, 'And': 225, 'He': 226, 'afraid': 227, 'away': 228, 'game': 229, 'They': 230, 'its': 231, 'old': 232, 'these': 233, 'watch': 234, 'worst': 235, '3': 236, 'Trump': 237, 'Why': 238, 'bitter': 239, 'face': 240, 'hate': 241, 'same': 242, 'through': 243, 'years': 244, '😭': 245, 'How': 246, 'made': 247, 'trying': 248, '🙄': 249, 'Watch': 250, 'give': 251, 'hard': 252, 'having': 253, 'offended': 254, 'revenge': 255, 'smile': 256, 'thing': 257, 'worry': 258, 'year': 259, '1': 260, 'best': 261, 'broadcast': 262, 'home': 263, 'next': 264, 'other': 265, 'play': 266, 'such': 267, '😡': 268, 'black': 269, 'doing': 270, 'great': 271, 'live.ly': 272, 'looking': 273, 'musically': 274, 'nothing': 275, 'snap': 276, 'thought': 277, 'tonight': 278, 'wanna': 279, 'week': 280, 'also': 281, 'furious': 282, 'guys': 283, 'heart': 284, 'nervous': 285, 'show': 286, 'tomorrow': 287, 'very': 288, 'GBBO': 289, 'fury': 290, 'hell': 291, 'panic': 292, 'person': 293, 'raging': 294, 'unhappy': 295, 'which': 296, 'world': 297, '️': 298, 'anything': 299, 'big': 300, 'done': 301, 'girl': 302, 'guy': 303, 'hope': 304, 'music': 305, 'phone': 306, 'since': 307, 'take': 308, 'wait': 309, 'well': 310, 'while': 311, 'Pakistan': 312, 'She': 313, 'against': 314, 'around': 315, 'help': 316, 'live': 317, 'lively': 318, 'long': 319, 'many': 320, 'sadly': 321, 'service': 322, 'war': 323, 'already': 324, 'bit': 325, 'burning': 326, 'glee': 327, 'half': 328, 'making': 329, 'put': 330, 'seen': 331, 'sober': 332, 'sorry': 333, 'ur': 334, 'watching': 335, 'dark': 336, 'family': 337, 'grim': 338, 'house': 339, 'insult': 340, 'literally': 341, 'n': 342, 'na': 343, 'news': 344, 'once': 345, 'own': 346, 'pout': 347, 'shake': 348, 'two': 349, 'without': 350, '❤': 351, '4': 352, 'Not': 353, 'bc': 354, 'call': 355, 'come': 356, 'days': 357, 'everyone': 358, 'gone': 359, 'irritate': 360, 'leave': 361, 'maybe': 362, 'optimism': 363, 'part': 364, 'please': 365, 'pretty': 366, 'real': 367, 'shy': 368, 'talking': 369, '😍': 370, '+': 371, 'another': 372, 'ass': 373, 'boiling': 374, 'despair': 375, 'die': 376, 'end': 377, 'gon': 378, 'job': 379, 'keep': 380, 'mind': 381, 'morning': 382, 'mourn': 383, 'myself': 384, 'oh': 385, 'playing': 386, 'police': 387, 'stayed': 388, 'talk': 389, 'team': 390, 'times': 391, 'until': 392, 'used': 393, 'whole': 394, 'wish': 395, 'wo': 396, 'yet': 397, '—': 398, '.....': 399, '5': 400, ':)': 401, 'actually': 402, 'alarm': 403, 'both': 404, 'customer': 405, 'dreadful': 406, 'feeling': 407, 'left': 408, 'remember': 409, 'shaking': 410, 'sleep': 411, 'started': 412, 'thanks': 413, 'though': 414, 'took': 415, 'wrath': 416, '  ': 417, 'God': 418, 'Love': 419, 'There': 420, 'anyone': 421, 'awe': 422, 'believe': 423, 'country': 424, 'cry': 425, 'enough': 426, 'fire': 427, 'late': 428, 'may': 429, 'might': 430, 'miss': 431, 'outside': 432, 'says': 433, 'seriously': 434, '“': 435, '💖': 436, '😩': 437, '20': 438, 'Oh': 439, 'between': 440, 'called': 441, 'care': 442, 'comes': 443, 'friends': 444, 'gloomy': 445, 'looks': 446, 'lose': 447, 'minutes': 448, 'month': 449, 'quote': 450, 'school': 451, 'sting': 452, 'taking': 453, 'tired': 454, 'weary': 455, 'words': 456, 'worse': 457, 'wrong': 458, 'yourself': 459, '10': 460, '15': 461, 'Is': 462, 'Now': 463, 'animated': 464, 'asked': 465, 'attack': 466, 'birthday': 467, 'boy': 468, 'break': 469, 'crying': 470, 'discourage': 471, 'either': 472, 'else': 473, 'free': 474, 'friend': 475, 'horrific': 476, 'joke': 477, 'kind': 478, 'moment': 479, 'offense': 480, 'racism': 481, 'side': 482, 'sure': 483, 'takes': 484, 'truth': 485, 'try': 486, 'turn': 487, 'use': 488, 'wow': 489, '--': 490, 'Can': 491, 'India': 492, 'People': 493, 'Well': 494, 'breezy': 495, 'burst': 496, 'change': 497, 'died': 498, 'discouraged': 499, 'dream': 500, 'dull': 501, 'found': 502, 'funny': 503, 'future': 504, 'haunt': 505, 'heard': 506, 'hilarity': 507, 'hold': 508, 'laughter': 509, 'least': 510, 'mean': 511, 'men': 512, 'must': 513, 'needs': 514, 'point': 515, 'problem': 516, 'saying': 517, 'season': 518, 'sunk': 519, 'watched': 520, 'white': 521, '😤': 522, '$': 523, '7': 524, 'Ca': 525, 'Hillary': 526, 'Twitter': 527, 'ask': 528, 'cause': 529, 'cheer': 530, 'class': 531, 'everything': 532, 'fact': 533, 'fiery': 534, 'gets': 535, 'grudge': 536, 'happened': 537, 'head': 538, 'issues': 539, 'joyful': 540, 'kid': 541, 'lot': 542, 'mad': 543, 'money': 544, 'offend': 545, 'pay': 546, 'playful': 547, 'relentless': 548, 'run': 549, 's': 550, 'shot': 551, 'sink': 552, 'sparkling': 553, 'state': 554, 'stuff': 555, 'tears': 556, 'test': 557, 'threaten': 558, 'told': 559, 'top': 560, 'w': 561, 'wants': 562, 'weeks': 563, 'win': 564, 'within': 565, 'woman': 566, 'word': 567, '😳': 568, ':(': 569, 'All': 570, 'At': 571, 'Being': 572, 'In': 573, 'Your': 574, 'absolutely': 575, 'alone': 576, 'bored': 577, 'car': 578, 'cheering': 579, 'delight': 580, 'excited': 581, 'front': 582, 'full': 583, 'fun': 584, 'hair': 585, 'happen': 586, 'hear': 587, 'hit': 588, 'horrid': 589, 'hour': 590, 'kill': 591, 'kinda': 592, 'level': 593, 'lies': 594, 'lmao': 595, 'media': 596, 'okay': 597, 'past': 598, 'pine': 599, 'played': 600, 'players': 601, 'probably': 602, 'saw': 603, 'scared': 604, 'seeing': 605, 'sick': 606, 'singing': 607, 'sometimes': 608, 'supposed': 609, 'ta': 610, 'terrorist': 611, 'thank': 612, 'towards': 613, 'true': 614, 'tweet': 615, 'twitter': 616, 'under': 617, 'working': 618, 'yeah': 619, '😠': 620, '🙈': 621, '=': 622, 'Happy': 623, 'Have': 624, 'King': 625, 'Like': 626, 'Never': 627, 'Thank': 628, 'Thanks': 629, 'Today': 630, 'afternoon': 631, 'ai': 632, 'attacks': 633, 'body': 634, 'broken': 635, 'buy': 636, 'close': 637, 'concern': 638, 'depress': 639, 'dread': 640, 'evening': 641, 'exhilarating': 642, 'feels': 643, 'felt': 644, 'follow': 645, 'gleeful': 646, 'god': 647, 'guess': 648, 'hands': 649, 'high': 650, 'history': 651, 'human': 652, 'idea': 653, 'instead': 654, 'killed': 655, 'listen': 656, 'lives': 657, 'madden': 658, 'means': 659, 'ok': 660, 'pessimist': 661, 'rabid': 662, 'racist': 663, 'resent': 664, 'rest': 665, 'restless': 666, 'room': 667, 'scare': 668, 'straight': 669, 'stupid': 670, 'teams': 671, 'together': 672, 'understand': 673, 'video': 674, 'weak': 675, '😊': 676, '🙃': 677, '6': 678, 'Another': 679, 'Friday': 680, 'NOT': 681, 'Paul': 682, 'Some': 683, 'TV': 684, 'US': 685, 'Where': 686, 'With': 687, 'almost': 688, 'anymore': 689, 'blood': 690, 'cheery': 691, 'd': 692, 'deal': 693, 'eat': 694, 'expect': 695, 'eyes': 696, 'far': 697, 'few': 698, 'fighting': 699, 'finally': 700, 'food': 701, 'frown': 702, 'gave': 703, 'girls': 704, 'goes': 705, 'growl': 706, 'gun': 707, 'holiday': 708, 'hours': 709, 'intimidate': 710, 'levity': 711, 'lips': 712, 'living': 713, 'lonely': 714, 'months': 715, 'movie': 716, 'n’t': 717, 'order': 718, 'pleasing': 719, 'posted': 720, 'provoke': 721, 'rather': 722, 'read': 723, 'ready': 724, 'rejoicing': 725, 'road': 726, 'safe': 727, 'smiling': 728, 'social': 729, 'thinking': 730, 'vs': 731, 'waiting': 732, 'women': 733, '”': 734, '🔥': 735, '%': 736, '1st': 737, '2016': 738, 'America': 739, 'Americans': 740, 'Charlotte': 741, 'Good': 742, 'Got': 743, 'Hey': 744, 'Look': 745, 'MY': 746, 'One': 747, 'U': 748, 'Who': 749, 'Yo': 750, 'ages': 751, 'ago': 752, 'bb18': 753, 'bed': 754, 'biggest': 755, 'bright': 756, 'business': 757, 'child': 758, 'coming': 759, 'contact': 760, 'damn': 761, 'death': 762, 'dude': 763, 'during': 764, 'episode': 765, 'fan': 766, 'film': 767, 'flight': 768, 'forever': 769, 'hand': 770, 'holding': 771, 'inside': 772, 'later': 773, 'match': 774, 'often': 775, 'online': 776, 'paid': 777, 'parents': 778, 'party': 779, 'place': 780, 'player': 781, 'points': 782, 'post': 783, 'power': 784, 'ppl': 785, 'pure': 786, 'scary': 787, 'seems': 788, 'send': 789, 'short': 790, 'soon': 791, 'soul': 792, 'spent': 793, 'store': 794, 'story': 795, 'using': 796, 'website': 797, 'wonder': 798, '£': 799, '😑': 800, '12': 801, '@': 802, 'Always': 803, 'Are': 804, 'Did': 805, 'Even': 806, 'Nicole': 807, 'Only': 808, 'Rooney': 809, 'Then': 810, 'These': 811, 'absolute': 812, 'age': 813, 'agree': 814, 'app': 815, 'attempt': 816, 'beautiful': 817, 'blacks': 818, 'book': 819, 'centre': 820, 'chance': 821, 'cheerfully': 822, 'children': 823, 'crap': 824, 'destroy': 825, 'different': 826, 'door': 827, 'dreams': 828, 'early': 829, 'elated': 830, 'email': 831, 'extra': 832, 'fans': 833, 'fast': 834, 'forget': 835, 'fume': 836, 'happens': 837, 'honestly': 838, 'hot': 839, 'huff': 840, 'kids': 841, 'less': 842, 'looked': 843, 'looting': 844, 'lots': 845, 'matter': 846, 'milk': 847, 'mine': 848, 'mirth': 849, 'moving': 850, 'name': 851, 'nd': 852, 'negative': 853, 'nights': 854, 'optimist': 855, 'perfect': 856, 'plus': 857, 'poor': 858, 'realize': 859, 'reason': 860, 'resentment': 861, 'respect': 862, 'sense': 863, 'sit': 864, 'situation': 865, 'snapchat': 866, 'sort': 867, 'sound': 868, 'speak': 869, 'success': 870, 'taken': 871, 'turned': 872, 'tv': 873, 'vote': 874, 'wanted': 875, 'writing': 876, 'ya': 877, '…': 878, '💘': 879, '😅': 880, '😢': 881, '30': 882, '8': 883, 'An': 884, 'Black': 885, 'CharlotteProtest': 886, 'For': 887, 'Get': 888, 'Hell': 889, 'John': 890, 'LOVE': 891, 'Michelle': 892, 'Obama': 893, 'Omg': 894, 'On': 895, 'Or': 896, 'Police': 897, 'Sometimes': 898, 'Texans': 899, 'USA': 900, 'Val': 901, 'Very': 902, 'WTF': 903, '[': 904, 'affliction': 905, 'aggravate': 906, 'air': 907, 'annoyed': 908, 'awesome': 909, 'awkward': 910, 'become': 911, 'bill': 912, 'bitch': 913, 'card': 914, 'chirp': 915, 'control': 916, 'cops': 917, 'cover': 918, 'cut': 919, 'cute': 920, 'deep': 921, 'dismal': 922, 'dog': 923, 'due': 924, 'dumb': 925, 'dying': 926, 'each': 927, 'entire': 928, 'etc': 929, 'exactly': 930, 'experience': 931, 'facts': 932, 'faith': 933, 'fight': 934, 'final': 935, 'forgot': 936, 'forward': 937, 'fright': 938, 'fuckin': 939, 'gloom': 940, 'hearty': 941, 'heyday': 942, 'incense': 943, 'info': 944, 'infuriate': 945, 'interview': 946, 'irate': 947, 'joyous': 948, 'knew': 949, 'knows': 950, 'line': 951, 'listening': 952, 'low': 953, 'lying': 954, 'major': 955, 'meant': 956, 'meet': 957, 'mood': 958, 'movies': 959, 'names': 960, 'nation': 961, 'non': 962, 'obviously': 963, 'ones': 964, 'open': 965, 'peace': 966, 'pick': 967, 'pm': 968, 'problems': 969, 'process': 970, 'protest': 971, 'question': 972, 'race': 973, 'reading': 974, 'red': 975, 'rejoice': 976, 'scene': 977, 'second': 978, 'seem': 979, 'self': 980, 'sent': 981, 'series': 982, 'smh': 983, 'stopped': 984, 'super': 985, 'swear': 986, 'sweet': 987, 'terrific': 988, 'ticket': 989, 'tiff': 990, 'till': 991, 'trash': 992, 'tried': 993, 'truly': 994, 'w/': 995, 'ways': 996, 'went': 997, 'won': 998, 'y': 999, 'yes': 1000, '’s': 1001, '😕': 1002, '😘': 1003, '😷': 1004, '🤔': 1005, '11': 1006, '18': 1007, '9': 1008, 'BB18': 1009, 'BS': 1010, 'Bloody': 1011, 'Candice': 1012, 'City': 1013, 'Dear': 1014, 'Feeling': 1015, 'Getting': 1016, 'Go': 1017, 'Hope': 1018, 'IT': 1019, 'Indian': 1020, 'LOL': 1021, 'Literally': 1022, 'Mary': 1023, 'May': 1024, 'Maybe': 1025, 'Most': 1026, 'New': 1027, 'Please': 1028, 'Rojo': 1029, 'Snapchat': 1030, 'Still': 1031, 'UNGA': 1032, 'Will': 1033, 'Yes': 1034, '\\\\n': 1035, ']': 1036, 'able': 1037, 'animosity': 1038, 'answer': 1039, 'assume': 1040, 'balls': 1041, 'behind': 1042, 'bet': 1043, 'box': 1044, 'broke': 1045, 'bus': 1046, 'calling': 1047, 'campaign': 1048, 'catch': 1049, 'character': 1050, 'cheerful': 1051, 'city': 1052, 'coffee': 1053, 'college': 1054, 'comedy': 1055, 'completely': 1056, 'cool': 1057, 'dad': 1058, 'dangerous': 1059, 'dead': 1060, 'debate': 1061, 'decide': 1062, 'definitely': 1063, 'depressed': 1064, 'difference': 1065, 'drive': 1066, 'dropped': 1067, 'drunk': 1068, 'dry': 1069, 'earth': 1070, 'easy': 1071, 'empty': 1072, 'exact': 1073, 'expected': 1074, 'fake': 1075, 'fall': 1076, 'favorite': 1077, 'fine': 1078, 'floor': 1079, 'football': 1080, 'force': 1081, 'frowning': 1082, 'games': 1083, 'garbage': 1084, 'group': 1085, 'gym': 1086, 'haha': 1087, 'hath': 1088, 'held': 1089, 'important': 1090, 'involved': 1091, 'irritation': 1092, 'key': 1093, 'kik': 1094, 'kitchen': 1095, 'lack': 1096, 'laugh': 1097, 'laughing': 1098, 'leadership': 1099, 'letting': 1100, 'losers': 1101, 'memories': 1102, 'met': 1103, 'missed': 1104, 'mistake': 1105, 'mope': 1106, 'mother': 1107, 'move': 1108, 'mufc': 1109, 'nigga': 1110, 'office': 1111, 'pain': 1112, 'photo': 1113, 'pic': 1114, 'pics': 1115, 'picture': 1116, 'positive': 1117, 'president': 1118, 'pull': 1119, 'putting': 1120, 'queue': 1121, 'radio': 1122, 'rape': 1123, 'reality': 1124, 'respond': 1125, 'reverse': 1126, 'revolting': 1127, 'rock': 1128, 'rules': 1129, 'scrum': 1130, 'set': 1131, 'shooting': 1132, 'shows': 1133, 'shut': 1134, 'simple': 1135, 'single': 1136, 'smoke': 1137, 'somebody': 1138, 'son': 1139, 'song': 1140, 'spider': 1141, 'stand': 1142, 'starting': 1143, 'starts': 1144, 'stay': 1145, 'stomach': 1146, 'style': 1147, 'sucks': 1148, 'sulk': 1149, 'support': 1150, 'suppose': 1151, 'surprised': 1152, 'tantrums': 1153, 'telling': 1154, 'tho': 1155, 'three': 1156, 'train': 1157, 'turns': 1158, 'tweets': 1159, 'v': 1160, 'voice': 1161, 'walk': 1162, 'weekend': 1163, 'woke': 1164, 'worried': 1165, 'worth': 1166, 'yesterday': 1167, 'young': 1168, 'yr': 1169, 'zero': 1170, '’re': 1171, '💔': 1172, '💦': 1173, '......': 1174, '2nd': 1175, '3rd': 1176, '40': 1177, 'ALL': 1178, 'After': 1179, 'Anger': 1180, 'Any': 1181, 'BT': 1182, 'Because': 1183, 'Birthday': 1184, 'Celtic': 1185, 'Does': 1186, 'Everything': 1187, 'FF': 1188, 'First': 1189, 'Fucking': 1190, 'Glad': 1191, 'Having': 1192, 'Honestly': 1193, 'IS': 1194, 'Jesus': 1195, 'Kik': 1196, 'LA': 1197, 'Lord': 1198, 'MHChat': 1199, 'Manchester': 1200, 'Need': 1201, 'North': 1202, 'Pak': 1203, 'Pizza': 1204, 'Pretty': 1205, 'Really': 1206, 'Saturday': 1207, 'See': 1208, 'Texas': 1209, 'Think': 1210, 'Time': 1211, 'United': 1212, 'White': 1213, 'Wish': 1214, 'World': 1215, 'Yeah': 1216, '\\\\n\\\\n': 1217, 'ability': 1218, 'across': 1219, 'acting': 1220, 'action': 1221, 'address': 1222, 'adult': 1223, 'advice': 1224, 'alarming': 1225, 'annoying': 1226, 'anti': 1227, 'anyway': 1228, 'anywhere': 1229, 'argument': 1230, 'article': 1231, 'avoid': 1232, 'b': 1233, 'ball': 1234, 'beyond': 1235, 'blame': 1236, 'blind': 1237, 'born': 1238, 'bottle': 1239, 'bought': 1240, 'brought': 1241, 'btw': 1242, 'busy': 1243, 'butter': 1244, 'came': 1245, 'cantsleep': 1246, 'case': 1247, 'challenge': 1248, 'chances': 1249, 'changing': 1250, 'channel': 1251, 'chuckle': 1252, 'clear': 1253, 'clown': 1254, 'collect': 1255, 'conflict': 1256, 'crimes': 1257, 'cross': 1258, 'cunt': 1259, 'cup': 1260, 'current': 1261, 'cuz': 1262, 'date': 1263, 'decided': 1264, 'despite': 1265, 'disheartened': 1266, 'distracting': 1267, 'distrust': 1268, 'dm': 1269, 'drinking': 1270, 'drop': 1271, 'em': 1272, 'emo': 1273, 'energy': 1274, 'everybody': 1275, 'evil': 1276, 'exhausted': 1277, 'express': 1278, 'fearing': 1279, 'finish': 1280, 'focus': 1281, 'followers': 1282, 'foot': 1283, 'form': 1284, 'fret': 1285, 'fucked': 1286, 'gate': 1287, 'gay': 1288, 'grieve': 1289, 'growing': 1290, 'gt': 1291, 'harder': 1292, 'hatred': 1293, 'himself': 1294, 'hurt': 1295, 'hurts': 1296, 'ignorance': 1297, 'imagine': 1298, 'inflame': 1299, 'injustice': 1300, 'issue': 1301, 'jazz': 1302, 'jovial': 1303, 'joy': 1304, 'juggle': 1305, 'jump': 1306, 'justice': 1307, 'keeps': 1308, 'kikme': 1309, 'knowing': 1310, 'likes': 1311, 'longer': 1312, 'losing': 1313, 'loved': 1314, 'luck': 1315, 'lunch': 1316, 'mins': 1317, 'mom': 1318, 'momma': 1319, 'monster': 1320, 'murder': 1321, 'near': 1322, 'nope': 1323, 'normal': 1324, 'offensive': 1325, 'opinion': 1326, 'opportunity': 1327, 'others': 1328, 'otherwise': 1329, 'parking': 1330, 'pissed': 1331, 'policy': 1332, 'politics': 1333, 'possible': 1334, 'pressure': 1335, 'promise': 1336, 'protests': 1337, 'pun': 1338, 'punch': 1339, 'punny': 1340, 'questions': 1341, 'quite': 1342, 're': 1343, 'recent': 1344, 'reply': 1345, 'result': 1346, 'rich': 1347, 'round': 1348, 'rude': 1349, 'running': 1350, 'secret': 1351, 'seek': 1352, 'sees': 1353, 'services': 1354, 'sex': 1355, 'shall': 1356, 'shitty': 1357, 'silence': 1358, 'sister': 1359, 'sitting': 1360, 'somewhere': 1361, 'spirit': 1362, 'storm': 1363, 'stress': 1364, 'struggle': 1365, 'summer': 1366, 'supporting': 1367, 'taste': 1368, 'tells': 1369, 'themselves': 1370, 'tickets': 1371, 'town': 1372, 'upset': 1373, 'useless': 1374, 'version': 1375, 'wake': 1376, 'wall': 1377, 'water': 1378, 'wearing': 1379, 'whatever': 1380, 'wife': 1381, 'wind': 1382, 'wished': 1383, 'wonderful': 1384, 'written': 1385, '☹': 1386, '️️': 1387, '🏻': 1388, '🏾': 1389, '😆': 1390, '😞': 1391, '😬': 1392, '🙂': 1393, '100': 1394, '13': 1395, '16': 1396, '48': 1397, '50': 1398, 'AND': 1399, 'Absolutely': 1400, 'Actually': 1401, 'Am': 1402, 'American': 1403, 'Anyone': 1404, 'As': 1405, 'Australia': 1406, 'B': 1407, 'Be': 1408, 'Been': 1409, 'Cam': 1410, 'Canada': 1411, 'Christmas': 1412, 'Come': 1413, 'Day': 1414, 'Don': 1415, 'EVER': 1416, 'Ever': 1417, 'Facebook': 1418, 'Fall': 1419, 'Fox': 1420, 'George': 1421, 'Going': 1422, 'Ha': 1423, 'Hate': 1424, 'Her': 1425, 'Hi': 1426, 'Home': 1427, 'Houston': 1428, 'Hut': 1429, 'Imagine': 1430, 'Iraq': 1431, 'Islam': 1432, 'Its': 1433, 'Joey': 1434, 'LOST': 1435, 'Lady': 1436, 'Let': 1437, 'LethalWeapon': 1438, 'Listening': 1439, 'Looks': 1440, 'Mark': 1441, 'Me': 1442, 'Mel': 1443, 'Moses': 1444, 'Muslims': 1445, 'N': 1446, 'NO': 1447, 'NawazSharif': 1448, 'October': 1449, 'Old': 1450, 'Once': 1451, 'Ortiz': 1452, 'PeopleLikeMeBecause': 1453, 'Peter': 1454, 'Right': 1455, 'Russia': 1456, 'Smh': 1457, 'Someone': 1458, 'Sorry': 1459, 'Step': 1460, 'Stop': 1461, 'Stuck': 1462, 'Sue': 1463, 'Sunday': 1464, 'Sure': 1465, 'Those': 1466, 'Too': 1467, 'Trying': 1468, 'Twain': 1469, 'Typical': 1470, 'UN': 1471, 'Watching': 1472, 'Way': 1473, 'Worst': 1474, 'Would': 1475, 'Wow': 1476, 'Wrong': 1477, \"Y'all\": 1478, 'YOU': 1479, 'Yet': 1480, 'accepted': 1481, 'accounts': 1482, 'add': 1483, 'adrenaline': 1484, 'adults': 1485, 'alternate': 1486, 'apart': 1487, 'apparently': 1488, 'asleep': 1489, 'atmosphere': 1490, 'attention': 1491, 'average': 1492, 'baby': 1493, 'bag': 1494, 'bars': 1495, 'becoming': 1496, 'bees': 1497, 'begin': 1498, 'blog': 1499, 'blow': 1500, 'board': 1501, 'books': 1502, 'boss': 1503, 'bout': 1504, 'boys': 1505, 'brain': 1506, 'bringing': 1507, 'bro': 1508, 'brothers': 1509, 'brown': 1510, 'bubble': 1511, 'build': 1512, 'bunch': 1513, 'calm': 1514, 'changes': 1515, 'choose': 1516, 'church': 1517, 'clouded': 1518, 'clue': 1519, 'cold': 1520, 'comments': 1521, 'company': 1522, 'complain': 1523, 'con': 1524, 'concept': 1525, 'confused': 1526, 'constant': 1527, 'constantly': 1528, 'conversation': 1529, 'couple': 1530, 'crash': 1531, 'creepy': 1532, 'crime': 1533, 'cure': 1534, 'dashed': 1535, 'data': 1536, 'dating': 1537, 'daunting': 1538, 'decision': 1539, 'delete': 1540, 'delivered': 1541, 'deserves': 1542, 'destroyed': 1543, 'difficulty': 1544, 'dire': 1545, 'disappointed': 1546, 'dislike': 1547, 'divided': 1548, 'dollar': 1549, 'doom': 1550, 'double': 1551, 'draw': 1552, 'earlier': 1553, 'eating': 1554, 'election': 1555, 'emoji': 1556, 'emotions': 1557, 'enjoy': 1558, 'epic': 1559, 'events': 1560, 'evolution': 1561, 'ex': 1562, 'exhilaration': 1563, 'exist': 1564, 'expensive': 1565, 'experiences': 1566, 'explain': 1567, 'eye': 1568, 'faced': 1569, 'fam': 1570, 'fashion': 1571, 'father': 1572, 'favor': 1573, 'female': 1574, 'fest': 1575, 'fill': 1576, 'filled': 1577, 'fingers': 1578, 'finished': 1579, 'fit': 1580, 'fix': 1581, 'flu': 1582, 'folks': 1583, 'forth': 1584, 'fraud': 1585, 'freaked': 1586, 'frustration': 1587, 'gameface': 1588, 'gaming': 1589, 'gen': 1590, 'ghastly': 1591, 'ghost': 1592, 'gives': 1593, 'goal': 1594, 'goals': 1595, 'govt': 1596, 'grow': 1597, 'hahaha': 1598, 'handle': 1599, 'hatered': 1600, 'heads': 1601, 'helping': 1602, 'hide': 1603, 'hockey': 1604, 'hopeful': 1605, 'houses': 1606, 'iPhone': 1607, 'ideas': 1608, 'ill': 1609, 'immediately': 1610, 'impossible': 1611, 'inconsolable': 1612, 'instagram': 1613, 'instantly': 1614, 'interesting': 1615, 'internet': 1616, 'islam': 1617, 'join': 1618, 'jokes': 1619, 'juz': 1620, 'keys': 1621, 'kick': 1622, 'lately': 1623, 'learn': 1624, 'leaves': 1625, 'leaving': 1626, 'lie': 1627, 'likely': 1628, 'lip': 1629, 'loathing': 1630, 'loss': 1631, 'loud': 1632, 'lovely': 1633, 'main': 1634, 'mate': 1635, 'meeting': 1636, 'members': 1637, 'mention': 1638, 'mhchat': 1639, 'middle': 1640, 'midnight': 1641, 'million': 1642, 'mindfulness': 1643, 'minute': 1644, 'missing': 1645, 'mouth': 1646, 'moved': 1647, 'naked': 1648, 'nap': 1649, 'nasty': 1650, 'needed': 1651, 'nevertrump': 1652, 'nobody': 1653, 'nose': 1654, 'nudes': 1655, 'nut': 1656, 'omg': 1657, 'opened': 1658, 'opening': 1659, 'options': 1660, 'package': 1661, 'paper': 1662, 'peanut': 1663, 'personal': 1664, 'physically': 1665, 'pigs': 1666, 'piss': 1667, 'pitched': 1668, 'pizza': 1669, 'plan': 1670, 'plays': 1671, 'political': 1672, 'population': 1673, 'position': 1674, 'posts': 1675, 'present': 1676, 'prices': 1677, 'pride': 1678, 'prison': 1679, 'promising': 1680, 'proud': 1681, 'provocation': 1682, 'purpose': 1683, 'rap': 1684, 'rapper': 1685, 'react': 1686, 'received': 1687, 'record': 1688, 'refuse': 1689, 'relationship': 1690, 'relationships': 1691, 'remove': 1692, 'replace': 1693, 'response': 1694, 'righteous': 1695, 'ring': 1696, 'riots': 1697, 'rn': 1698, 'roommate': 1699, 'ruffle': 1700, 'ruining': 1701, 'rush': 1702, 'sales': 1703, 'scorned': 1704, 'seasons': 1705, 'sedate': 1706, 'sentence': 1707, 'shoot': 1708, 'shudder': 1709, 'sing': 1710, 'sky': 1711, 'sleepless': 1712, 'slow': 1713, 'smells': 1714, 'snapme': 1715, 'soft': 1716, 'somehow': 1717, 'source': 1718, 'specific': 1719, 'spend': 1720, 'statement': 1721, 'stores': 1722, 'struggling': 1723, 'stuck': 1724, 'study': 1725, 'suggest': 1726, 'swallow': 1727, 'szn': 1728, 'tart': 1729, 'tax': 1730, 'teacher': 1731, 'text': 1732, 'thousands': 1733, 'throw': 1734, 'touch': 1735, 'track': 1736, 'tribute': 1737, 'tube': 1738, 'ugh': 1739, 'understanding': 1740, 'upon': 1741, 'upside': 1742, 'uses': 1743, 'usual': 1744, 'values': 1745, 'w/o': 1746, 'walking': 1747, 'wasted': 1748, 'wear': 1749, 'weather': 1750, 'wild': 1751, 'willing': 1752, 'winning': 1753, 'wins': 1754, 'worrying': 1755, 'worthless': 1756, 'x': 1757, '\\xa0': 1758, '–': 1759, '‘': 1760, '’': 1761, '€': 1762, '☺': 1763, '✌': 1764, '🍑': 1765, '🏼': 1766, '💕': 1767, '😁': 1768, '😋': 1769, '😏': 1770, '😒': 1771, '😪': 1772, '😰': 1773, '😴': 1774, '🙌': 1775, '🙏': 1776, '🤗': 1777, '0': 1778, '17': 1779, '2b': 1780, '2day': 1781, '400': 1782, '45': 1783, '5:7\\\\nThrow': 1784, '70': 1785, '90': 1786, '90s': 1787, ';)': 1788, 'AFLCatsSwans': 1789, 'AGAIN': 1790, 'AHS': 1791, 'Also': 1792, 'Although': 1793, 'Amendment': 1794, 'Angelina': 1795, 'Astros': 1796, 'Atlanta': 1797, 'Bakewell': 1798, 'Best': 1799, 'Big': 1800, 'Blue': 1801, 'Bob': 1802, 'Boys': 1803, 'Brad': 1804, 'Bring': 1805, 'Brown': 1806, 'Camden': 1807, 'Chelsea': 1808, 'Chris': 1809, 'Christie': 1810, 'Clinton': 1811, 'D': 1812, 'DO': 1813, 'Damn': 1814, 'Depression': 1815, 'Dm': 1816, 'Donald': 1817, 'Drop': 1818, 'Either': 1819, 'Election2016': 1820, 'England': 1821, 'English': 1822, 'Especially': 1823, 'Every': 1824, 'Fear': 1825, 'Flight': 1826, 'Follow': 1827, 'French': 1828, 'Fuck': 1829, 'GET': 1830, 'Germany': 1831, 'Give': 1832, 'Gon': 1833, 'Great': 1834, 'HATE': 1835, 'Halloween': 1836, 'Has': 1837, 'His': 1838, 'IN': 1839, 'Internet': 1840, 'Island': 1841, 'JC': 1842, 'Jack': 1843, 'Johnson': 1844, 'KEEP': 1845, 'Kardashian': 1846, 'Kashmir': 1847, 'Kerry': 1848, 'L': 1849, 'LEO': 1850, 'LORD': 1851, 'Laden': 1852, 'Last': 1853, 'Left': 1854, 'Life': 1855, 'Lol': 1856, 'Might': 1857, 'Mom': 1858, 'More': 1859, 'Muslim': 1860, 'NL': 1861, 'NOTHING': 1862, 'Nawaz': 1863, 'News': 1864, 'Nice': 1865, 'Nope': 1866, 'Nothing': 1867, 'November': 1868, 'ON': 1869, 'Ok': 1870, 'Oregon': 1871, 'Our': 1872, 'POV': 1873, 'Panic': 1874, 'Poor': 1875, 'President': 1876, 'Putin': 1877, 'RIGHT': 1878, 'Rush': 1879, 'Russian': 1880, 'Ryan': 1881, 'S': 1882, 'Sam': 1883, 'Sat': 1884, 'Scott': 1885, 'September': 1886, 'Should': 1887, 'Shoutout': 1888, 'Simon': 1889, 'Spain': 1890, 'Stephen': 1891, 'Sutton': 1892, 'Sydney': 1893, 'T': 1894, 'THE': 1895, 'Take': 1896, 'Taking': 1897, 'Taurus': 1898, 'TerenceCrutcher': 1899, 'Thought': 1900, 'To': 1901, 'Tonight': 1902, 'Tony': 1903, 'Try': 1904, 'Tulsa': 1905, 'Tumblr': 1906, 'U.S.': 1907, 'Ugh': 1908, 'Ustinov': 1909, 'Vote': 1910, 'WAR': 1911, 'Want': 1912, 'Watched': 1913, 'Wednesday': 1914, 'Williams': 1915, 'Working': 1916, 'Wtf': 1917, 'X': 1918, '\\\\nI': 1919, '_': 1920, 'abortion': 1921, 'acc': 1922, 'accept': 1923, 'acceptable': 1924, 'access': 1925, 'account': 1926, 'act': 1927, 'adorable': 1928, 'af': 1929, 'affair': 1930, 'album': 1931, 'albums': 1932, 'allow': 1933, 'along': 1934, 'amp;&amp': 1935, 'amwriting': 1936, 'angrily': 1937, 'animals': 1938, 'anxietyprobz': 1939, 'anxious': 1940, 'appearance': 1941, 'appears': 1942, 'arms': 1943, 'arrest': 1944, 'arrive': 1945, 'art': 1946, 'asking': 1947, 'atrocious': 1948, 'attitude': 1949, 'barely': 1950, 'based': 1951, 'basket': 1952, 'beat': 1953, 'became': 1954, 'beer': 1955, 'beings': 1956, 'bias': 1957, 'bigger': 1958, 'birth': 1959, 'blessed': 1960, 'block': 1961, 'blocks': 1962, 'blowing': 1963, 'bomb': 1964, 'booked': 1965, 'boring': 1966, 'bottom': 1967, 'breathless': 1968, 'brilliant': 1969, 'bring': 1970, 'brother': 1971, 'buses': 1972, 'butt': 1973, 'buying': 1974, 'cage': 1975, 'cam': 1976, 'canon': 1977, 'cares': 1978, 'carpet': 1979, 'carry': 1980, 'cat': 1981, 'cats': 1982, 'ccot': 1983, 'celebrity': 1984, 'charge': 1985, 'chase': 1986, 'chat': 1987, 'cheap': 1988, 'check': 1989, 'checked': 1990, 'checking': 1991, 'chicken': 1992, 'chill': 1993, 'choice': 1994, 'chronic': 1995, 'clean': 1996, 'clearly': 1997, 'cloud': 1998, 'clowns': 1999, 'club': 2000, 'cocks': 2001, 'code': 2002, 'commercial': 2003, 'community': 2004, 'concert': 2005, 'confident': 2006, 'considered': 2007, 'continue': 2008, 'cop': 2009, 'corrupt': 2010, 'cracks': 2011, 'create': 2012, 'cried': 2013, 'criticize': 2014, 'crossed': 2015, 'culture': 2016, 'currently': 2017, 'customers': 2018, 'customerservice': 2019, 'daily': 2020, 'damper': 2021, 'dancing': 2022, 'dealing': 2023, 'dear': 2024, 'decent': 2025, 'defending': 2026, 'defense': 2027, 'degree': 2028, 'deserve': 2029, 'designed': 2030, 'desire': 2031, 'dick': 2032, 'disabled': 2033, 'display': 2034, 'disturbed': 2035, 'divide': 2036, 'doctor': 2037, 'documentary': 2038, 'dreamornightmare': 2039, 'drink': 2040, 'driver': 2041, 'driving': 2042, 'droop': 2043, 'drove': 2044, 'drug': 2045, 'e': 2046, 'easily': 2047, 'economic': 2048, 'education': 2049, 'emails': 2050, 'emotional': 2051, 'ends': 2052, 'enemy': 2053, 'engine': 2054, 'environment': 2055, 'episodes': 2056, 'espresso': 2057, 'eval': 2058, 'eventually': 2059, 'everyday': 2060, 'excuse': 2061, 'exterior': 2062, 'fail': 2063, 'faking': 2064, 'famous': 2065, 'fancy': 2066, 'fandom': 2067, 'fat': 2068, 'faux': 2069, 'fav': 2070, 'favourite': 2071, 'fearful': 2072, 'fears': 2073, 'feathers': 2074, 'feelings': 2075, 'fellow': 2076, 'fiction': 2077, 'flag': 2078, 'foam': 2079, 'following': 2080, 'forest': 2081, 'forgive': 2082, 'forlorn': 2083, 'four': 2084, 'fr': 2085, 'franchise': 2086, 'freaking': 2087, 'freedom': 2088, 'frustrated': 2089, 'fuel': 2090, 'gas': 2091, 'general': 2092, 'generation': 2093, 'genius': 2094, 'gif': 2095, 'given': 2096, 'giving': 2097, 'glad': 2098, 'gold': 2099, 'government': 2100, 'green': 2101, 'grind': 2102, 'guts': 2103, 'hang': 2104, 'hating': 2105, 'health': 2106, 'heavy': 2107, 'height': 2108, 'helpful': 2109, 'hesitate': 2110, 'hey': 2111, 'hi': 2112, 'higher': 2113, 'highly': 2114, 'hoco': 2115, 'hopelessness': 2116, 'hoping': 2117, 'hospital': 2118, 'ignorant': 2119, 'incite': 2120, 'including': 2121, 'incredibly': 2122, 'indignant': 2123, 'indignation': 2124, 'industry': 2125, 'initially': 2126, 'innocent': 2127, 'inspiration': 2128, 'internationaldayofpeace': 2129, 'intimidation': 2130, 'invite': 2131, 'irony': 2132, 'irrelevant': 2133, 'japanese': 2134, 'jaunty': 2135, 'journey': 2136, 'jubilant': 2137, 'jumped': 2138, 'keeping': 2139, 'kisses': 2140, 'kurt': 2141, 'lackadaisical': 2142, 'lame': 2143, 'large': 2144, 'latest': 2145, 'law': 2146, 'leader': 2147, 'leads': 2148, 'learned': 2149, 'learning': 2150, 'legit': 2151, 'legs': 2152, 'lets': 2153, 'liar': 2154, 'light': 2155, 'lil': 2156, 'link': 2157, 'lived': 2158, 'll': 2159, 'local': 2160, 'loves': 2161, 'loving': 2162, 'lucky': 2163, 'machine': 2164, 'machines': 2165, 'male': 2166, 'mall': 2167, 'manages': 2168, 'manutd': 2169, 'married': 2170, 'matches': 2171, 'mates': 2172, 'meal': 2173, 'meaning': 2174, 'meds': 2175, 'melancholy': 2176, 'member': 2177, 'mentalhealth': 2178, 'merriment': 2179, 'messing': 2180, 'minds': 2181, 'minus': 2182, 'misogyny': 2183, 'mix': 2184, 'model': 2185, 'moon': 2186, 'moping': 2187, 'motivation': 2188, 'mum': 2189, 'nails': 2190, 'nearly': 2191, 'neighbor': 2192, 'neighbours': 2193, 'nervousness': 2194, 'net': 2195, 'network': 2196, 'nice': 2197, 'noise': 2198, 'nor': 2199, 'notfair': 2200, 'nowadays': 2201, 'number': 2202, 'odds': 2203, 'officer': 2204, 'officially': 2205, 'organization': 2206, 'outraged': 2207, 'outta': 2208, 'pages': 2209, 'pakistan': 2210, 'pass': 2211, 'pathetic': 2212, 'patronus': 2213, 'pause': 2214, 'penny': 2215, 'performance': 2216, 'personally': 2217, 'pervert': 2218, 'pessimism': 2219, 'phones': 2220, 'piece': 2221, 'pity': 2222, 'planned': 2223, 'plastic': 2224, 'pls': 2225, 'pointed': 2226, 'pool': 2227, 'pop': 2228, 'possibly': 2229, 'pour': 2230, 'practice': 2231, 'premiere': 2232, 'press': 2233, 'propaganda': 2234, 'protein': 2235, 'protesting': 2236, 'prove': 2237, 'public': 2238, 'push': 2239, 'pushing': 2240, 'pussy': 2241, 'quiet': 2242, 'quit': 2243, 'quotes': 2244, 'r': 2245, 'rain': 2246, 'ran': 2247, 'rappers': 2248, 'reaches': 2249, 'reaper': 2250, 'refs': 2251, 'refund': 2252, 'release': 2253, 'relevant': 2254, 'replaced': 2255, 'report': 2256, 'responsible': 2257, 'results': 2258, 'return': 2259, 'returned': 2260, 'ride': 2261, 'ridiculous': 2262, 'rights': 2263, 'ripping': 2264, 'rlly': 2265, 'rueful': 2266, 'runs': 2267, 'sat': 2268, 'saved': 2269, 'science': 2270, 'scowl': 2271, 'semester': 2272, 'server': 2273, 'shiver': 2274, 'showed': 2275, 'sign': 2276, 'signal': 2277, 'signed': 2278, 'silent': 2279, 'silly': 2280, 'simply': 2281, 'sis': 2282, 'slagging': 2283, 'sleeping': 2284, 'sleepy': 2285, 'smiles': 2286, 'smooth': 2287, 'society': 2288, 'sounds': 2289, 'space': 2290, 'speaking': 2291, 'speaks': 2292, 'speech': 2293, 'spin': 2294, 'spot': 2295, 'stadium': 2296, 'stans': 2297, 'star': 2298, 'stars': 2299, 'station': 2300, 'steal': 2301, 'stories': 2302, 'street': 2303, 'stressed': 2304, 'strong': 2305, 'subway': 2306, 'suck': 2307, 'sun': 2308, 'supporters': 2309, 'supports': 2310, 'swap': 2311, 'sweating': 2312, 'switch': 2313, 'swung': 2314, 'system': 2315, 'tag': 2316, 'talkin': 2317, 'target': 2318, 'tastes': 2319, 'tea': 2320, 'teaching': 2321, 'tear': 2322, 'teeth': 2323, 'temper': 2324, 'term': 2325, 'terms': 2326, 'terrify': 2327, 'therapist': 2328, 'thighs': 2329, 'thin': 2330, 'thinks': 2331, 'threat': 2332, 'threesome': 2333, 'tie': 2334, 'tilting': 2335, 'tip': 2336, 'tips': 2337, 'tolerance': 2338, 'topic': 2339, 'tournament': 2340, 'toward': 2341, 'tracking': 2342, 'training': 2343, 'transition': 2344, 'treat': 2345, 'treated': 2346, 'tree': 2347, 'trump': 2348, 'trust': 2349, 'turning': 2350, 'tweeting': 2351, 'twice': 2352, 'umbrage': 2353, 'ummm': 2354, 'unable': 2355, 'unfortunately': 2356, 'universal': 2357, 'unknown': 2358, 'update': 2359, 'uploaded': 2360, 've': 2361, 'via': 2362, 'videos': 2363, 'view': 2364, 'violence': 2365, 'voices': 2366, 'waited': 2367, 'walked': 2368, 'wanting': 2369, 'wash': 2370, 'waters': 2371, 'wave': 2372, 'wee': 2373, 'weird': 2374, 'whenever': 2375, 'whether': 2376, 'whilst': 2377, 'windows': 2378, 'wine': 2379, 'wondering': 2380, 'woods': 2381, 'works': 2382, 'worried?\\\\n1Peter': 2383, 'write': 2384, 'wwe': 2385, 'yay': 2386, 'yo': 2387, 'yours': 2388, 'youtube': 2389, '|': 2390, '~': 2391, '»': 2392, '’ve': 2393, '👌': 2394, '💀': 2395, '😈': 2396, '😐': 2397, '😓': 2398, '😥': 2399, '😱': 2400, '🙅': 2401, '#funny': 2402, \"'I\": 2403, '.......': 2404, '..........': 2405, '.@DIVAmagazine': 2406, '08': 2407, '1/4': 2408, '1000': 2409, '10000': 2410, '10k': 2411, '130': 2412, '148': 2413, '150': 2414, '19': 2415, '2/2': 2416, '2013': 2417, '22000': 2418, '23': 2419, '25': 2420, '28th': 2421, '2hour': 2422, '44.77': 2423, '4:18': 2424, '4min': 2425, '500thTest': 2426, '69th': 2427, '70s': 2428, '75p': 2429, \"7th'\": 2430, '80': 2431, '9/10': 2432, '90dayfiance': 2433, ':-(': 2434, ':-)': 2435, ':/': 2436, ':P': 2437, 'A.': 2438, 'AFL': 2439, 'ALDUB62ndWeeksary': 2440, 'ASAP': 2441, 'ATLtraffic': 2442, 'Aaaaarrrrgghhh': 2443, 'Aaron': 2444, 'Abood': 2445, 'Accessibility': 2446, 'Addair': 2447, 'Afghanistan': 2448, 'Akshay': 2449, 'Alan': 2450, 'Allen': 2451, 'Alloa': 2452, 'Amal': 2453, 'Amy': 2454, 'Annoys': 2455, 'Anytime': 2456, 'Apparently': 2457, 'Asian': 2458, 'Asked': 2459, 'Autumn': 2460, 'Avatar': 2461, 'AvoidMMT': 2462, 'Azerbaijan': 2463, 'BAD': 2464, 'BET': 2465, 'BOOK': 2466, 'BUGGER': 2467, 'BULLET': 2468, 'Back': 2469, 'Bad': 2470, 'Bailed': 2471, 'Band': 2472, 'Batman': 2473, 'Bayern': 2474, 'Beatles': 2475, 'Before': 2476, 'Belichick': 2477, 'Bell': 2478, 'Berry': 2479, 'Bes': 2480, 'BibleMotivate': 2481, 'Biggest': 2482, 'Bilal': 2483, 'Bin': 2484, 'Bitch': 2485, 'Blair': 2486, 'Blvd': 2487, 'Bojack': 2488, 'Bot': 2489, 'Brendon': 2490, 'Brexit': 2491, 'Brian': 2492, 'Bridges': 2493, 'British': 2494, 'Browns': 2495, 'BurkeRamsey': 2496, 'Burns': 2497, 'Bush/': 2498, 'Button': 2499, 'By': 2500, 'C': 2501, 'CB': 2502, 'CGI2016': 2503, 'COYS': 2504, 'CRAP': 2505, 'CURSED': 2506, 'Cadres': 2507, 'Canadian': 2508, 'Candace': 2509, 'Carrick': 2510, 'Cause': 2511, 'Championship': 2512, 'Channel': 2513, 'Chaos': 2514, 'Charlie': 2515, 'Chart': 2516, 'Checked': 2517, 'Cheer': 2518, 'Childhood': 2519, 'Christ': 2520, 'Circle': 2521, 'Civil': 2522, 'Clayton': 2523, 'Clooney': 2524, 'Compensation': 2525, 'Conclusion': 2526, 'Condolences': 2527, 'Contact': 2528, 'Contest': 2529, 'Corbyn': 2530, 'Cubs': 2531, 'Cumtribute': 2532, 'Customer': 2533, 'DEET': 2534, 'DM': 2535, 'DT': 2536, 'Dardanella': 2537, 'DarthVader': 2538, 'Dawson': 2539, 'Death': 2540, 'Democracy': 2541, 'Dentist': 2542, 'DesignatedSurvivor': 2543, 'Destined': 2544, 'Ding': 2545, 'Disney': 2546, \"Don't\": 2547, 'Dylan': 2548, 'ECT': 2549, 'EP': 2550, 'EZY864': 2551, 'Empire': 2552, 'End': 2553, 'Ended': 2554, 'Etep': 2555, 'Everybody': 2556, 'Everyone': 2557, 'Everywhere': 2558, 'ExtremeWorld': 2559, 'F': 2560, 'FALLING': 2561, 'FNAF': 2562, 'FR1005': 2563, 'FREE': 2564, 'FRICKING': 2565, 'FaceTime': 2566, 'False': 2567, 'Feds': 2568, 'Feels': 2569, 'Fellwinters': 2570, 'Ferguson': 2571, 'Ffs': 2572, 'Files': 2573, 'Finally': 2574, 'FirstDayofFall': 2575, 'Flint': 2576, 'Fml': 2577, 'Forever': 2578, 'Forgot': 2579, 'Foster': 2580, 'Francis': 2581, 'Free': 2582, 'FreeSpeech': 2583, 'Friedman': 2584, 'Frk': 2585, 'From': 2586, 'Fuckin': 2587, 'G': 2588, 'GAD': 2589, 'GADOT': 2590, 'GOD': 2591, 'GOTHAM': 2592, 'GP': 2593, 'GT': 2594, 'GTFO': 2595, 'GaGa': 2596, 'Gabriella': 2597, 'Gahh': 2598, 'Geo': 2599, 'Georges': 2600, 'German': 2601, 'Gordon': 2602, 'Government': 2603, 'Grande': 2604, 'Grindah': 2605, 'HANDS': 2606, 'HIM': 2607, 'HOLY': 2608, 'HOUSE': 2609, 'HOUvsNE': 2610, 'HUFFLEPUFF': 2611, 'Haha': 2612, 'Halfway': 2613, 'Headed': 2614, 'Heard': 2615, 'Here': 2616, 'Hermione': 2617, 'Hitler': 2618, 'Hoax': 2619, 'Homes': 2620, 'Honor': 2621, 'House': 2622, 'Howl': 2623, 'HuckFP2': 2624, 'Hun': 2625, \"I'll\": 2626, 'ICQ': 2627, 'IDriveAJeep': 2628, 'INSANE': 2629, 'INSIDE': 2630, 'INV': 2631, 'ISIS': 2632, 'Ill': 2633, 'Inner': 2634, 'Insect': 2635, 'Instagram': 2636, 'Islamic': 2637, 'Israel': 2638, 'Italy': 2639, 'Ivan': 2640, 'James': 2641, 'Jeans': 2642, 'Jenner': 2643, 'Jersey': 2644, 'Joe': 2645, 'Join': 2646, 'Jolie': 2647, 'JonBenet': 2648, 'Jorge': 2649, 'Jose': 2650, 'Jr': 2651, 'Judge': 2652, 'K': 2653, 'KILL': 2654, 'KX4': 2655, 'Keep': 2656, 'Kinda': 2657, 'Know': 2658, 'Knowing': 2659, 'LET': 2660, 'LIKE': 2661, 'LMAO': 2662, 'LOLOLOL': 2663, 'Labour': 2664, 'Lane': 2665, 'Late': 2666, 'Laying': 2667, 'Letts': 2668, 'Lewis': 2669, 'LifeOnTheRoad': 2670, 'Lingys': 2671, 'Lisa': 2672, 'Lithuania': 2673, 'Living': 2674, 'Lmboo': 2675, 'Lo': 2676, 'London': 2677, 'Longer': 2678, 'Lost': 2679, 'Loving': 2680, 'Luthansa': 2681, 'MDW': 2682, 'ME': 2683, 'MOMENT:\\\\nIf': 2684, 'MOVE': 2685, 'Make': 2686, 'Makes': 2687, 'Making': 2688, 'Man': 2689, 'Marcus': 2690, 'Matty': 2691, 'Max': 2692, 'Meanwhile': 2693, 'Mesquite': 2694, 'Migraine': 2695, 'MilSpeak': 2696, 'Mine': 2697, 'Miss': 2698, 'Missed': 2699, 'Monday': 2700, 'Mondays': 2701, 'Moving': 2702, 'N.': 2703, 'NC': 2704, 'NJDevils': 2705, 'NY': 2706, 'NYC': 2707, 'Narley': 2708, 'Natalie': 2709, 'Netflix': 2710, 'Network': 2711, 'Newton': 2712, 'Niggas': 2713, 'O': 2714, 'OBrien': 2715, 'OFF': 2716, 'OK': 2717, 'OOOOOOOOH': 2718, 'ObamaLegacy': 2719, 'Okay': 2720, 'Oriole': 2721, 'Osama': 2722, 'Other': 2723, 'Overwhelming': 2724, 'PM': 2725, 'PR': 2726, 'Pale': 2727, 'Pam': 2728, 'Panpiper': 2729, 'Park': 2730, 'Pats': 2731, 'Pete': 2732, 'PoliceShootings': 2733, 'Political': 2734, 'Price': 2735, 'Pride': 2736, 'Projection': 2737, 'Q&amp;A': 2738, 'QB': 2739, 'Quinn': 2740, 'REAL': 2741, 'RHOBH': 2742, 'RIP': 2743, 'RM': 2744, 'Rage': 2745, 'Random': 2746, 'Rangers': 2747, 'Raw': 2748, 'Re': 2749, 'Reading': 2750, 'Reason': 2751, 'Recording': 2752, 'Reflection': 2753, 'Remember': 2754, 'Remembering': 2755, 'RiggedSystem': 2756, 'River': 2757, 'Rock': 2758, 'Romero': 2759, 'Ryanair': 2760, 'S.': 2761, 'SHOES': 2762, 'SILVER': 2763, 'SIVA': 2764, 'SLC': 2765, 'SNAKES': 2766, 'SO': 2767, 'SOMEONE': 2768, 'SR1': 2769, 'STD': 2770, 'STOP': 2771, 'Sam-': 2772, 'Same': 2773, 'San': 2774, 'Save': 2775, 'Scorpio': 2776, 'Season': 2777, 'Seeing': 2778, 'Sept': 2779, 'Seriously': 2780, 'Shame': 2781, 'Sharia': 2782, 'Sharif': 2783, 'Shawty': 2784, 'Sigh': 2785, 'Sir': 2786, 'Sitting': 2787, 'Skittles': 2788, 'Sky': 2789, 'Sleep': 2790, 'SleeplessNight': 2791, 'Slough': 2792, 'Sofas': 2793, 'Something': 2794, 'Sounds': 2795, 'Sport': 2796, 'Spread': 2797, 'Staff': 2798, 'Start': 2799, 'Started': 2800, 'Starting': 2801, 'State': 2802, 'Stay': 2803, 'Stehr': 2804, 'Stood': 2805, 'Summer': 2806, 'Swear': 2807, 'Sweden': 2808, 'Syria': 2809, 'T.roles': 2810, 'THAT': 2811, 'THIS': 2812, 'TMS': 2813, 'TNF': 2814, 'T_T': 2815, 'Terrorism': 2816, 'Test': 2817, 'Than': 2818, 'TheNiceBot': 2819, 'Their': 2820, 'Thinking': 2821, 'ThisIsUs': 2822, 'ThursdayThoughts': 2823, 'Tip': 2824, 'Tokyo': 2825, 'Top': 2826, 'Toronto': 2827, 'Tour': 2828, 'Toxin': 2829, 'Tremor!!!\\\\n': 2830, 'Troy': 2831, 'Trump2016': 2832, 'Tweeting': 2833, 'Two': 2834, 'UK': 2835, 'UP': 2836, 'UPLIFT': 2837, 'UR': 2838, 'USCitizens': 2839, 'USE': 2840, 'UUUUGGGGHHHHHHHHH': 2841, 'Uber': 2842, 'Unbelievable': 2843, 'Update': 2844, 'UriAttack': 2845, 'Use': 2846, 'Used': 2847, 'Vale': 2848, 'Vic': 2849, 'Vice': 2850, 'Victim': 2851, 'WCH2016': 2852, 'WHEN': 2853, 'WOW': 2854, 'Wait': 2855, 'WannaGetAway': 2856, 'War': 2857, 'Weiner': 2858, 'Welcome': 2859, 'Were': 2860, 'Whaaaat': 2861, 'Which': 2862, 'While': 2863, 'WiFi': 2864, 'William': 2865, 'Winston': 2866, 'Wishing': 2867, 'Worry': 2868, 'XS(evenXXS': 2869, 'Xbox': 2870, 'YES': 2871, 'YOUR': 2872, 'Yanks': 2873, 'Yep': 2874, 'Z': 2875, 'Zero': 2876, 'Zika': 2877, '\\\\nGo': 2878, \"\\\\nIsn't\": 2879, '\\\\nToday': 2880, '\\\\nWe': 2881, '\\\\n\\\\nWhen': 2882, '\\\\n―': 2883, '`': 2884, 'above': 2885, 'abt': 2886, 'accidentally': 2887, 'achieve': 2888, 'acrylic': 2889, 'acts': 2890, 'actual': 2891, 'added': 2892, 'addition': 2893, 'administration': 2894, 'admire': 2895, 'advantage': 2896, 'affairs': 2897, 'affection': 2898, 'affront': 2899, 'ahs6': 2900, 'aid': 2901, 'airline': 2902, 'airport': 2903, 'alarms': 2904, 'alive': 2905, 'almond': 2906, 'aloneinthecity': 2907, 'alwaysdelayed': 2908, 'america': 2909, 'americano': 2910, 'amount': 2911, 'amp;hit': 2912, 'analogy': 2913, 'and/or': 2914, 'android': 2915, 'angryman': 2916, 'animal': 2917, 'animalrights': 2918, 'animation': 2919, 'anniversary': 2920, 'annoy': 2921, 'anybody': 2922, 'apartment': 2923, 'appauling': 2924, 'appealing': 2925, 'appendix': 2926, 'appointment': 2927, 'appreciated': 2928, 'apprehension': 2929, 'appropriate': 2930, 'arch': 2931, 'armed': 2932, 'arse': 2933, 'artists': 2934, 'asian': 2935, 'associative': 2936, 'astounded': 2937, 'atleastIhaveBuffy': 2938, 'attached': 2939, 'attacking': 2940, 'attendance': 2941, 'attended': 2942, 'auction': 2943, 'author': 2944, 'autocorrect': 2945, 'available': 2946, 'averaging': 2947, 'awestruck': 2948, 'backing': 2949, 'backward': 2950, 'badger': 2951, 'badly': 2952, 'bake': 2953, 'bakes': 2954, 'band': 2955, 'bankrupt': 2956, 'banter': 2957, 'bar': 2958, 'bare': 2959, 'barista': 2960, 'barred': 2961, 'barrier': 2962, 'bash': 2963, 'basic': 2964, 'basically': 2965, 'bass': 2966, 'bastard': 2967, 'bat': 2968, 'battle': 2969, 'battleground': 2970, 'bb': 2971, 'bbfinale': 2972, 'bcuz': 2973, 'bday': 2974, 'bdaygirl': 2975, 'beans': 2976, 'beasts': 2977, 'beating': 2978, 'beats': 2979, 'bee': 2980, 'beef': 2981, 'began': 2982, 'behavior': 2983, 'belly': 2984, 'beneath': 2985, 'beyondajoke': 2986, 'bf': 2987, 'bibleverse': 2988, 'bigotry': 2989, 'binary': 2990, 'bitches': 2991, 'bits': 2992, 'bizhour': 2993, 'blackmarket': 2994, 'blargh': 2995, 'blast': 2996, 'blessings': 2997, 'blew': 2998, 'blissful': 2999, 'blithe': 3000, 'blm': 3001, 'blocked': 3002, 'blooded': 3003, 'blue': 3004, 'boots': 3005, 'bother': 3006, 'boxes': 3007, 'boxing': 3008, 'breaking': 3009, 'breaks': 3010, 'breath': 3011, 'breathe': 3012, 'bridges': 3013, 'brings': 3014, 'broadband': 3015, 'brutal': 3016, 'buck': 3017, 'bug': 3018, 'buggy': 3019, 'building': 3020, 'bullied': 3021, 'bullshit': 3022, 'buoyant': 3023, 'bureaucrat': 3024, 'businesses': 3025, 'butterflies': 3026, 'buzzing': 3027, 'bye': 3028, 'cab': 3029, 'cable': 3030, 'caffeine': 3031, 'cake': 3032, 'callbacks': 3033, 'calls': 3034, 'cancel': 3035, 'canceled': 3036, 'cancelled': 3037, 'candidate': 3038, 'candles': 3039, 'candy': 3040, 'caption': 3041, 'career': 3042, 'careful': 3043, 'carries': 3044, 'cases': 3045, 'caught': 3046, 'causing': 3047, 'ceased': 3048, 'celebeffer': 3049, 'celebrate': 3050, 'celebrated': 3051, 'century': 3052, 'cereal': 3053, 'certain': 3054, 'certainly': 3055, 'challenges': 3056, 'champs': 3057, 'chaos': 3058, 'chapter22': 3059, 'charger': 3060, 'charging': 3061, 'chases': 3062, 'chavs': 3063, 'cheerchick': 3064, 'cheerfulness': 3065, 'cheerleaders': 3066, 'chemical': 3067, 'chief': 3068, 'childhood': 3069, 'chris': 3070, 'chrome': 3071, 'chuck': 3072, 'circumstances': 3073, 'civilians': 3074, 'classes': 3075, 'classic': 3076, 'cleaning': 3077, 'click': 3078, 'clients': 3079, 'closer': 3080, 'clothes': 3081, 'coach': 3082, 'coached': 3083, 'coaches': 3084, 'cocktribute': 3085, 'cod': 3086, 'coincidence': 3087, 'color': 3088, 'comfortable': 3089, 'comic': 3090, 'commentary': 3091, 'commercials': 3092, 'complaint': 3093, 'complete': 3094, 'compliment': 3095, 'concerns': 3096, 'concerts': 3097, 'conflicted': 3098, 'confusion': 3099, 'cons': 3100, 'conscience': 3101, 'considering': 3102, 'constitutional': 3103, 'contained': 3104, 'content': 3105, 'contention': 3106, 'contracts': 3107, 'convenient': 3108, 'convinced': 3109, 'cookies': 3110, 'cooking': 3111, 'coping': 3112, 'copy': 3113, 'corn': 3114, 'corporate': 3115, 'corridor': 3116, 'costs': 3117, 'countries': 3118, 'coupon': 3119, 'courage': 3120, 'couscous': 3121, 'covered': 3122, 'covering': 3123, 'coward': 3124, 'coworker': 3125, 'coworkers': 3126, 'cramps': 3127, 'crashes': 3128, 'created': 3129, 'cringe': 3130, 'cruel': 3131, 'crushes': 3132, 'cult': 3133, 'cum': 3134, 'curiosity': 3135, 'cyber': 3136, 'daddy': 3137, 'dads': 3138, 'dailyfeels': 3139, 'dam': 3140, 'damage': 3141, 'damp': 3142, 'dance': 3143, 'danger': 3144, 'darn': 3145, 'dat': 3146, 'daughter': 3147, 'deatheaters': 3148, 'debating': 3149, 'decaf': 3150, 'deflect': 3151, 'degrees': 3152, 'dejected': 3153, 'delayed': 3154, 'delusional': 3155, 'democracy': 3156, 'demons': 3157, 'dentist': 3158, 'departing': 3159, 'department': 3160, 'dept': 3161, 'depth': 3162, 'derby': 3163, 'desolate': 3164, 'details': 3165, 'determine': 3166, 'devotee': 3167, 'dex': 3168, 'dickpic': 3169, 'dictator': 3170, 'diet': 3171, 'disaster': 3172, 'disconnected': 3173, 'discover': 3174, 'discuss': 3175, 'disease': 3176, 'disgrace': 3177, 'disgusted': 3178, 'disgusting': 3179, 'dishes': 3180, 'diver': 3181, 'doe': 3182, 'dogs': 3183, 'doings': 3184, 'dollars': 3185, 'don': 3186, 'donation': 3187, 'dont': 3188, 'doors': 3189, 'down&amp;created': 3190, 'download': 3191, 'draft': 3192, 'drag': 3193, 'dragons': 3194, 'drama': 3195, 'drank': 3196, 'drawing': 3197, 'drilling': 3198, 'drinks': 3199, 'driven': 3200, 'drivers': 3201, 'drops': 3202, 'drowning': 3203, 'drugged': 3204, 'drugs': 3205, 'easyjet': 3206, 'economy': 3207, 'effective': 3208, 'elephants': 3209, 'embarrassing': 3210, 'employees': 3211, 'ending': 3212, 'endorsing': 3213, 'engagement': 3214, 'enjoyment': 3215, 'ep': 3216, 'equality': 3217, 'equally': 3218, 'errrr': 3219, 'escape': 3220, 'essentially': 3221, 'establishment': 3222, 'ether': 3223, 'everytime': 3224, 'everywhere': 3225, 'ew': 3226, 'exam': 3227, 'excitement': 3228, 'exciting': 3229, 'exemplary': 3230, 'existent': 3231, 'existential': 3232, 'exists': 3233, 'expecting': 3234, 'explore': 3235, 'expressed': 3236, 'expression': 3237, 'eyebrows': 3238, 'f*c@n': 3239, 'facebook': 3240, 'facing': 3241, 'failed': 3242, 'failure': 3243, 'faint': 3244, 'falling': 3245, 'false': 3246, 'falure': 3247, 'fault': 3248, 'fave': 3249, 'fb': 3250, 'feature': 3251, 'fed': 3252, 'feet': 3253, 'festival': 3254, 'feud': 3255, 'ffs': 3256, 'figured': 3257, 'file': 3258, 'filling': 3259, 'finale': 3260, 'finding': 3261, 'firm': 3262, 'firstworldprobs': 3263, 'fist': 3264, 'fixthisgame': 3265, 'flavors': 3266, 'flew': 3267, 'flights': 3268, 'floated': 3269, 'flying': 3270, 'fml': 3271, 'foaming': 3272, 'followed': 3273, 'fond': 3274, 'font': 3275, 'fool': 3276, 'foolish': 3277, 'forcing': 3278, 'forlife': 3279, 'formed': 3280, 'forthwith': 3281, 'fortune': 3282, 'foundation': 3283, 'fragment': 3284, 'freshman': 3285, 'frightened': 3286, 'frontier': 3287, 'frozen': 3288, 'frustrating': 3289, 'fuckery': 3290, 'fuels': 3291, 'funeral': 3292, 'funniest': 3293, 'further': 3294, 'g': 3295, 'gag': 3296, 'garlic': 3297, 'gear': 3298, 'gears': 3299, 'gender': 3300, 'genocide': 3301, 'gf': 3302, 'gifs': 3303, 'giggles': 3304, 'girly': 3305, 'glass': 3306, 'glasses': 3307, 'global': 3308, 'goin': 3309, 'golf': 3310, 'goodday': 3311, 'google': 3312, 'gosh': 3313, 'gossip': 3314, 'gotten': 3315, 'grade': 3316, 'gradschool': 3317, 'grand': 3318, 'grasp': 3319, 'grass': 3320, 'gray': 3321, 'grief': 3322, 'grinding': 3323, 'grocery': 3324, 'gt;&gt;&gt': 3325, 'gt;.&lt': 3326, 'gud': 3327, 'guilty': 3328, 'guns': 3329, 'gutted': 3330, 'haaapppyyyy': 3331, 'hacked': 3332, 'haircuts': 3333, 'hairy': 3334, 'hanging': 3335, 'hangover': 3336, 'hangry': 3337, 'hangs': 3338, 'hannah': 3339, 'happening': 3340, 'happppppyyyyy': 3341, 'happppy': 3342, 'happppyyyyyy': 3343, 'harassed': 3344, 'hardyboys': 3345, 'harm': 3346, 'haters': 3347, 'haunting': 3348, 'hav': 3349, 'headache': 3350, 'hearing': 3351, 'heartbreaking': 3352, 'hearts': 3353, 'heaven': 3354, 'heaviness': 3355, 'heck': 3356, 'hegemonists': 3357, 'helped': 3358, 'hesitation': 3359, 'hip': 3360, 'hitting': 3361, 'hmm': 3362, 'hole': 3363, 'holy': 3364, 'homely': 3365, 'homie': 3366, 'honesty': 3367, 'hoop': 3368, 'hoopjunkie': 3369, 'hopefullyfunny': 3370, 'host': 3371, 'hosting': 3372, 'hotel': 3373, 'howdoestears': 3374, 'however': 3375, 'hp': 3376, 'hsm2': 3377, 'hug': 3378, 'huh': 3379, 'humor': 3380, 'humorous': 3381, 'hundred': 3382, 'hunger': 3383, 'hurry': 3384, 'hurting': 3385, 'hustle': 3386, 'hv': 3387, 'hysteria': 3388, 'iOS10': 3389, 'iPhone7': 3390, 'ice': 3391, 'icing': 3392, 'icq': 3393, 'ideologically': 3394, 'idiot': 3395, 'idiots': 3396, 'idk': 3397, 'ignore': 3398, 'ignoring': 3399, 'igotbetterthingstodotonightthandie': 3400, 'imagination': 3401, 'immense': 3402, 'immigrant': 3403, 'impact': 3404, 'impactonpop': 3405, 'impress': 3406, 'impression': 3407, 'incurable': 3408, 'indeed': 3409, 'indignity': 3410, 'inform': 3411, 'infuriating': 3412, 'ing': 3413, 'inhaler': 3414, 'inner': 3415, 'innerconflict': 3416, 'innovation': 3417, 'insensitive': 3418, 'insomnia': 3419, 'instructor': 3420, 'intelligence': 3421, 'interviews': 3422, 'intimate': 3423, 'invest': 3424, 'investigation': 3425, 'ios10': 3426, 'iphonePhoneHome': 3427, 'irl': 3428, 'island': 3429, 'it.\\\\n': 3430, 'it.\\\\n#funny': 3431, 'itnevergoes': 3432, 'itself': 3433, 'iwanttocancel': 3434, 'jealous': 3435, 'jeep': 3436, 'jeepgirl': 3437, 'jeepjeep': 3438, 'jeezus': 3439, 'jerks': 3440, 'jk': 3441, 'jobs': 3442, 'johnson': 3443, 'joined': 3444, 'joyed': 3445, 'joyless': 3446, 'jumpstreet': 3447, 'junk': 3448, 'juror': 3449, 'justsaying': 3450, 'karma': 3451, 'kidding': 3452, 'kidney': 3453, 'killing': 3454, 'killme': 3455, 'kills': 3456, 'king': 3457, 'kiss': 3458, 'kissed': 3459, 'klitschko': 3460, 'known': 3461, 'ksu': 3462, 'ksudsm': 3463, 'l': 3464, 'label': 3465, 'ladies': 3466, 'lady': 3467, 'lag': 3468, 'land': 3469, 'landscape': 3470, 'language': 3471, 'laptop': 3472, 'laptops': 3473, 'laughs': 3474, 'lay': 3475, 'layover': 3476, 'lead': 3477, 'leaders': 3478, 'leaned': 3479, 'lesson': 3480, 'levels': 3481, 'liberal': 3482, 'library': 3483, 'lid': 3484, 'lights': 3485, 'liked': 3486, 'lineman': 3487, 'lines': 3488, 'lions': 3489, 'list': 3490, 'lit': 3491, 'liveliness': 3492, 'livid': 3493, 'longday': 3494, 'lonley': 3495, 'looney': 3496, 'loooooong': 3497, 'loos': 3498, 'loose': 3499, 'louder': 3500, 'lovers': 3501, 'loyal': 3502, 'lt;3': 3503, 'lyrics': 3504, 'ma': 3505, 'magazine': 3506, 'majority': 3507, 'mammal': 3508, 'marblesinmouth': 3509, 'marmite': 3510, 'masks': 3511, 'mass': 3512, 'massali': 3513, 'massiah': 3514, 'massif': 3515, 'math': 3516, 'matters': 3517, 'maturity': 3518, 'maybeoneday': 3519, 'medicine': 3520, 'meldonium': 3521, 'meme': 3522, 'mentality': 3523, 'mentally': 3524, 'mercy': 3525, 'mess': 3526, 'messaging': 3527, 'methods': 3528, 'mic': 3529, 'mid': 3530, 'mighty': 3531, 'miles': 3532, 'min': 3533, 'mindfu': 3534, 'mini': 3535, 'minority': 3536, 'mirror': 3537, 'mission': 3538, 'missus': 3539, 'mixing': 3540, 'mombrain': 3541, 'mongering': 3542, 'monkhill': 3543, 'moor': 3544, 'moreofsad': 3545, 'morn': 3546, 'mostly': 3547, 'mountain': 3548, 'mournful': 3549, 'multitude': 3550, 'muppet': 3551, 'muslims': 3552, 'named': 3553, 'narcissist': 3554, \"natural!!!'-@PRINCESSTAYE\": 3555, 'needmotivation': 3556, 'negativity': 3557, 'neighborhoods': 3558, 'nephew': 3559, 'nerve': 3560, 'networking': 3561, 'neurological': 3562, 'nj': 3563, 'noclue': 3564, 'noloyalty': 3565, 'nooooo': 3566, 'note': 3567, 'note7': 3568, 'notimpressed': 3569, 'nowhere': 3570, 'numb': 3571, 'nuts': 3572, 'objective': 3573, 'offer': 3574, 'officers': 3575, 'ohio': 3576, 'oligarchy': 3577, 'olympics': 3578, 'onions': 3579, 'onto': 3580, 'openly': 3581, 'openminded': 3582, 'opera': 3583, 'opinions': 3584, 'opportunistic': 3585, 'opposite': 3586, 'option': 3587, 'oreillyfactor': 3588, 'original': 3589, 'ornot': 3590, 'ourselves': 3591, 'ourworld': 3592, 'overseas': 3593, 'owned': 3594, 'p2': 3595, 'packed': 3596, 'paint': 3597, 'pak': 3598, 'panicattacks': 3599, 'pants': 3600, 'parked': 3601, 'parody': 3602, 'particular': 3603, 'parts': 3604, 'pas': 3605, 'passion': 3606, 'paying': 3607, 'peak': 3608, 'peers': 3609, 'pencil': 3610, 'pensive': 3611, 'per': 3612, 'perception': 3613, 'perhaps': 3614, 'perilsoflivingalone': 3615, 'permanent': 3616, 'permissive': 3617, 'permit': 3618, 'physical': 3619, 'piano': 3620, 'picked': 3621, 'pictures': 3622, 'pie': 3623, 'pieces': 3624, 'pisses': 3625, 'pitch': 3626, 'places': 3627, 'plaits': 3628, 'pleasure': 3629, 'plenty': 3630, 'plot': 3631, 'plz': 3632, 'pockets': 3633, 'politeness': 3634, 'politicians': 3635, 'polls': 3636, 'polygamy': 3637, 'pontefract': 3638, 'poop': 3639, 'poorservice': 3640, 'poorthings': 3641, 'popping': 3642, 'porn': 3643, 'posting': 3644, 'pot': 3645, 'potato': 3646, 'pottermore': 3647, 'powerful': 3648, 'practical': 3649, 'praise': 3650, 'praying': 3651, 'pregnancy': 3652, 'pregnant': 3653, 'prejudice': 3654, 'preordered': 3655, 'presses': 3656, 'pretend': 3657, 'pretendinghesok': 3658, 'previously': 3659, 'prick': 3660, 'prime': 3661, 'prince': 3662, 'priorities': 3663, 'priority': 3664, 'private': 3665, 'privately': 3666, 'pro': 3667, 'probability': 3668, 'product': 3669, 'products': 3670, 'profile': 3671, 'programme': 3672, 'programs': 3673, 'promotes': 3674, 'proper': 3675, 'properly': 3676, 'property': 3677, 'proposed': 3678, 'prosecute': 3679, 'psychiatrist': 3680, 'psychological': 3681, 'psychology': 3682, 'publishing': 3683, 'puff': 3684, 'pulls': 3685, 'pumped': 3686, 'pundit': 3687, 'purchased': 3688, 'purple': 3689, 'q': 3690, 'quality': 3691, 'quarter': 3692, 'quick': 3693, 'quickly': 3694, 'quoteoftheday': 3695, 'racial': 3696, 'racists': 3697, 'raid': 3698, 'raised': 3699, 'random': 3700, 'randomly': 3701, 'ranks': 3702, 'rant': 3703, 'rare': 3704, 'ratio': 3705, 'rays': 3706, 'reach': 3707, 'reactivate': 3708, 'realistic': 3709, 'realized': 3710, 'realizing': 3711, 'reasons': 3712, 'recluse': 3713, 'recorded': 3714, 'recruiter': 3715, 'ref': 3716, 'refer': 3717, 'referees': 3718, 'referred': 3719, 'refugee': 3720, 'refugees': 3721, 'regard': 3722, 'regardless': 3723, 'regretting': 3724, 'regular': 3725, 'relapse': 3726, 'religions': 3727, 'remain': 3728, 'reminded': 3729, 'reminder': 3730, 'reminds': 3731, 'reporting': 3732, 'requested': 3733, 'requirements': 3734, 'research': 3735, 'residentadvisor': 3736, 'resolved': 3737, 'retarded': 3738, 'retweets': 3739, 'reveal': 3740, 'revolution': 3741, 'rid': 3742, 'rides': 3743, 'riding': 3744, 'rioters': 3745, 'rip': 3746, 'rises': 3747, 'risk': 3748, 'rojo': 3749, 'role': 3750, 'rolls': 3751, 'roots': 3752, 'rule': 3753, 'ruled': 3754, 'ruok': 3755, 'rut': 3756, 'sacrifice': 3757, 'sadderness': 3758, 'saddest': 3759, 'safely': 3760, 'sane': 3761, 'save': 3762, 'scifi': 3763, 'score': 3764, 'scored': 3765, 'scream': 3766, 'screen': 3767, 'scroll': 3768, 'search': 3769, 'seat': 3770, 'seats': 3771, 'sect': 3772, 'security': 3773, 'seed': 3774, 'selfie': 3775, 'sell': 3776, 'sending': 3777, 'senior': 3778, 'sensitive': 3779, 'sensitivity': 3780, 'sensors': 3781, 'sentenced': 3782, 'seol': 3783, 'several': 3784, 'sexism': 3785, 'sexuality': 3786, 'sfvrefund': 3787, 'sh*t': 3788, 'shame': 3789, 'shameful': 3790, 'shape': 3791, 'share': 3792, 'shattering': 3793, 'shift': 3794, 'ship': 3795, 'shock': 3796, 'shoes': 3797, 'shook': 3798, 'shootings': 3799, 'shoots': 3800, 'shop': 3801, 'shopping': 3802, 'shots': 3803, 'shoulder': 3804, 'shouting': 3805, 'showboating': 3806, 'shower': 3807, 'shutup': 3808, 'signing': 3809, 'similar': 3810, 'sir': 3811, 'sisters': 3812, 'sixth': 3813, 'sizes': 3814, 'sizes?Now': 3815, 'skin': 3816, 'slightly': 3817, 'slogan': 3818, 'slowly': 3819, 'slushie': 3820, 'smack': 3821, 'smackdown': 3822, 'small': 3823, 'smarties': 3824, 'smell': 3825, 'smile*\\\\nconclusion': 3826, 'smile*\\\\nme': 3827, 'smrtruinslives': 3828, 'snow': 3829, 'snuggling': 3830, 'socialmedia': 3831, 'socks': 3832, 'sofas': 3833, 'sohurt': 3834, 'soldiers': 3835, 'solid': 3836, 'solos': 3837, 'solve': 3838, 'someday': 3839, 'songs': 3840, 'sons': 3841, 'sopranos': 3842, 'sorted': 3843, 'sorting': 3844, 'soy': 3845, 'spam': 3846, 'specifically': 3847, 'spell': 3848, 'spoke': 3849, 'spoken': 3850, 'sporadic': 3851, 'sporadically': 3852, 'sports': 3853, 'sprayed': 3854, 'spry': 3855, 'staff': 3856, 'stairs': 3857, 'stalker': 3858, 'startingover': 3859, 'starving': 3860, 'statements': 3861, 'states': 3862, 'status': 3863, 'stealing': 3864, 'steele': 3865, 'step': 3866, 'stepping': 3867, 'stifled': 3868, 'stock': 3869, 'stone': 3870, 'stopping': 3871, 'strength': 3872, 'stressful': 3873, 'stroppy': 3874, 'student': 3875, 'stumbling': 3876, 'submit': 3877, 'substance': 3878, 'suchagirl': 3879, 'sucker': 3880, 'suffer': 3881, 'suffering': 3882, 'sugar': 3883, 'suggestions': 3884, 'suicide': 3885, 'sullen': 3886, 'superb': 3887, 'surely': 3888, 'surprising': 3889, 'sushi': 3890, 'suspension': 3891, 'swim': 3892, 'swines': 3893, 'sword': 3894, 'sworn': 3895, 'symbolizes': 3896, 'synonymous': 3897, 'table': 3898, 'tactics': 3899, 'talent': 3900, 'talented': 3901, 'talks': 3902, 'targeting': 3903, 'tattoo': 3904, 'tbh': 3905, 'td': 3906, 'teach': 3907, 'technical': 3908, 'teef': 3909, 'teens': 3910, 'ten': 3911, 'terrifying': 3912, 'testing': 3913, 'texans': 3914, 'tf': 3915, 'theory': 3916, 'thick': 3917, 'third': 3918, 'thoughts': 3919, 'thousand': 3920, 'throws': 3921, 'thru': 3922, 'thugs': 3923, 'thumbs': 3924, 'ticketing': 3925, 'timid': 3926, 'tiny': 3927, 'titans': 3928, 'tits': 3929, 'tmobile': 3930, 'tna': 3931, 'tones': 3932, 'toomuchgoingon': 3933, 'toon': 3934, 'totally': 3935, 'tough': 3936, 'tournaments': 3937, 'trade': 3938, 'trap': 3939, 'travel': 3940, 'treatcustomersfairly': 3941, 'tries': 3942, 'trigger': 3943, 'trophy': 3944, 'trumpie': 3945, 'tulsa': 3946, 'tumble': 3947, 'twats': 3948, 'tweeted': 3949, 'twitching': 3950, 'type': 3951, 'typical': 3952, 'uber': 3953, 'ultimately': 3954, 'unbelievable': 3955, 'underwear': 3956, 'uniform': 3957, 'unless': 3958, 'unreliable': 3959, 'upgrade': 3960, 'uri': 3961, 'useful': 3962, 'uspol': 3963, 'vanity': 3964, 'vengeful': 3965, 'victim': 3966, 'victory': 3967, 'violated': 3968, 'violations': 3969, 'violent': 3970, 'visitors': 3971, 'vodka': 3972, 'voters': 3973, 'votes': 3974, 'vulnerable': 3975, 'waittime': 3976, 'wallet': 3977, 'warning': 3978, 'waste': 3979, 'weapon': 3980, 'weapons': 3981, 'wedding': 3982, 'weirdsmells': 3983, 'welcome': 3984, 'whahibbi': 3985, 'whataloadoftat': 3986, 'whatislife': 3987, 'whipping': 3988, 'whose': 3989, 'whydidiwatchthat': 3990, 'wifi': 3991, 'willynilly': 3992, 'window': 3993, 'windy': 3994, 'winter': 3995, 'wipe': 3996, 'wise': 3997, 'wisewords': 3998, 'witches': 3999, 'withdrawals': 4000, 'witness': 4001, 'wks': 4002, 'woken': 4003, 'wood': 4004, 'worked': 4005, 'worries': 4006, 'worstairline': 4007, 'wrapped': 4008, 'wrestled': 4009, 'writers': 4010, 'wtf': 4011, 'xph': 4012, \"y'\": 4013, \"ya'll\": 4014, 'yelling': 4015, 'yikes': 4016, 'you.#faith': 4017, 'yourefired': 4018, 'yourpushfactor': 4019, 'yourselves': 4020, 'yrs': 4021, 'zen': 4022, 'zombie': 4023, 'zones': 4024, '°': 4025, '―': 4026, '”\\\\nP16:32': 4027, '┻': 4028, '╯': 4029, '☉': 4030, '♥': 4031, '♪': 4032, '⚽': 4033, '✏': 4034, '）': 4035, '🍁': 4036, '🍃': 4037, '🍕': 4038, '🎉': 4039, '🎊': 4040, '🎬': 4041, '🎭': 4042, '🎸': 4043, '🎼': 4044, '🐑': 4045, '👀': 4046, '👂': 4047, '👊': 4048, '👋': 4049, '👻': 4050, '💙': 4051, '💤': 4052, '💪': 4053, '💸': 4054, '🔪': 4055, '😀': 4056, '😇': 4057, '😖': 4058, '😙': 4059, '😫': 4060, '😶': 4061, '🙁': 4062, '🙊': 4063, '🤓': 4064, '   ': 4065, '    ': 4066, '     ': 4067, '                                             ': 4068, '#Jumanji': 4069, '#WHATEVER': 4070, '#amen': 4071, '#sike': 4072, \"'@M0tivati0nQuote\": 4073, \"'S\": 4074, \"'\\\\n\": 4075, \"'\\\\n\\\\n\": 4076, \"'\\\\n\\\\n-@billclinton\": 4077, \"'\\\\n\\\\nHe\": 4078, \"'em\": 4079, '(-:': 4080, '(giggle)': 4081, '):': 4082, '+1': 4083, '-)\\\\n\\\\nU': 4084, '--Where': 4085, \"--prepared.\\\\n\\\\n'Not\": 4086, '-9': 4087, '-@AnneMarieIAm': 4088, '-@HillaryClinton': 4089, '-Al': 4090, '-De': 4091, '-Isaiah': 4092, '-Mgla': 4093, '-Sir': 4094, '-Sylvia': 4095, '-because': 4096, '-it': 4097, '-trouble': 4098, '...........': 4099, '.............': 4100, '.500': 4101, '.@GOPoversight': 4102, '.@LEAFYSZERKER': 4103, '.@RepDelBene': 4104, '.@SimonNRicketts': 4105, '.@billradkeradio': 4106, '.@monsoonuk': 4107, '.\\\\nWe': 4108, '._.': 4109, '.i': 4110, '.o': 4111, '//': 4112, '//rip//': 4113, '/co': 4114, '0.07': 4115, '1.0.7': 4116, '1.5': 4117, '1.:02': 4118, '1/2': 4119, '1000s': 4120, '10:30pm': 4121, '10golds24': 4122, '115th': 4123, '11:00pm': 4124, '128': 4125, '12:01': 4126, '12:03': 4127, '12s': 4128, '12years': 4129, '138': 4130, '13c': 4131, '14': 4132, '1400': 4133, '1449': 4134, '14:30': 4135, '14:49': 4136, '158': 4137, '1607': 4138, '17.2': 4139, '18:41': 4140, '18mths': 4141, '1975': 4142, '1994': 4143, '1999': 4144, '1c': 4145, '1tbsp': 4146, '2-was': 4147, '2/5': 4148, '2004': 4149, '2012': 4150, '2014': 4151, '2015': 4152, '2020': 4153, '20likes': 4154, '21': 4155, '21st': 4156, '22': 4157, '22.22': 4158, '22september2004': 4159, '23rd': 4160, '24': 4161, '24:8': 4162, '250': 4163, '25k': 4164, '26': 4165, '27': 4166, '29': 4167, '2be': 4168, '2hr': 4169, '2k': 4170, '2much': 4171, '3.4': 4172, '300': 4173, '32': 4174, '34.80': 4175, '340:892': 4176, '36': 4177, '360': 4178, '3:11': 4179, '3:30': 4180, '3:45am': 4181, '3AM': 4182, '3D': 4183, '3amDeadTime': 4184, '3years': 4185, '450k': 4186, '47': 4187, '4yo': 4188, '50000': 4189, '500aday': 4190, '500k': 4191, '500th': 4192, '50k': 4193, '50p': 4194, '50yrs': 4195, '53ms': 4196, '55': 4197, '5679787': 4198, '5:4': 4199, '5Live': 4200, '5k': 4201, '5th': 4202, \"6'4\": 4203, '600k': 4204, '606': 4205, '630am': 4206, '6:30': 4207, '7.40am': 4208, '700': 4209, '72': 4210, '75': 4211, '757': 4212, '76': 4213, '7th': 4214, '8+%': 4215, '80s': 4216, '81': 4217, '815': 4218, '85': 4219, '8:30': 4220, '8:30pm': 4221, '8k': 4222, '8th': 4223, '93.7': 4224, '98': 4225, '9to5life': 4226, ':((': 4227, ':))': 4228, ':)))': 4229, ':-/': 4230, ':D': 4231, '=3': 4232, '@Amynicolehill12': 4233, '@MEAIndia': 4234, '@TheDemocrats': 4235, '@interpretingall': 4236, 'A3': 4237, 'A4': 4238, 'AA': 4239, 'AARP': 4240, 'AATeam': 4241, 'ACT': 4242, 'AF': 4243, 'AFP': 4244, 'AGIN': 4245, 'AK47': 4246, 'AKt': 4247, 'ALWAYS': 4248, 'AM': 4249, 'AMAZING': 4250, 'AP': 4251, 'AQW': 4252, 'ARwuEVfqv': 4253, 'ASSHOLES': 4254, 'AT': 4255, 'AT&amp;T': 4256, 'ATM': 4257, 'AWH': 4258, 'Aber': 4259, 'Aberdeen': 4260, 'About': 4261, 'Accept': 4262, 'Accrington': 4263, 'Act': 4264, 'Action': 4265, 'AdamRowe': 4266, 'Adcomm': 4267, 'Admits': 4268, 'Adrian': 4269, 'AdultingIsTheWorst': 4270, 'Africa': 4271, 'African': 4272, 'Again': 4273, 'Ahut': 4274, 'Aid': 4275, 'Aiding': 4276, 'Aidy': 4277, 'Akon': 4278, 'Aleppo': 4279, 'Alex': 4280, 'Alexandria': 4281, 'Alicia': 4282, 'All!How': 4283, 'Allo': 4284, 'Almost': 4285, 'Alton': 4286, 'Amateurs': 4287, 'Amen': 4288, \"America.\\\\n\\\\nThey're\": 4289, 'American\\\\n\\\\nNo': 4290, 'Amyah': 4291, 'AndisBench': 4292, 'Andrew': 4293, 'Anfield': 4294, 'Angel': 4295, 'Angry': 4296, 'Aniston': 4297, 'Anna': 4298, 'Anniversary': 4299, 'Annoyed': 4300, 'Anon': 4301, 'Anthony': 4302, 'AnthonyWeiner': 4303, 'Anu': 4304, 'Anybody': 4305, 'Anychance': 4306, 'Anything': 4307, 'Anyway': 4308, 'Anyyyyone': 4309, 'Apocalypse': 4310, 'Apologies': 4311, 'Apple': 4312, 'Appreciate': 4313, 'Approaching': 4314, 'Appropriate': 4315, 'AqeelSyed\\\\n\\\\n#LifeisBeautiful': 4316, 'Arab': 4317, 'ArchangelSummit': 4318, 'Archie': 4319, 'Argentina': 4320, 'Arguing': 4321, 'Ark': 4322, 'Armageddon': 4323, 'Armenian': 4324, 'Arms': 4325, 'Arsene': 4326, 'Arthur': 4327, 'Ashland': 4328, 'Ask': 4329, 'AskTrumpOneQuestion': 4330, 'Assistance': 4331, 'Assistants': 4332, 'Asylum': 4333, 'Atsu': 4334, 'Attack': 4335, 'Aurora': 4336, 'Australian': 4337, 'AutoCorrect': 4338, 'AutoDealerLive': 4339, 'Autocorrect': 4340, 'AutumnEquinox': 4341, 'AutumnalEquinox': 4342, 'Ave': 4343, 'Avoid': 4344, 'Avoiding': 4345, 'Away': 4346, 'Aye': 4347, 'B-': 4348, 'B.B.': 4349, 'B4': 4350, 'BANG': 4351, 'BASIC': 4352, 'BBC': 4353, 'BBCTW': 4354, 'BBFinale': 4355, 'BBMichelle': 4356, 'BC': 4357, 'BEFORE': 4358, 'BETTER': 4359, 'BIG': 4360, 'BITCH': 4361, 'BITCHASS': 4362, 'BLA': 4363, 'BLM': 4364, 'BLUES': 4365, 'BOB': 4366, 'BOILING': 4367, 'BOYS': 4368, 'BROKE': 4369, 'BROTHER': 4370, 'BSG': 4371, 'BUT': 4372, 'BaE': 4373, 'Baaarissshhhhh': 4374, 'Baal': 4375, 'BacheloretteAU': 4376, 'Background': 4377, 'Badu': 4378, 'Bain': 4379, 'Bainton': 4380, 'Bake': 4381, 'Baku': 4382, 'Baldwin': 4383, 'Baloch': 4384, 'Balochistan': 4385, 'Balotelli': 4386, 'Banger': 4387, 'Bank': 4388, 'Bank\\\\n#TerrorStatePak': 4389, 'Baptist': 4390, 'Barb': 4391, 'Barca': 4392, 'Bartolomeo': 4393, 'BatmanTelltaleSeries': 4394, 'BatonRouge': 4395, 'Baylor': 4396, 'Bazigaga': 4397, 'Beans': 4398, 'Beat': 4399, 'Beauty': 4400, 'Beck': 4401, 'Beckett': 4402, 'Becky': 4403, 'Bees': 4404, 'Begin': 4405, 'Beginning': 4406, 'Belle': 4407, 'Benefit': 4408, 'Bennett': 4409, 'Berl': 4410, 'Bernabéu': 4411, 'Besides': 4412, 'Bet': 4413, 'Betelgeuse': 4414, 'BetterTogether': 4415, 'Bey': 4416, 'Biiitttccchhhhhh': 4417, 'Billie': 4418, 'Birmingham': 4419, 'Bitches': 4420, 'Bits': 4421, 'BlackLivesmatter': 4422, 'Blanchardstown': 4423, 'Blessed': 4424, 'Blind': 4425, 'Blood': 4426, 'Bloods': 4427, 'Boggart': 4428, 'Boltup': 4429, 'Bon': 4430, 'Bored': 4431, 'Boredom': 4432, 'Boro': 4433, 'Boshan': 4434, 'Both': 4435, 'Bournemouth': 4436, 'Bout': 4437, 'Boutta': 4438, 'Bowers': 4439, 'Boycotting': 4440, 'Bpharm4': 4441, 'Bradford': 4442, 'Breaking': 4443, 'Breathe': 4444, 'Brendan': 4445, 'Brewer': 4446, 'Bridget': 4447, 'BridgetJonesBaby': 4448, 'Brissett': 4449, 'Bro': 4450, 'Brock': 4451, 'Broncos': 4452, 'Brooke': 4453, 'Brotherhood': 4454, 'Btw': 4455, 'BuckyNat': 4456, 'Bullshit': 4457, 'Bulushi': 4458, 'BurhanWani': 4459, 'Burslem': 4460, 'Bushes': 4461, 'Buying': 4462, 'Bway': 4463, 'Bye': 4464, 'C.C.': 4465, 'CA': 4466, 'CAR': 4467, 'CAS': 4468, 'CAUSING': 4469, 'CBS': 4470, 'CEO': 4471, 'CHEER': 4472, 'CLOWN': 4473, 'CLT': 4474, 'CN': 4475, 'COINCIDENCE': 4476, 'COME': 4477, 'CONGRATULATIONS': 4478, 'CS': 4479, 'CSGO': 4480, 'CX': 4481, 'Caballero': 4482, 'Cage': 4483, 'Cali': 4484, 'Call': 4485, 'Caller': 4486, 'Came': 4487, 'Cancelling': 4488, 'CaptureYourMind': 4489, 'Cardiff': 4490, 'Carolina': 4491, 'Carr': 4492, 'Carry': 4493, 'Cassablancas': 4494, 'Castlez': 4495, 'Catering': 4496, 'Catfish': 4497, 'Cats': 4498, 'Chalk': 4499, 'Change': 4500, 'Changing': 4501, 'Chapman': 4502, 'Chargers': 4503, 'CharlotteRiot': 4504, 'Cheap': 4505, 'Cheryl': 4506, 'Chestnut': 4507, 'Chicago': 4508, 'Chiefs': 4509, 'Child': 4510, 'Childood': 4511, 'ChildrenOfMen.\\\\n\\\\n#cages': 4512, 'Chock': 4513, 'Chomsky': 4514, 'Christian': 4515, 'Christianity': 4516, 'Churchill': 4517, 'Churchill-': 4518, 'Ciara': 4519, 'Cisco': 4520, 'Claire': 4521, 'Clap': 4522, 'Clash': 4523, 'Classic': 4524, 'Clear': 4525, 'Clearly': 4526, 'ClemvsGT': 4527, 'Close': 4528, 'Cloudy': 4529, 'Cmn': 4530, 'Cock': 4531, 'Coffee': 4532, 'Cohen': 4533, 'Colleen': 4534, 'College': 4535, 'Colors': 4536, 'Coming': 4537, 'Community': 4538, 'CommunitySleepCoach': 4539, 'Comparing': 4540, 'Competition': 4541, 'Complete': 4542, 'Concern': 4543, 'Confiaejce': 4544, 'Congratulations': 4545, 'CongressCritters': 4546, 'Congreve': 4547, 'Connivers': 4548, 'Connor': 4549, 'Constitution': 4550, 'Contactless': 4551, 'Content': 4552, 'Conversation': 4553, 'Cookie': 4554, 'Coordinators': 4555, 'Cos': 4556, 'Courage': 4557, 'Court': 4558, 'Covey-\\\\n\\\\n': 4559, 'Cowan': 4560, 'Cowboys': 4561, 'Craigen': 4562, 'Crappy': 4563, 'Create': 4564, 'CreateSyria': 4565, 'Creepers': 4566, 'Crock': 4567, 'CrookedCourt': 4568, 'Cross': 4569, 'CrossoverLife': 4570, 'Cuddling': 4571, 'Cudi': 4572, 'Cules': 4573, 'CureForInsomnia': 4574, 'Currently': 4575, 'Curtis': 4576, 'CustomerService': 4577, 'Cut': 4578, 'Cute': 4579, 'Cuz': 4580, 'Cybernats': 4581, 'D.': 4582, 'DAY': 4583, 'DBacks': 4584, 'DC': 4585, 'DEAF': 4586, 'DENTED': 4587, 'DFS': 4588, 'DID': 4589, 'DIE': 4590, 'DISTRACTION': 4591, 'DJ': 4592, 'DK': 4593, 'DL': 4594, \"DOESN'T\": 4595, 'DOJ': 4596, \"DON'T\": 4597, 'DONE': 4598, 'DPS': 4599, 'DWTS': 4600, 'Da': 4601, 'Dad': 4602, 'Damnit': 4603, 'Damnnit': 4604, 'Danish': 4605, 'Dann': 4606, 'Dark': 4607, 'Darren': 4608, 'Dates': 4609, 'Dave': 4610, 'David': 4611, 'DeathTheKid': 4612, 'Decisions': 4613, 'Deep': 4614, 'Defense': 4615, 'Defining': 4616, 'Dehydrated': 4617, 'Dell': 4618, 'Democrats': 4619, 'Denny': 4620, 'Depending': 4621, 'Deranged': 4622, 'Derbyshire': 4623, 'Deric': 4624, 'Destroy': 4625, 'Devil': 4626, 'Devon': 4627, 'Devy': 4628, 'Diego': 4629, 'Difficult': 4630, 'Digging': 4631, 'Diplomat': 4632, 'DirectTV': 4633, 'DirtyPeople': 4634, 'Disgusting': 4635, 'Django': 4636, 'Doggies': 4637, 'Dom': 4638, 'DonKing': 4639, 'Donal': 4640, 'Donalds': 4641, 'Donnie': 4642, 'Dons': 4643, 'Dor': 4644, 'Down': 4645, 'Download': 4646, 'Dr': 4647, 'Dr.': 4648, 'Drake': 4649, 'Dream': 4650, 'Dreams': 4651, 'Dropped': 4652, 'Drunk': 4653, 'Dubai': 4654, 'Dude': 4655, 'Dufftown': 4656, 'Dunk': 4657, 'Dunno': 4658, 'Durban': 4659, 'Dutch': 4660, 'Duterte': 4661, 'Dyslexia': 4662, 'Dyson': 4663, 'EA': 4664, 'EDT': 4665, 'EFL': 4666, 'EFT': 4667, 'EKG': 4668, 'ELE6200': 4669, 'EMAILS': 4670, 'ESPN': 4671, 'ESVoxbox': 4672, 'ETA': 4673, 'EWR': 4674, 'Each': 4675, 'EalingComedies': 4676, 'Early': 4677, 'East': 4678, 'Easy': 4679, 'Edge_Could': 4680, 'Edinburgh': 4681, 'Edmonds': 4682, 'Education': 4683, 'Edwards': 4684, 'Egyptian': 4685, 'Eish': 4686, 'ElKracken': 4687, 'Electro': 4688, 'Eliza': 4689, 'Elizabeth': 4690, 'Elliot': 4691, 'Elouise': 4692, 'Elphaba': 4693, 'Elphie': 4694, 'EltonJohn': 4695, 'Elyse-': 4696, 'Embarrassing': 4697, 'Emblem': 4698, 'Emotion': 4699, 'Emotions': 4700, 'Engineer': 4701, 'Engineers': 4702, 'EnoughIsEnough': 4703, 'Enrique': 4704, 'Entice': 4705, 'Ep22': 4706, 'EpiPen': 4707, 'Epipen': 4708, 'Epistles': 4709, 'Eric': 4710, 'Ernest': 4711, 'Erykah': 4712, 'Eternal': 4713, 'Ethan': 4714, 'Europe': 4715, 'Eva': 4716, 'Evening': 4717, 'Event': 4718, 'Everyday': 4719, 'Excited': 4720, 'Expects': 4721, 'Experience': 4722, 'Extreme': 4723, 'EyeMatter': 4724, 'FA': 4725, 'FA(like': 4726, 'FAB': 4727, 'FACT「a': 4728, 'FAIL': 4729, 'FAUX': 4730, 'FBI': 4731, 'FDT16': 4732, 'FEET': 4733, 'FIND': 4734, 'FMF': 4735, 'FOGO': 4736, 'FOUND': 4737, 'FOUR': 4738, 'FROM': 4739, 'FTW': 4740, 'FUCK': 4741, 'FUCKIN': 4742, 'FUCKING': 4743, 'FUNNY': 4744, 'Face': 4745, 'FaceYourFears': 4746, 'Factor': 4747, 'Failed': 4748, 'Fails': 4749, 'Failure': 4750, 'Fake': 4751, 'FallSongs': 4752, 'Fam': 4753, 'FanCam': 4754, 'Far': 4755, 'Fashion': 4756, 'Fast': 4757, 'Faulty': 4758, 'Fav': 4759, 'Febreeze': 4760, 'Federal': 4761, 'Federer': 4762, 'Fellaini': 4763, 'Felon': 4764, 'Feminists': 4765, 'Fewer': 4766, 'Fi': 4767, 'Fibe': 4768, 'Fibromyalgia': 4769, 'Fifa': 4770, 'Fight': 4771, 'FindGODNow': 4772, 'Fingers': 4773, 'Finn': 4774, 'Fire': 4775, 'Fix': 4776, 'Flamenco': 4777, 'Flirt': 4778, 'Floofel.i': 4779, 'Flt': 4780, 'Flybe': 4781, 'Focusing': 4782, 'Folk': 4783, 'Forest': 4784, 'Forget': 4785, 'Form': 4786, 'Fortified': 4787, 'Forward': 4788, 'Franglaise': 4789, 'Freedom': 4790, 'Frequencies': 4791, 'Friedrich': 4792, 'Frisco': 4793, 'Frog': 4794, 'Fuking': 4795, 'Fumes': 4796, 'Fun': 4797, 'Fury': 4798, 'Future': 4799, 'GAA': 4800, 'GAME': 4801, 'GB': 4802, 'GCSE': 4803, 'GEN': 4804, 'GENOCIDE': 4805, 'GF': 4806, 'GIF': 4807, 'GIFs': 4808, 'GLEE': 4809, 'GLEEK': 4810, 'GLOBAL': 4811, 'GOOD': 4812, 'GOP': 4813, 'GPA': 4814, 'GRA': 4815, 'GREEN': 4816, 'GUY': 4817, 'GWS': 4818, 'Gabe': 4819, 'Gabriel': 4820, 'Gaga': 4821, 'Gallery': 4822, 'Gardevoir': 4823, 'Garrett': 4824, 'Garriott': 4825, 'Gas': 4826, 'GasCrisis2016': 4827, 'Geil': 4828, 'Georgia': 4829, 'Gerard': 4830, 'Gerrard': 4831, 'Gershwin': 4832, 'Gestort': 4833, 'Ghandi': 4834, 'Gilmour': 4835, 'Giroud': 4836, 'Glasgow': 4837, 'GlasgowGirls': 4838, 'Glen': 4839, 'Gloria': 4840, 'Gloriosa': 4841, 'Gluttony': 4842, 'Goal': 4843, 'Goddamn': 4844, 'Goddard': 4845, 'Goodbye': 4846, 'Google': 4847, 'GoogleMaps': 4848, 'Gosh': 4849, 'Gosling': 4850, 'Gotham': 4851, 'Gotta': 4852, 'GradSchoolProblems': 4853, 'Graduate': 4854, 'Graham': 4855, 'GrandDesigns': 4856, 'Granger': 4857, 'Greed': 4858, 'Greenville': 4859, 'Grey': 4860, 'Grim': 4861, 'Grimmerie': 4862, 'Growling': 4863, 'Guess': 4864, 'Guests\\\\nFri': 4865, 'Gump': 4866, 'Gundlach': 4867, 'Guns': 4868, 'Guru(big': 4869, 'Gus': 4870, 'Guys': 4871, 'H3LL': 4872, 'HADDRELL': 4873, 'HAIL': 4874, 'HELP': 4875, 'HMS': 4876, 'HONEY': 4877, 'HOW': 4878, 'HRC': 4879, 'HSSU': 4880, 'HUGE': 4881, 'Had': 4882, 'Haddon': 4883, 'Half': 4884, 'Halifax': 4885, 'Hall': 4886, 'Hallelujah': 4887, 'Ham': 4888, 'Hamlet': 4889, 'Hands': 4890, 'Haney': 4891, 'Hang': 4892, 'Happening': 4893, 'Happiness': 4894, 'Haqqani': 4895, 'Harking': 4896, 'Harris': 4897, 'Hart': 4898, \"HartRamsey'sUPLIFT\": 4899, 'Harvey': 4900, 'Hated': 4901, 'Haters': 4902, 'Hattrick': 4903, 'Haunting': 4904, 'Hawking': 4905, 'Hayes': 4906, 'He-': 4907, 'Head': 4908, 'Heading': 4909, 'Heart': 4910, 'HeartRacing': 4911, 'Heather': 4912, 'Height': 4913, 'HellOrHighWater': 4914, 'Hello': 4915, \"Helmann's.\\\\nLiterally\": 4916, 'Help': 4917, 'Hemingway': 4918, 'Henderson': 4919, 'HereWeGo': 4920, 'Hereford': 4921, 'Hernandez': 4922, 'HeroTheGreyhound': 4923, 'Heyyyy': 4924, 'Hilarity': 4925, 'Him': 4926, 'HissyFits': 4927, 'Historically': 4928, 'History': 4929, 'Hit': 4930, 'Hizbul': 4931, 'Hmmm': 4932, 'Holding': 4933, 'Holidays': 4934, 'Hollywood': 4935, 'Holmes': 4936, 'HomilyHour': 4937, 'Homosexuality': 4938, 'Honesty': 4939, 'Honorable': 4940, 'Hoping': 4941, 'Hopkins': 4942, 'Horrid': 4943, 'Horror': 4944, 'HorrorMovies': 4945, 'Horseman': 4946, 'HotS.': 4947, 'Hotel': 4948, 'Hubby': 4949, 'Hudcomedy': 4950, 'Huge': 4951, 'Hugs': 4952, 'Huma': 4953, 'Humans': 4954, 'Hungary': 4955, 'Huns': 4956, 'Hypocritical': 4957, 'I&gt': 4958, 'ID': 4959, 'IG': 4960, 'II': 4961, 'IMEDIATELY': 4962, 'IMO': 4963, 'INCOMPREHENSION': 4964, 'IOS': 4965, 'IPCA': 4966, 'ISP': 4967, 'ISSUES': 4968, 'Ian': 4969, 'Ibiza': 4970, 'Idea': 4971, 'Idiocracytoday': 4972, 'Idiots': 4973, 'Idk': 4974, 'Ignorant': 4975, 'Ignored': 4976, 'Impressive': 4977, 'Incident': 4978, 'IndiaMissingIndira': 4979, 'IndianArmedForces': 4980, 'Indians': 4981, 'Indiansummer': 4982, 'Indias': 4983, 'Indignation': 4984, 'Indulges': 4985, 'Infectious': 4986, 'Information': 4987, 'Inglorious': 4988, 'Inhuman': 4989, 'Inpouring': 4990, 'Inquiries': 4991, 'Insta': 4992, 'Instead': 4993, 'Interesting': 4994, 'Interview': 4995, 'Iranians': 4996, 'Irish': 4997, 'IronTekFit': 4998, 'IslamExposed': 4999, 'Israeli': 5000, 'Italian': 5001, 'IveBeenBusierWhyAmIOverwhelmed': 5002, 'Iver': 5003, 'J.': 5004, 'JADED': 5005, 'JB': 5006, 'JD': 5007, 'JUST': 5008, 'Jacoby': 5009, 'Jags': 5010, 'Jan': 5011, 'Janecky': 5012, 'Janieck': 5013, 'Japanese': 5014, 'Jared': 5015, 'Jasper': 5016, 'Jayme': 5017, 'Jazz': 5018, 'Jean': 5019, 'Jeepers': 5020, 'Jeff': 5021, 'Jeffrey': 5022, 'Jen': 5023, 'Jeremy': 5024, 'JesusChristHealsSavesASK': 5025, 'Jesusisthesubject': 5026, 'Jewish': 5027, 'Jews': 5028, 'Jim': 5029, 'Jimi': 5030, 'Jimmy': 5031, 'JkUVmvQXY': 5032, 'Joel': 5033, 'Joes': 5034, 'Johnstone': 5035, 'Joker': 5036, 'Jongdae': 5037, 'Joshua': 5038, 'Journey': 5039, 'Joyce': 5040, 'Juan': 5041, 'JudgeLynnToler': 5042, 'Judy': 5043, 'Julian': 5044, 'Julie': 5045, 'Junc': 5046, 'Jungle': 5047, 'K.': 5048, 'KG': 5049, 'KGB': 5050, 'KKk': 5051, 'KNEELING': 5052, 'KNOW': 5053, 'KUOWrecord': 5054, 'Kach': 5055, 'Kai': 5056, 'Kalil': 5057, 'Kardashians': 5058, 'Karev': 5059, 'Karma': 5060, 'Katznelson': 5061, 'Kayaking': 5062, 'Keeping': 5063, 'KeithLamontScott': 5064, 'KeithScott': 5065, 'Keller-\\\\n\\\\n': 5066, 'Kendall': 5067, 'Kendrick': 5068, 'Kennen': 5069, 'Kernel': 5070, 'Kevin': 5071, 'Key': 5072, 'Khloe': 5073, 'Kid': 5074, 'Kids': 5075, 'Kipling': 5076, 'Kirby': 5077, 'Kittens': 5078, 'Kjartansson': 5079, 'Klassic': 5080, 'Komisarjevsky': 5081, 'Kpop': 5082, 'Krab?\\\\n\\\\nNo': 5083, 'Krusty': 5084, 'Ku': 5085, 'Kulbhoshan': 5086, 'Kurt': 5087, 'Kyos': 5088, 'LGBT': 5089, 'LIB': 5090, 'LIFE': 5091, 'LMFAO': 5092, 'LODD': 5093, 'LOL\\\\nHappy': 5094, 'LPCO': 5095, 'LRT': 5096, 'LT': 5097, 'LVG': 5098, 'Labor': 5099, 'Lacan': 5100, 'Lakis': 5101, 'Lament': 5102, 'Larry': 5103, 'Laura': 5104, 'Laurel': 5105, 'Laureliver': 5106, 'Laurie': 5107, 'Law': 5108, 'Lay': 5109, 'Lazy': 5110, 'Leads': 5111, 'Learning': 5112, 'Leave': 5113, 'Lebanon': 5114, 'Leeds': 5115, 'Lehrer': 5116, 'Leopard': 5117, 'Lerman': 5118, 'Lets': 5119, 'LetsGoYankees': 5120, 'Ley': 5121, 'Lia': 5122, 'Liam': 5123, 'Lifeguard': 5124, 'Light': 5125, 'Lil': 5126, 'Lily': 5127, 'LisaVikingstad': 5128, 'Little': 5129, 'LittleSister': 5130, 'LiveWithPurpose': 5131, 'Liverpool': 5132, 'Lmaooo': 5133, 'Lock': 5134, 'Locke': 5135, 'Locks': 5136, 'Loft': 5137, 'Loki': 5138, 'LondonEvents': 5139, 'Loneliness': 5140, 'Looking': 5141, 'LordDerply': 5142, 'Losing': 5143, 'Lot': 5144, 'Loughborough': 5145, 'Loveet': 5146, 'Luca': 5147, 'Luckii': 5148, 'Luis': 5149, 'Lunatic': 5150, 'Lundqvist': 5151, 'Luther': 5152, 'Lyle': 5153, 'Lysol': 5154, 'M*lo': 5155, 'M.D.': 5156, 'MANY': 5157, 'MCFC': 5158, 'MD': 5159, 'MEAIndia': 5160, 'MF': 5161, 'MFA': 5162, 'MGS3': 5163, 'MHchat': 5164, 'MINUS': 5165, 'MLB': 5166, 'MM': 5167, 'MOS': 5168, 'MOU': 5169, 'MSNBC': 5170, 'MUFC': 5171, 'MV': 5172, \"Ma'am\": 5173, 'Machine': 5174, 'Macom': 5175, 'Maddie': 5176, 'Madness': 5177, 'Madrid': 5178, 'Madridistas': 5179, 'Maghrebi': 5180, 'Main': 5181, 'Maine': 5182, 'MakeAmericaSafeAgain': 5183, 'MakingAMurderer': 5184, 'Malaysian': 5185, 'Malik': 5186, 'ManUp': 5187, 'Mandela': 5188, 'MansfieldHour': 5189, 'Manuellynch99': 5190, 'Many': 5191, 'Marks': 5192, 'Martel': 5193, 'MartyrsNotBeggars': 5194, 'MaryBerry': 5195, 'Match': 5196, 'Mate': 5197, 'Math': 5198, 'Matt': 5199, 'Matthew': 5200, 'Mauricio': 5201, 'MaxLevelz': 5202, 'McDanno': 5203, 'McDonald': 5204, 'McDonalds': 5205, 'McTernan': 5206, 'Mcintyre': 5207, 'Meal': 5208, 'MeanRikonaBot': 5209, 'Media': 5210, 'Megan': 5211, 'Meghan': 5212, 'Memphis': 5213, 'MenForChoice': 5214, 'Mendes': 5215, 'Messages': 5216, 'Method': 5217, 'Metro': 5218, 'Metropolitan': 5219, 'Mets': 5220, 'Mexican': 5221, 'Mexico': 5222, 'Meyer': 5223, 'MiLLiONS': 5224, 'Miami': 5225, 'Micha': 5226, 'Michael': 5227, 'MichaelBrown': 5228, 'MiddleEast': 5229, 'Mighty': 5230, 'Mike': 5231, 'MikeandMolly': 5232, 'Miley': 5233, 'Milton': 5234, 'Mindblown': 5235, 'MinutesFromHoM': 5236, 'Missing': 5237, 'Mississippi': 5238, 'Mixed': 5239, 'MoPo': 5240, 'Mobile': 5241, 'Modern': 5242, 'ModernFamily': 5243, 'Molna': 5244, 'Mon': 5245, 'Monalisa': 5246, 'Monica': 5247, 'Mono': 5248, 'Montreal': 5249, 'MoonshineSociety': 5250, 'MoreisBetter': 5251, 'Morons': 5252, 'Morrisons': 5253, 'Moscow': 5254, 'Mosquitoes': 5255, 'MotivationalQuotes': 5256, 'Motlop': 5257, 'Moto': 5258, 'Mou': 5259, 'Mourinho': 5260, 'Movie': 5261, 'Mr': 5262, 'Mr.': 5263, 'MrRobot': 5264, 'Ms': 5265, 'Mt': 5266, 'Much': 5267, 'Multitasking': 5268, 'Munich': 5269, 'Muscled': 5270, 'Muslim\\\\nZionists': 5271, 'Must': 5272, 'Mustard': 5273, 'Muzzy': 5274, 'Mwahaha': 5275, 'Mylan': 5276, 'Mystery': 5277, \"N'azi\": 5278, 'NA': 5279, 'NASCAR': 5280, 'NCFC': 5281, 'NEIGHBORHOOD': 5282, 'NEVER': 5283, 'NHLNYCSWEEPSTAKES': 5284, 'NICOLE': 5285, 'NJ': 5286, 'NSFW': 5287, 'NTFCVMUFC': 5288, 'Nah': 5289, 'Nairobi': 5290, 'Namjoon': 5291, 'Nasty': 5292, 'National': 5293, 'Nauru': 5294, 'NawazFightsForKashmir': 5295, 'Neals': 5296, 'Needs': 5297, 'Neighborhood\\\\n1': 5298, 'Neither': 5299, 'Nell': 5300, 'Nelson': 5301, 'Neo': 5302, 'NewGrandStrategy': 5303, 'NewYork': 5304, 'Nicholson': 5305, 'Nick': 5306, 'Nietzsche': 5307, 'Night': 5308, 'NightLifeENT': 5309, 'Nike': 5310, 'NoDAPL': 5311, 'NoSeriously': 5312, 'Noah': 5313, 'Noam': 5314, 'Noel': 5315, 'NominateBunkface': 5316, 'None': 5317, 'Noooooo': 5318, 'Nooooooooooooooooooooo': 5319, 'Nor': 5320, 'Normal': 5321, 'Normy': 5322, 'Northampton': 5323, 'Note7': 5324, 'Nothings': 5325, 'Notts': 5326, 'NottsHour': 5327, 'Nutella': 5328, 'NyssaAlghul': 5329, 'ODI': 5330, 'OH': 5331, 'OKAY': 5332, 'OS': 5333, 'OSHA': 5334, 'OT': 5335, 'OTT': 5336, 'OUT': 5337, 'OVth': 5338, 'Obviously': 5339, 'Oct.': 5340, 'Oelrichs': 5341, 'Off': 5342, 'Offer': 5343, 'Officers': 5344, 'Offline': 5345, 'Oh--': 5346, 'Oi': 5347, 'Oligodendroglioma': 5348, 'Olympia': 5349, 'Olympic': 5350, 'OneJersey': 5351, 'Onision': 5352, 'Ooh': 5353, 'Optimism': 5354, 'Ordered': 5355, 'Orient\\\\nMummified\\\\nIn': 5356, 'Orton': 5357, 'Orwellian': 5358, 'Osler': 5359, 'Otherwise': 5360, 'OtisRedding': 5361, 'OurGirl': 5362, 'OurHouse': 5363, 'Overall': 5364, 'Owen': 5365, 'Own': 5366, 'Owner': 5367, 'Ozzie': 5368, 'PA': 5369, 'PAP': 5370, 'PARCC': 5371, 'PASTOR': 5372, 'PATRIOTACT': 5373, 'PB2': 5374, 'PE': 5375, 'PEOPLE': 5376, 'PHP54': 5377, 'PILE': 5378, 'PIMP': 5379, 'POS': 5380, 'POStrump': 5381, 'POTATOES': 5382, 'PS': 5383, 'PS2': 5384, 'PSA': 5385, 'PTO': 5386, 'PTSD': 5387, 'Pain': 5388, 'PakistanMustPay': 5389, 'Pal': 5390, 'Palace': 5391, 'Palestinian': 5392, 'Panda': 5393, 'Panther': 5394, 'ParentsofAddicts': 5395, 'Parks': 5396, 'Parris': 5397, 'Part': 5398, 'Party': 5399, 'Pastels': 5400, 'Pastor': 5401, 'Patient': 5402, 'Patriot': 5403, 'Patti': 5404, 'Patton': 5405, 'Paul.should': 5406, 'Pauline': 5407, 'Pavel': 5408, 'Payet': 5409, 'Peace': 5410, 'Peckham': 5411, 'Peiyophobilia': 5412, 'Penny': 5413, 'Pereira': 5414, 'Person': 5415, 'Petition': 5416, 'Petits': 5417, 'Phil': 5418, 'Philadelphia': 5419, 'Philando': 5420, 'PhilippPlein': 5421, \"Photo'd\": 5422, 'Picasso': 5423, 'Pinafore': 5424, 'Pitt': 5425, 'Place': 5426, 'PleaseRT': 5427, 'Pleased': 5428, 'Plenty': 5429, 'Plymouth': 5430, 'Plz': 5431, 'PoC': 5432, 'Pochettino': 5433, 'Poetic': 5434, 'Point': 5435, 'Pokemon': 5436, 'PokemonGO': 5437, 'Poland': 5438, 'Polis': 5439, 'Poop': 5440, 'Pops': 5441, 'Pot': 5442, 'Ppl': 5443, 'PrayForMe': 5444, 'Prayers': 5445, 'Praying': 5446, 'Preaching': 5447, 'Prejudice': 5448, 'Prejudice)\\\\n#Quotes': 5449, 'Prepared': 5450, 'PresidentTrump': 5451, 'PresidentialDebate': 5452, 'PresidentialElection2016': 5453, 'PrinceJinyoungDay': 5454, 'Princess': 5455, 'Prioritise': 5456, 'Prisoners': 5457, 'Pro': 5458, 'Problem': 5459, 'ProblemSolving': 5460, 'Probs': 5461, 'Professor': 5462, 'Progress': 5463, 'Progrm': 5464, 'Propaganda': 5465, 'Protection': 5466, 'Proverb': 5467, 'Proverbs': 5468, 'Prudence': 5469, 'Psychowasp': 5470, 'Public': 5471, 'Pull': 5472, 'Purely': 5473, 'Put': 5474, 'Puzzle': 5475, 'Quarterback': 5476, 'Quartet': 5477, 'Queen': 5478, 'Queensbury': 5479, 'Quentin': 5480, 'Question': 5481, 'Quite': 5482, 'R': 5483, 'R.I.P': 5484, 'RARELY': 5485, 'REDNECKS': 5486, 'REFERENCES': 5487, 'RESIST': 5488, 'RIDICULOUS': 5489, 'RIPKara': 5490, 'RIPShawtyLo': 5491, 'RNS': 5492, 'ROCKS': 5493, 'RS': 5494, 'RUIN': 5495, 'Race': 5496, 'Rachel': 5497, 'Radio': 5498, 'Raid': 5499, 'Raising': 5500, 'RaisingTheBoss': 5501, 'Ramping': 5502, 'Rapids': 5503, 'Rapping': 5504, 'Rather': 5505, 'Rattatas': 5506, 'Ravenclaw': 5507, 'Rawhide': 5508, 'Reaching': 5509, 'Real': 5510, 'Reality': 5511, 'Recharged': 5512, 'Recommended': 5513, 'Red': 5514, 'ReformationDay': 5515, 'Reginald': 5516, 'Regret': 5517, 'Regulus': 5518, 'Remain': 5519, 'Reminds': 5520, 'Remix': 5521, 'Remo': 5522, 'Remus': 5523, 'Repeal': 5524, 'Republicans': 5525, 'Responsible': 5526, 'Rest': 5527, 'Retire': 5528, 'Reuters': 5529, 'Revelation': 5530, 'Rewards': 5531, 'Rewatching': 5532, 'Reyes': 5533, 'Ri.g': 5534, 'Rican': 5535, 'Richards': 5536, 'Riggs': 5537, 'Rights': 5538, 'Rihanna': 5539, 'Ring': 5540, 'Rioters': 5541, 'Rip': 5542, 'Rivertide': 5543, 'Rn': 5544, 'Rob': 5545, 'RobinHoodHour': 5546, 'Robinson': 5547, 'RockTheReTweet': 5548, 'Rockefeller': 5549, 'Rockies': 5550, 'Rockin': 5551, 'Rodrigo': 5552, 'Roger': 5553, 'RogerFedererShop': 5554, 'Rohan': 5555, 'Roho': 5556, 'Roland': 5557, 'Ron': 5558, 'Rona': 5559, 'Rooneys': 5560, 'Roosters': 5561, 'Rosa': 5562, 'Rt': 5563, 'Rugby': 5564, 'Rule': 5565, 'Run': 5566, 'Ruthann': 5567, 'Rwanda': 5568, 'SA': 5569, 'SABR': 5570, 'SAF': 5571, 'SAME': 5572, 'SATURDAYNIGHTLIVE': 5573, 'SAW': 5574, 'SCFC': 5575, 'SCRUBBED': 5576, 'SE': 5577, 'SEPARATE': 5578, 'SHIT': 5579, 'SHITLIB': 5580, 'SHOW': 5581, 'SHUT': 5582, 'SIF': 5583, 'SIGUEMEYTESIGO': 5584, 'SKEPTICISM': 5585, 'SMACK': 5586, 'SME': 5587, 'SNP': 5588, 'SOON': 5589, 'SORT': 5590, 'SPARKLES': 5591, 'SRC': 5592, 'SRPT': 5593, 'SRV': 5594, 'SS': 5595, 'STABILITY': 5596, 'STAGESCHOOL': 5597, 'STAY': 5598, 'STEM': 5599, 'STILL': 5600, 'STUNNING': 5601, 'SUCKS': 5602, 'SUN': 5603, 'SUPPORT': 5604, 'SUPRISED': 5605, 'SURE': 5606, 'SYDNEY': 5607, 'Sad': 5608, 'Sadly': 5609, 'Safety': 5610, 'Saga': 5611, 'Sagin': 5612, 'Said': 5613, 'Samuel': 5614, 'Sanders': 5615, 'SandraBland': 5616, 'Sara': 5617, 'Sarwar': 5618, 'Saudi': 5619, 'Say': 5620, 'Schalke': 5621, 'Schkeuditz': 5622, 'Scottish': 5623, 'Screw': 5624, 'Seaside': 5625, 'Secondary': 5626, 'Secretary': 5627, 'Seems': 5628, 'Selasi': 5629, 'Self': 5630, 'Senator': 5631, 'Sensitive': 5632, 'Sep': 5633, 'Set': 5634, 'Several': 5635, 'Shall': 5636, 'Shanghais': 5637, 'Shantosh': 5638, 'Sharpened': 5639, 'Sharpton': 5640, 'SheikhHasina': 5641, 'Shennan': 5642, 'Sherlock': 5643, 'Sherri': 5644, 'Shew': 5645, 'Shoot': 5646, 'Shop': 5647, 'ShoutDRIVE': 5648, 'Show': 5649, 'Shucks': 5650, 'Sickening': 5651, 'Sickness': 5652, 'Side': 5653, 'SilverLake': 5654, 'Sims': 5655, 'SingleGirlProblems': 5656, 'Sioux': 5657, 'Sip': 5658, 'Sites': 5659, 'Sits': 5660, 'Six': 5661, 'Sixth': 5662, 'Skyfall': 5663, 'Skype': 5664, 'Sleeping': 5665, 'Sloth': 5666, 'Slutfaceshlongnugget': 5667, 'Smith': 5668, 'Smithrud': 5669, 'Smokeys': 5670, 'Snores': 5671, 'SnowdenMovie': 5672, 'Snowgang': 5673, 'Somebody': 5674, 'Songs': 5675, 'Soon': 5676, 'Sorrow': 5677, 'Source!!\\\\n\\\\n': 5678, 'South': 5679, 'SouthPark20': 5680, 'Southampton': 5681, 'Southend': 5682, 'Spanish': 5683, 'Specialist': 5684, 'Speechless': 5685, 'Spencer': 5686, 'Spirits': 5687, 'Spit': 5688, 'Sports': 5689, 'SpringEquinox': 5690, 'Spurs': 5691, 'St': 5692, 'StandUpToCancer': 5693, 'Standard': 5694, 'Standing': 5695, 'Stanley': 5696, 'Starbucks': 5697, 'Stars': 5698, 'Staten': 5699, 'Steam': 5700, 'Steele': 5701, 'Stefano': 5702, 'Steiner': 5703, 'Stfuuu': 5704, 'Sting': 5705, 'Stk': 5706, 'Stoke': 5707, 'Stoked': 5708, 'StopCruelty': 5709, 'Story': 5710, 'Strange': 5711, 'Streatham': 5712, 'Strong': 5713, 'Strongwomen': 5714, 'Strumbellas': 5715, 'Student': 5716, 'Stupid': 5717, 'Styles': 5718, 'Sua': 5719, 'Successful': 5720, 'Such': 5721, 'Suffered': 5722, 'Suites': 5723, 'Summerof69': 5724, 'Sun': 5725, 'Sunshine': 5726, 'Super': 5727, 'Supernatural': 5728, 'Supine': 5729, 'Surely': 5730, 'Sustainability': 5731, 'Sweet': 5732, 'Swift': 5733, 'Swimmers': 5734, 'Switch': 5735, 'Symmetry': 5736, 'Synth': 5737, 'Syrian': 5738, 'Syrians': 5739, 'T.': 5740, 'T.I': 5741, 'T20': 5742, 'TBPTV': 5743, 'TEMPERAMENT': 5744, 'TEN': 5745, 'TF': 5746, 'TFLers': 5747, 'TG': 5748, 'TGIT': 5749, 'TGMbNqUEe': 5750, 'THEIR': 5751, 'THEN': 5752, 'THERE': 5753, 'THEY': 5754, 'THIEF': 5755, 'THREAT': 5756, 'TICKETS': 5757, 'TIME': 5758, 'TIMES': 5759, 'TL': 5760, 'TO': 5761, 'TONIGHT': 5762, 'TOTAL': 5763, 'TRIED': 5764, 'TRP': 5765, 'TRUMP': 5766, 'TRYNA': 5767, 'TTP': 5768, 'TVGirl': 5769, 'TagsForLikes': 5770, 'Taino': 5771, 'Talk': 5772, 'Talking': 5773, 'TalkingPeace': 5774, 'Tamra': 5775, 'Tamra\\\\nKelly': 5776, 'Tamron': 5777, 'Tasers': 5778, 'Tatenashi': 5779, 'TeamFollowBack': 5780, 'TeamMark': 5781, 'TeamNA': 5782, 'TeamNicole': 5783, 'TeamTTO': 5784, 'Tears': 5785, 'Tech': 5786, 'Tell': 5787, 'TerenceCruther': 5788, 'Terencecutcher': 5789, 'Termination': 5790, 'TerranceCrutcher': 5791, 'TerrenceCrutcher': 5792, 'Terrible': 5793, 'TerrorStatePak': 5794, 'Terrorist': 5795, 'Teufel': 5796, 'TheFive': 5797, 'TheGreenInferno': 5798, 'TheJail': 5799, 'TheLionKing': 5800, 'Them': 5801, \"This'll\": 5802, 'ThisIsAGodDream': 5803, 'ThisIsATerribleIdea': 5804, 'Thistle': 5805, 'Thiza': 5806, 'Tho': 5807, 'Thomas': 5808, 'Thoroughly': 5809, 'Thorpe': 5810, 'ThoughtfulThursday': 5811, 'Three': 5812, 'Throwback': 5813, 'Thursday': 5814, 'Tierney': 5815, 'Tiger': 5816, 'Tiller': 5817, 'Tired': 5818, 'TitanWisdom': 5819, 'Took': 5820, 'Total': 5821, 'Tracy': 5822, 'Traditionalists': 5823, 'Train': 5824, 'Trainee': 5825, 'Transfer': 5826, 'Trash': 5827, 'Travis': 5828, 'Trayvon': 5829, 'Trends': 5830, 'Trial': 5831, 'Tribez': 5832, 'Tried': 5833, 'Tristan': 5834, 'Troyler': 5835, 'Trudeau': 5836, 'True': 5837, 'Truly': 5838, 'TrumpPence': 5839, 'TrumpPuppet': 5840, 'Trumpism': 5841, 'Trust': 5842, 'Truth': 5843, 'Tuesday': 5844, 'TunbridgeWells': 5845, 'Turkish': 5846, 'Turnd': 5847, 'Turns': 5848, 'Tweet': 5849, 'Twenty': 5850, 'Tx': 5851, 'Tyson': 5852, 'U.': 5853, 'U20': 5854, 'UGH': 5855, 'UKIP': 5856, 'UNARMED': 5857, 'USA!These': 5858, 'USAToday': 5859, 'USApleasedont': 5860, 'Uggh': 5861, 'Ultimately': 5862, 'Ulzana': 5863, 'UnZU': 5864, 'Unchained': 5865, 'Uncle': 5866, 'UncleCamsCabin': 5867, 'Undifferentiated': 5868, 'UnitedAirlines': 5869, 'Unmatched': 5870, 'Unruly': 5871, 'Until': 5872, 'UofW': 5873, 'Up': 5874, 'Urgent': 5875, 'Uri': 5876, \"Us'\": 5877, 'UseAllTheHotWaterShower': 5878, 'Useless': 5879, 'Using': 5880, 'Utd': 5881, 'VC': 5882, 'VERGEcon': 5883, 'VIP': 5884, 'Valley': 5885, 'Vegas': 5886, 'Velocity': 5887, 'Vet': 5888, 'Viallreal': 5889, 'Vidar': 5890, 'Villa': 5891, 'Villaseñor': 5892, 'Vincent': 5893, 'Virtually': 5894, 'Visa': 5895, 'Vitals': 5896, 'Voice': 5897, 'Void': 5898, 'Voidz': 5899, 'Voke': 5900, 'Vols': 5901, 'Voodoo': 5902, 'VoteYourConscience': 5903, 'WAIT': 5904, 'WAS': 5905, 'WE': 5906, 'WERE': 5907, 'WGM': 5908, 'WHITE': 5909, 'WHOA': 5910, 'WHU': 5911, 'WHY': 5912, 'WINNING': 5913, 'WORST': 5914, 'WSJNordics': 5915, 'WWE': 5916, 'Wagging': 5917, 'Wah': 5918, 'Wake': 5919, 'Walk': 5920, 'Walker': 5921, 'Walterdale': 5922, 'WaltzWithBashir': 5923, 'Wanna': 5924, 'WantToGoBackToMinehead': 5925, 'Ward\\\\n#IGNITE': 5926, 'Warrior': 5927, 'Was': 5928, 'Wasted': 5929, 'Wawa': 5930, \"We're\": 5931, 'Website': 5932, 'Wee': 5933, 'Weird': 5934, 'WeirdWednesday': 5935, 'Welp': 5936, 'Wenger': 5937, 'Wesper\\\\nAlso,\\\\n4)Too': 5938, 'West': 5939, 'Westgate': 5940, 'Westminster': 5941, 'WgJ': 5942, 'Whatever': 5943, 'Whisky': 5944, 'Whitegirlwednesday': 5945, 'Whoa': 5946, \"Why'\": 5947, 'Wild\\\\n2)Fools\\\\n3)Talk': 5948, 'WilliamShakespeare': 5949, 'Wine': 5950, 'Winners': 5951, 'Wisconsin': 5952, 'Wo': 5953, 'Woke': 5954, 'Women': 5955, 'Wonder': 5956, 'Woolwich': 5957, 'Words': 5958, 'WorldPeaceDay': 5959, 'Worried': 5960, 'Wreck': 5961, 'Wrinkles': 5962, 'Wukong': 5963, 'XD': 5964, 'XLzjYhG': 5965, 'XUcQb': 5966, 'Xtremly': 5967, 'Y': 5968, 'YO': 5969, 'YUUUHH': 5970, 'Yadhav': 5971, 'Yal': 5972, 'Yall': 5973, 'YallaMaccabi': 5974, 'Yang': 5975, 'Yell': 5976, 'Yemen': 5977, 'Yikes': 5978, 'Yorkshire': 5979, 'YouAreArising': 5980, 'YouAreStrong': 5981, 'YouTube': 5982, 'Yous': 5983, 'Youtube': 5984, 'Yuck': 5985, 'Zales': 5986, 'Zoolander': 5987, '\\\\n#EvenMoreBlind': 5988, '\\\\n#NorthCarolina': 5989, '\\\\n#Trump': 5990, '\\\\n#fall': 5991, '\\\\n#funny': 5992, '\\\\n#holiday': 5993, '\\\\n#pictureday2016': 5994, '\\\\n#quote': 5995, \"\\\\n'It\": 5996, \"\\\\n'Oh\": 5997, \"\\\\n'You're\": 5998, '\\\\n*Walks': 5999, '\\\\n@MohammedSomaa01': 6000, '\\\\nCollege': 6001, '\\\\nDoes': 6002, '\\\\nDreams': 6003, '\\\\nEach': 6004, '\\\\nGood': 6005, '\\\\nHad': 6006, '\\\\nHappy': 6007, '\\\\nHar': 6008, '\\\\nIf': 6009, '\\\\nImagine': 6010, '\\\\nLikewise': 6011, '\\\\nLong': 6012, '\\\\nMatt': 6013, '\\\\nMichael': 6014, '\\\\nNothing': 6015, '\\\\nNurse': 6016, '\\\\nReally': 6017, '\\\\nSo': 6018, '\\\\nThat': 6019, '\\\\nWhat': 6020, '\\\\nWho': 6021, '\\\\n\\\\n#MHChat': 6022, '\\\\n\\\\n#Thursday': 6023, '\\\\n\\\\n#aja': 6024, '\\\\n\\\\n#poetry': 6025, '\\\\n\\\\n#soul': 6026, \"\\\\n\\\\n'Yeah\": 6027, '\\\\n\\\\n@The_Family_X': 6028, '\\\\n\\\\nAgainst': 6029, '\\\\n\\\\nAnd': 6030, '\\\\n\\\\nEveryone': 6031, '\\\\n\\\\nHe': 6032, '\\\\n\\\\nLet': 6033, '\\\\n\\\\nPursing': 6034, '\\\\n\\\\nThis': 6035, '\\\\n\\\\nXx': 6036, '\\\\n\\\\n[@AVIATAUBE': 6037, '\\\\n\\\\ndo': 6038, '\\\\n\\\\nso': 6039, '\\\\nabandonment': 6040, '\\\\nam': 6041, '\\\\nbecause': 6042, '\\\\ndream': 6043, '\\\\nor': 6044, '\\\\nsaddened': 6045, '\\\\nthat': 6046, '\\\\ntime': 6047, '\\\\nyet': 6048, '^': 6049, '^AP': 6050, 'aaahhhh': 6051, 'abscess': 6052, 'absurd': 6053, 'abundance': 6054, 'abuses': 6055, 'abusing': 6056, 'abusive': 6057, 'abysmal': 6058, 'academia': 6059, 'accent': 6060, 'accepts': 6061, 'accidentlyspillbeeronthecarpet': 6062, 'accommodate': 6063, 'accomplishments': 6064, 'accountability': 6065, 'accountancy': 6066, 'accounting': 6067, 'accused': 6068, 'acid': 6069, 'acknowledging': 6070, 'acount': 6071, 'acrid': 6072, 'actin': 6073, 'actions': 6074, 'activated': 6075, 'actively': 6076, 'activism': 6077, 'activists': 6078, 'actor': 6079, 'actors': 6080, 'ad': 6081, 'adder': 6082, 'addicted': 6083, 'address\\\\n@UN': 6084, 'addresses': 6085, 'addressing': 6086, 'adjusts': 6087, 'admin': 6088, 'admiring': 6089, 'admitting': 6090, 'adopt': 6091, 'adopting': 6092, 'adulthood': 6093, 'advance': 6094, 'adventure': 6095, 'adventures': 6096, 'advise': 6097, 'advocate': 6098, 'aesthetically': 6099, 'afaik': 6100, 'afew': 6101, 'affect': 6102, 'affective': 6103, 'affects': 6104, 'afford': 6105, 'afghanistan': 6106, 'afterellen': 6107, 'afterlife': 6108, 'aged': 6109, 'agent': 6110, 'agents': 6111, 'agg': 6112, 'aggravated': 6113, 'aggravates': 6114, 'aggravation': 6115, 'aggressive': 6116, 'aghast': 6117, 'agreed': 6118, 'ahahah': 6119, 'ahead': 6120, 'ahs': 6121, 'ahsaftershow': 6122, 'aico': 6123, 'air\\\\nMy': 6124, 'airplane': 6125, 'airtel': 6126, 'aka': 6127, 'al': 6128, 'alarmist': 6129, 'alcohol': 6130, 'alcoholic': 6131, 'aldo': 6132, 'alias': 6133, 'aliens': 6134, 'alleged': 6135, 'allergic': 6136, 'alliance': 6137, 'allllat': 6138, 'allowed': 6139, 'allows': 6140, 'ally': 6141, 'alright': 6142, 'alt': 6143, 'alternative': 6144, 'amaity': 6145, 'amateur': 6146, 'amazon': 6147, 'americanairlinessucks': 6148, 'americanhorrorstory': 6149, 'amerikkka': 6150, 'amidst': 6151, 'amirite': 6152, 'among': 6153, 'amp;OBC': 6154, 'ampalaya': 6155, 'an\\\\n#idiot': 6156, 'analyzing': 6157, 'anatomy': 6158, 'andriaprebles': 6159, 'angel': 6160, 'angels': 6161, 'angers': 6162, 'angle': 6163, 'animals\\\\nTrap': 6164, 'anime': 6165, 'ankle': 6166, 'announce': 6167, 'announced': 6168, 'annoyance': 6169, 'anonymously': 6170, 'answered': 6171, 'answers': 6172, 'anthem': 6173, 'antichrist': 6174, 'anticipating': 6175, 'anxietymaybe': 6176, 'anxietyproblems': 6177, 'anxietyrelief': 6178, 'apathy': 6179, 'apocalypse': 6180, 'apologising': 6181, 'apologists': 6182, 'apologizing': 6183, 'apology': 6184, 'appalling': 6185, 'appeal': 6186, 'appear': 6187, 'appetizer': 6188, 'apple': 6189, 'appleMusic': 6190, 'appreciate': 6191, 'appreciation': 6192, 'apprehend': 6193, 'apprehensive': 6194, 'approach': 6195, 'approaching': 6196, 'approximately': 6197, 'apps': 6198, 'appsworld': 6199, 'architecture': 6200, 'areas': 6201, 'argue': 6202, 'arguments': 6203, 'ari': 6204, 'arming': 6205, 'armour': 6206, 'army': 6207, 'arrange': 6208, 'arrives': 6209, 'arriving': 6210, 'arrogance': 6211, 'arround': 6212, 'artefact': 6213, 'articles': 6214, 'artist': 6215, 'asap': 6216, 'asf': 6217, 'ashamed': 6218, 'asks': 6219, 'asparagus': 6220, 'aspect': 6221, 'aspie': 6222, 'aspiring': 6223, 'assault': 6224, 'assembly': 6225, 'assessed': 6226, 'asset': 6227, 'assigned': 6228, 'assignment': 6229, 'assistance': 6230, 'assistant': 6231, 'associate': 6232, 'assumed': 6233, 'assure': 6234, 'assured': 6235, 'asylumseekers': 6236, 'athlete': 6237, 'athletic': 6238, 'atop': 6239, \"att'n\": 6240, 'attachments': 6241, 'attacked': 6242, 'attempted': 6243, 'attending': 6244, 'attract': 6245, 'attracted': 6246, 'attractive': 6247, 'audio': 6248, 'authorlove': 6249, 'authors': 6250, 'auto': 6251, 'automatic': 6252, 'automatically': 6253, 'autumn': 6254, 'avanquest': 6255, 'avoided': 6256, 'awake': 6257, 'awake\\\\nIn': 6258, 'award': 6259, 'awarded': 6260, 'aware': 6261, 'awhile': 6262, 'awkwardly': 6263, 'aww': 6264, 'axis': 6265, 'b***er': 6266, 'b4': 6267, 'babes': 6268, 'back2back': 6269, 'backbone': 6270, 'backfire': 6271, 'background': 6272, 'backtoreality': 6273, 'backyard': 6274, 'badbusiness': 6275, 'badkarma': 6276, 'bae': 6277, 'baker': 6278, 'bakewell': 6279, 'bald': 6280, 'ballet': 6281, 'ballons': 6282, 'balloons': 6283, 'balm': 6284, 'baloch': 6285, 'ban': 6286, 'banana': 6287, 'band\\\\n\\\\n#music': 6288, 'banging': 6289, 'banking': 6290, 'bantz': 6291, 'barb': 6292, 'baritone': 6293, 'barracking': 6294, 'base': 6295, 'baseball': 6296, 'bases': 6297, 'basis': 6298, 'basketball': 6299, 'baskets': 6300, 'basshunter': 6301, 'basslessons': 6302, 'bastards': 6303, 'bathingsuitsforever': 6304, 'battered': 6305, 'battery': 6306, 'battlefield': 6307, 'bbcnews': 6308, 'bbfail': 6309, 'bbmichelle': 6310, 'bbq': 6311, 'bcoz': 6312, 'bcwinechat': 6313, 'beach': 6314, 'beaches': 6315, 'bear': 6316, 'beard': 6317, 'bears': 6318, 'beauty': 6319, 'becouse': 6320, 'becz': 6321, 'beds': 6322, 'beeping': 6323, 'beg': 6324, 'begging': 6325, 'beginning': 6326, 'begins': 6327, 'begun': 6328, 'behave': 6329, 'behaved': 6330, 'behaviour': 6331, 'belief': 6332, 'belies': 6333, 'believed': 6334, 'belongings': 6335, 'below': 6336, 'belt': 6337, 'ben': 6338, 'benchmarks': 6339, 'bend': 6340, 'bender': 6341, 'benoakley': 6342, 'bernblade': 6343, 'berniebrocialists': 6344, 'beside': 6345, 'bestrides': 6346, 'betterwithsinnfein': 6347, 'beware': 6348, 'bgoodthepoet': 6349, 'biasedmedia': 6350, 'bible': 6351, 'bigman': 6352, 'bigot': 6353, 'bigots': 6354, 'bike': 6355, 'bikes': 6356, 'bin': 6357, 'biological': 6358, 'biology': 6359, 'bipolar': 6360, 'birds': 6361, 'birthdays': 6362, 'birthdayyyyyy': 6363, 'bitcoin': 6364, 'bite': 6365, 'biting': 6366, 'biz': 6367, 'bizitalk': 6368, 'blackish': 6369, 'blacklivesmatter': 6370, 'blaiming': 6371, 'blairwitchproject': 6372, 'blake': 6373, 'blames': 6374, 'blaming': 6375, 'blanket': 6376, 'blankets': 6377, 'blasio': 6378, 'blatant': 6379, 'blend': 6380, 'blinddogradio': 6381, 'blinders': 6382, 'blizzard': 6383, 'blockade': 6384, 'bloke': 6385, 'blondmoment': 6386, 'bloods': 6387, 'bloody': 6388, 'bls': 6389, 'body\\\\n-': 6390, 'bodyposi': 6391, 'boggart': 6392, 'boldandbeautiful': 6393, 'bollocked': 6394, 'bolts': 6395, 'bombings': 6396, 'bones': 6397, 'bonnie': 6398, 'boobs': 6399, 'booming': 6400, 'boost': 6401, 'boosted': 6402, 'booth': 6403, 'booty': 6404, 'booze': 6405, 'borderline': 6406, 'boredaf': 6407, 'born\\\\nme': 6408, 'borrow': 6409, 'bot': 6410, 'bound': 6411, 'bounty': 6412, 'bowels': 6413, 'bowl': 6414, 'bowls': 6415, 'bows': 6416, 'boxers': 6417, 'boyfriend': 6418, 'bradangelina': 6419, 'braininess': 6420, 'brand': 6421, 'branding': 6422, 'brandonmanitoba': 6423, 'brands': 6424, 'brat': 6425, 'bravado': 6426, 'brave': 6427, 'braved': 6428, 'brawndo': 6429, 'brazy': 6430, 'breakdown': 6431, 'breakfast': 6432, 'breaths': 6433, 'breeding': 6434, 'brendon': 6435, 'brewing': 6436, 'bribe': 6437, 'bribed': 6438, 'bribing': 6439, 'bridge': 6440, 'brief': 6441, 'broad': 6442, 'broccoli': 6443, 'brock': 6444, 'brodcast': 6445, 'bronzy': 6446, 'brownie': 6447, 'brushing': 6448, 'brutally': 6449, 'bs': 6450, 'bts': 6451, 'buddy': 6452, 'bugs': 6453, 'buildingpeace': 6454, 'builds': 6455, 'bulldogslways': 6456, 'bullet': 6457, 'bullying': 6458, 'bum': 6459, 'bump': 6460, 'bun': 6461, 'bundle': 6462, 'burden': 6463, 'burgers': 6464, 'burn': 6465, 'burned': 6466, 'burner': 6467, 'burners': 6468, 'busquet': 6469, 'busted': 6470, 'buzz': 6471, 'buzzinnnnnn': 6472, 'c': 6473, 'c$%t': 6474, 'cHd': 6475, 'cackle': 6476, 'cactus': 6477, 'cakeclubhour': 6478, 'cal': 6479, 'calculated': 6480, 'calmness': 6481, 'calves': 6482, 'cameras': 6483, 'campaignin': 6484, 'camps': 6485, 'campus': 6486, 'candidates': 6487, 'canning': 6488, 'cantbeatme': 6489, 'cantconacon': 6490, 'cantstoplaughing': 6491, 'capable': 6492, 'capo': 6493, 'cappuccino': 6494, 'caps': 6495, 'captain': 6496, 'captivating': 6497, 'cardiac': 6498, 'cardinal': 6499, 'cardio': 6500, 'carefull': 6501, 'caressing': 6502, 'carletonuniversity': 6503, 'carriages': 6504, 'carried': 6505, 'carrying': 6506, 'cars': 6507, 'cash': 6508, 'cashew': 6509, 'cashier': 6510, 'caste': 6511, 'casuals': 6512, 'categ': 6513, 'cats.cutie': 6514, 'caused': 6515, 'cavalierly': 6516, 'cave': 6517, 'cba': 6518, 'cd': 6519, 'cease': 6520, 'celebrities': 6521, 'cell': 6522, 'celtic': 6523, 'censored': 6524, 'censorship': 6525, 'centerpiece': 6526, 'cept': 6527, 'ceremony': 6528, 'certified': 6529, 'chains': 6530, 'chair': 6531, 'chamber': 6532, 'champagnedreams': 6533, 'changed': 6534, 'chaotic': 6535, 'chappy': 6536, 'characteristic': 6537, 'charcoal': 6538, 'charged': 6539, 'charges': 6540, 'charisma': 6541, 'charity': 6542, 'chart': 6543, 'chattering': 6544, 'chaudhry': 6545, 'cheat': 6546, 'checkin': 6547, 'cheeks': 6548, 'cheeky': 6549, \"cheer'd\": 6550, 'cheese': 6551, 'cheeseburger': 6552, 'cheesy': 6553, 'chef': 6554, 'chemistry': 6555, 'cherry': 6556, 'chests': 6557, 'chewing': 6558, 'chia': 6559, 'chick': 6560, 'chickflick': 6561, 'childlike': 6562, 'chilli': 6563, 'chills': 6564, 'chilly': 6565, 'chipotle': 6566, 'chiropractor': 6567, 'chirpy': 6568, 'chocolate': 6569, 'choices': 6570, 'choked': 6571, 'chokes': 6572, 'cholroform': 6573, 'chop': 6574, 'chopper': 6575, 'chose': 6576, 'christ': 6577, 'christmas': 6578, 'chuckin': 6579, 'chuckles': 6580, 'chusssss': 6581, 'cigar': 6582, 'cigarettes': 6583, 'cinematography': 6584, 'circle': 6585, 'circumstantial': 6586, 'citizens': 6587, 'clam': 6588, 'clan': 6589, 'clapping': 6590, 'classical': 6591, 'classicrock': 6592, 'classified': 6593, 'classmate': 6594, 'claws': 6595, 'cleanse': 6596, 'cleared': 6597, 'clearing': 6598, 'cleaved': 6599, 'clenching': 6600, 'client': 6601, 'cliff': 6602, 'climatechange': 6603, 'clin': 6604, 'clinton': 6605, 'clintwanda': 6606, 'clip': 6607, 'clips': 6608, 'clock': 6609, \"close:'O!:''/\": 6610, 'closed': 6611, 'closest': 6612, 'cluboftheyear': 6613, 'clueless': 6614, 'clutter': 6615, 'cmode': 6616, 'cnn': 6617, 'coaching': 6618, 'cobblers': 6619, 'cock': 6620, 'coding': 6621, 'coercion': 6622, 'coffey1617': 6623, 'cognitive': 6624, 'coincidentally': 6625, 'coins': 6626, 'coke': 6627, 'coked': 6628, 'colada': 6629, 'colinkaepernick': 6630, 'colinkapernick': 6631, 'collab': 6632, 'collapses': 6633, 'collateral': 6634, 'collegekills': 6635, 'collegelife': 6636, 'colors': 6637, 'combination': 6638, 'combined': 6639, 'comedic': 6640, 'comethefuckonbridget': 6641, 'comfort': 6642, 'comforted': 6643, 'comics': 6644, 'commando': 6645, 'comment': 6646, 'commentator': 6647, 'commit': 6648, 'commiting': 6649, 'commitments#wrongproduct': 6650, 'committing': 6651, 'common': 6652, 'communication': 6653, 'communism': 6654, 'commute': 6655, 'compare': 6656, 'compared': 6657, 'comparison': 6658, 'compatibility': 6659, 'compelling': 6660, 'competition': 6661, 'competitive': 6662, 'complained': 6663, 'complaining': 6664, 'complains': 6665, 'complaints': 6666, 'complexptsd': 6667, 'complications': 6668, 'compromise': 6669, 'conartist': 6670, 'concerned': 6671, 'concerning': 6672, 'concessions': 6673, 'conciousness': 6674, 'conciseness': 6675, 'concluded': 6676, 'conclusions': 6677, 'concur': 6678, 'condition': 6679, 'conditioned': 6680, 'conditions': 6681, 'conduct': 6682, 'conductor': 6683, 'cones': 6684, 'confesses': 6685, 'confidence': 6686, 'confimation': 6687, 'confirm': 6688, 'conflate': 6689, 'confrontations': 6690, 'congrats': 6691, 'coniferous': 6692, 'consciousness': 6693, 'consenting': 6694, 'consequence': 6695, 'consequences': 6696, 'conservative': 6697, 'considers': 6698, 'consistency': 6699, 'consistent': 6700, 'constipated': 6701, 'constipation': 6702, 'constituents': 6703, 'constitution': 6704, 'constructive': 6705, 'consumate': 6706, 'consumer': 6707, 'consumerism': 6708, 'contacted': 6709, 'contacts': 6710, 'contagious': 6711, 'contestants': 6712, 'context': 6713, 'continued': 6714, 'continues': 6715, 'contributing': 6716, 'contributions': 6717, 'controlled': 6718, 'controls': 6719, 'controversies': 6720, 'conundrum': 6721, 'converse': 6722, 'convicts': 6723, 'convo': 6724, 'convos': 6725, 'cook': 6726, 'cooties.\\\\nI': 6727, 'cope': 6728, 'core246': 6729, 'corinthian': 6730, 'cork': 6731, 'corner': 6732, 'coronary': 6733, 'correction': 6734, 'correlative': 6735, 'corridors': 6736, 'corrupted': 6737, 'cos': 6738, 'cost': 6739, 'couch': 6740, 'count': 6741, 'counterfeit.-': 6742, 'counting': 6743, 'countless': 6744, 'countrygirl': 6745, 'countryside': 6746, 'county': 6747, 'couples': 6748, 'coupons': 6749, 'course': 6750, 'courting': 6751, 'cousins': 6752, 'cow': 6753, 'cowardliness': 6754, 'cower': 6755, 'cramp': 6756, 'crashed': 6757, 'crashing': 6758, 'crawling': 6759, 'crawls': 6760, 'crazy': 6761, 'creak': 6762, 'creaking': 6763, 'creams': 6764, 'creamy': 6765, 'creating': 6766, 'creative': 6767, 'creativity': 6768, 'creator': 6769, 'credentials': 6770, 'credit': 6771, 'crew': 6772, 'cricket': 6773, 'crickets': 6774, 'cries': 6775, 'crimewatch': 6776, 'criminalized': 6777, 'criminals': 6778, 'crinkling': 6779, 'crippling': 6780, 'crisp': 6781, 'criticise': 6782, 'criticism': 6783, 'critics': 6784, 'cronies': 6785, 'crossfire': 6786, 'crossing': 6787, 'crowds': 6788, 'crucial': 6789, 'crudely': 6790, 'crushed': 6791, 'cryptic': 6792, 'ctid': 6793, 'cube': 6794, 'cucks': 6795, 'cuddled': 6796, 'cuddles': 6797, 'culture?#BeDifferent': 6798, 'cultures': 6799, 'cumtribute': 6800, 'cunts': 6801, 'cupcake': 6802, 'curbing': 6803, 'curious': 6804, 'curry': 6805, 'curse': 6806, 'cursing': 6807, 'cushion': 6808, 'customerexperience': 6809, 'customerservicefail': 6810, 'cuts': 6811, 'cutting': 6812, 'cycling': 6813, 'cyprus': 6814, 'da': 6815, 'dabbed': 6816, 'dad#husband': 6817, 'daft': 6818, 'dain': 6819, 'dame': 6820, 'damning': 6821, 'damnit': 6822, 'dancer': 6823, 'dandelion': 6824, 'dangerously': 6825, 'danishes': 6826, 'dare': 6827, 'dared': 6828, 'darker': 6829, 'darkness': 6830, 'dashboard': 6831, 'dates': 6832, 'davidgilmour': 6833, 'davis': 6834, 'day5': 6835, 'dayjob': 6836, 'daytime': 6837, 'de': 6838, 'deBlasio': 6839, 'deadlines': 6840, 'dealt': 6841, 'death\\\\nNo': 6842, 'deaths': 6843, 'debacle': 6844, 'debuts': 6845, 'decade': 6846, 'deceived': 6847, 'decent(ish)tonight': 6848, 'deception': 6849, 'deciduous': 6850, 'declare': 6851, 'decorations': 6852, 'dedicated': 6853, 'deeds': 6854, 'deephouse': 6855, 'def': 6856, 'default': 6857, 'defeat': 6858, 'defence': 6859, 'defend': 6860, 'defender': 6861, 'defensive': 6862, 'defiantly': 6863, 'definition': 6864, 'delays': 6865, 'deleted': 6866, 'delhi': 6867, 'deliver': 6868, 'delusions': 6869, 'demanding': 6870, 'demands': 6871, 'demolition': 6872, 'demon': 6873, 'demonstrations': 6874, 'denial': 6875, 'dense': 6876, 'denser': 6877, 'dentists': 6878, 'departure': 6879, 'depay': 6880, 'dependent': 6881, 'depending': 6882, 'deployment': 6883, 'depravity': 6884, 'deptch': 6885, 'depths': 6886, 'describe': 6887, 'deserved': 6888, 'desgusting': 6889, 'desication': 6890, 'design': 6891, 'designer': 6892, 'desk': 6893, 'despise': 6894, 'despondent': 6895, 'destroyer': 6896, 'destroying': 6897, 'destruction': 6898, 'detachment': 6899, 'detail': 6900, 'detailed': 6901, 'detention': 6902, 'determined': 6903, 'determining': 6904, 'detest': 6905, 'deuces': 6906, 'devastated': 6907, 'develops': 6908, 'devices': 6909, 'devil': 6910, 'devoid': 6911, 'dharmainitiative': 6912, 'dhona': 6913, 'dhoni': 6914, 'dialogue.#India': 6915, \"did'nt\": 6916, 'dies': 6917, 'diesel': 6918, 'diets': 6919, 'differ': 6920, 'differing': 6921, 'differs': 6922, 'difficulties': 6923, 'digesting': 6924, 'digging': 6925, \"digging'.\\\\n#AllScumbags\": 6926, 'dignity': 6927, 'dilated': 6928, 'dilemma': 6929, 'diminishes': 6930, 'din': 6931, 'dingle': 6932, 'dinner': 6933, 'dint': 6934, 'direct': 6935, 'directing': 6936, 'direction': 6937, 'directional': 6938, 'director': 6939, 'dirt': 6940, 'dirty': 6941, 'dis': 6942, 'disabledlivesmatter': 6943, 'disappointment': 6944, 'disapproves': 6945, 'discipline': 6946, 'disciplined': 6947, 'disciplines': 6948, 'disclosed': 6949, 'disco': 6950, 'discovered': 6951, 'discriminate': 6952, 'discriminatory': 6953, 'discussing': 6954, 'disdain': 6955, 'disgracefulesin': 6956, 'disheartening': 6957, 'dismay': 6958, 'disney': 6959, 'dispel': 6960, 'displeasure': 6961, 'disposition': 6962, 'disrespect': 6963, 'disruption': 6964, 'diss': 6965, 'dissociating': 6966, 'dissonance': 6967, 'distance': 6968, 'distant': 6969, 'distinguished': 6970, 'distracted': 6971, 'distraught': 6972, 'disturb': 6973, 'ditto': 6974, 'div': 6975, 'dive': 6976, 'divorce': 6977, 'divorcing': 6978, \"do'.doc\": 6979, 'dobetter': 6980, 'dodger': 6981, 'doesn´t': 6982, \"don't--\": 6983, \"don'tcare\": 6984, 'donate': 6985, 'donations': 6986, 'doneeeee': 6987, 'dontvisit': 6988, 'door\\\\na': 6989, 'doorjambs': 6990, 'dopey': 6991, 'dosomething': 6992, 'dosomethingpoliticans': 6993, 'doubt': 6994, 'down\\\\nI': 6995, 'down\\\\n\\\\nYou': 6996, 'downhearted': 6997, 'downing': 6998, 'downstairs': 6999, 'dpt': 7000, 'drafts&amp;now': 7001, 'dragoness': 7002, 'drain': 7003, 'drained': 7004, 'drams': 7005, 'dreambig': 7006, 'dreamboys': 7007, 'dreamer': 7008, 'dreamt': 7009, 'dreary': 7010, 'dressed': 7011, 'drew': 7012, 'dried': 7013, 'dries': 7014, 'drift': 7015, 'drill': 7016, 'drives': 7017, 'drone': 7018, 'drooping': 7019, 'dryer': 7020, 'dt': 7021, 'dual': 7022, 'duck': 7023, 'ducked': 7024, 'dudes': 7025, 'duff': 7026, 'duha': 7027, 'dunno': 7028, 'durag': 7029, 'dyke': 7030, 'eYGgJxMl': 7031, 'eachother': 7032, 'earhole': 7033, 'earnest': 7034, 'earning': 7035, 'earphones': 7036, 'earpiece': 7037, 'earrings': 7038, 'easier': 7039, 'easy!\\\\n&amp': 7040, 'eatcake': 7041, 'eaten': 7042, 'eats': 7043, 'eaxh': 7044, 'echo': 7045, 'ecosystem': 7046, 'ect': 7047, 'edge': 7048, 'editing': 7049, 'edition': 7050, 'ef': 7051, 'effects': 7052, 'efficient': 7053, 'egg': 7054, 'eh': 7055, 'ehhh': 7056, 'elbows': 7057, 'elder': 7058, 'elected': 7059, 'electing': 7060, 'elections': 7061, 'electron': 7062, 'elite': 7063, 'embarrassed': 7064, 'embarrassment': 7065, 'embracing': 7066, 'emergency': 7067, 'emoticon': 7068, 'empath': 7069, 'empathetic': 7070, 'emphasis': 7071, 'employment': 7072, 'emulate': 7073, 'encounter': 7074, 'encryption': 7075, 'ended': 7076, 'endless': 7077, 'endlesspossibilities': 7078, 'endofanera': 7079, 'endorsement': 7080, 'endulging': 7081, 'energetic': 7082, 'eng': 7083, 'engaging': 7084, 'engineer': 7085, 'engineers': 7086, 'engulf': 7087, 'enjoyed': 7088, 'enjoying': 7089, 'enliven': 7090, 'entity': 7091, 'entree': 7092, 'entrenepuers': 7093, 'entry': 7094, 'enveloped': 7095, 'equals': 7096, 'equipment': 7097, 'equity': 7098, 'era-': 7099, 'ere': 7100, 'err': 7101, 'error': 7102, 'escalate': 7103, 'esinscountdown': 7104, 'essay': 7105, 'essence': 7106, 'estate': 7107, 'estranged': 7108, 'et': 7109, 'etates': 7110, 'etc.&amp': 7111, 'etc\\\\n\\\\nthese': 7112, 'eternal': 7113, 'ethan': 7114, 'ethic': 7115, 'etihad': 7116, 'evaluation': 7117, 'event': 7118, 'eventual': 7119, 'everythin': 7120, 'everythings': 7121, 'evidence': 7122, 'evident': 7123, 'evidently': 7124, 'evolve': 7125, 'evrn': 7126, 'ewu': 7127, 'exasperate': 7128, 'except': 7129, 'exclusivity': 7130, 'exec': 7131, 'exhausting': 7132, 'existence': 7133, 'existing': 7134, 'exit': 7135, 'exited': 7136, 'expac': 7137, 'expand': 7138, 'expansion': 7139, 'expectation': 7140, 'expectations': 7141, 'expects': 7142, 'expedition': 7143, 'expiring': 7144, 'exploding': 7145, 'explosion': 7146, 'exporting': 7147, 'extend': 7148, 'extent': 7149, 'extract': 7150, 'extremely': 7151, 'extremeworld': 7152, 'eyed': 7153, 'f': 7154, 'facebookisforfamily': 7155, 'fact\\\\n\\\\nHi': 7156, 'factor': 7157, 'factory': 7158, 'fade': 7159, 'faded': 7160, 'fag': 7161, 'fails': 7162, 'fair': 7163, 'fairly': 7164, 'fakes': 7165, 'fallweather': 7166, 'fame': 7167, 'fame\\\\nif': 7168, 'families': 7169, 'fanbase': 7170, 'fancypants': 7171, 'fantastic': 7172, 'fantasy': 7173, 'fanz': 7174, 'farewell': 7175, 'farm365': 7176, 'fascist': 7177, 'fashioned': 7178, 'faster': 7179, 'fatloss': 7180, 'fattening': 7181, 'faved': 7182, 'favorites': 7183, 'fawn': 7184, 'fays': 7185, 'fazed': 7186, 'fckd': 7187, 'fcking': 7188, 'feared': 7189, 'fearsome': 7190, 'federal': 7191, 'fedup': 7192, 'feed': 7193, 'feeding': 7194, 'feeds': 7195, 'feelz': 7196, 'fees': 7197, 'feet\\\\nWhere': 7198, 'feic': 7199, 'feigned': 7200, 'fell': 7201, 'fellowship': 7202, 'females': 7203, 'feminist': 7204, 'feodal': 7205, 'ferocious': 7206, 'festooned': 7207, 'fever': 7208, 'fewer': 7209, 'fi': 7210, 'fiddle': 7211, 'fights': 7212, 'figure': 7213, 'figuring': 7214, 'fills': 7215, 'filming': 7216, 'filmmakers': 7217, 'filmmaking': 7218, 'finals': 7219, 'financial': 7220, 'financing': 7221, 'finger': 7222, 'finishers': 7223, 'firefighting': 7224, 'firesauce': 7225, 'fireworks': 7226, 'firmly': 7227, 'firsttweetever': 7228, 'firstworldproblems': 7229, 'fishin': 7230, 'fists': 7231, 'fitness': 7232, 'fitted': 7233, 'five': 7234, 'fixed': 7235, 'fixer': 7236, 'fl': 7237, 'flags': 7238, 'flailing': 7239, 'flaked': 7240, 'flamenco': 7241, 'flares': 7242, 'flashbacks': 7243, 'flat': 7244, 'flatmate': 7245, 'flatters': 7246, 'flaws': 7247, 'fleeing': 7248, 'flesh': 7249, 'flexing': 7250, 'flick': 7251, 'flinch': 7252, 'flip': 7253, 'flirting': 7254, 'floss': 7255, 'flourishes': 7256, 'flow': 7257, 'flower': 7258, 'flt': 7259, 'fluffy': 7260, 'focal': 7261, 'focused': 7262, 'focusing': 7263, 'fodder': 7264, 'foh': 7265, 'folk': 7266, 'follow4follow': 7267, 'followback': 7268, 'followme': 7269, 'follows': 7270, 'footballler': 7271, 'footy': 7272, 'forced': 7273, 'forcibly': 7274, 'fordone.\\\\nNow': 7275, 'foreign': 7276, 'foreigners\\\\n\\\\n#Malaysia': 7277, 'foreveralone': 7278, 'forgiveness': 7279, 'formidable': 7280, 'forms': 7281, 'fortunate': 7282, 'fought': 7283, 'foul': 7284, 'fouls': 7285, 'foundational': 7286, 'foursquare': 7287, 'fox': 7288, 'foyer': 7289, 'fraction': 7290, 'frank': 7291, 'freaks': 7292, 'fredsirieix': 7293, 'free-': 7294, 'freepizza': 7295, 'freezer': 7296, 'freezing': 7297, 'fresh': 7298, 'freshers': 7299, 'freshly': 7300, 'fridge': 7301, 'fried\\\\nEating': 7302, 'friedrichnietzsche': 7303, 'fries': 7304, 'frisbee': 7305, 'frisk': 7306, 'frivolity': 7307, 'frm': 7308, 'froa': 7309, 'fruit': 7310, 'fruits': 7311, 'frustrates': 7312, 'fs': 7313, 'fscts': 7314, 'ft': 7315, 'fu*k': 7316, 'fuc*ing': 7317, 'fucken': 7318, \"fuckin'lifeisnotafairytale\": 7319, 'fuckingmeup': 7320, 'fufill': 7321, 'fukc': 7322, 'full\\\\nThe': 7323, 'fuller': 7324, 'fullofshit': 7325, 'fullprice': 7326, 'fully': 7327, 'function': 7328, 'functional': 7329, 'fundamentals': 7330, 'funding': 7331, 'fundraisers': 7332, 'funds': 7333, 'funereal': 7334, 'funnier': 7335, 'funsville': 7336, 'fur': 7337, 'furrow': 7338, 'furry': 7339, 'furthest': 7340, 'fut': 7341, 'futile': 7342, 'futuristic': 7343, 'fuuuuuuuck': 7344, 'gLEE': 7345, 'gaff': 7346, 'gaga': 7347, 'gain': 7348, 'gained': 7349, 'gaining': 7350, 'galore': 7351, 'gamedev': 7352, 'gameing': 7353, 'gameover': 7354, 'gameplay': 7355, 'gangster': 7356, 'gaps': 7357, 'garageband': 7358, 'gargle': 7359, 'garoppolo': 7360, 'gatewayarch': 7361, 'gather': 7362, 'gathering': 7363, 'gazillion': 7364, 'gbbo': 7365, 'genders': 7366, 'generally': 7367, 'generates': 7368, 'generations': 7369, 'geniuses': 7370, 'genre': 7371, 'gentleman': 7372, 'gently': 7373, 'genuinely': 7374, 'geometry': 7375, 'geopolitics': 7376, 'germantownbroncos': 7377, 'germs': 7378, 'gesture': 7379, 'getoffthetrain': 7380, 'getsauced': 7381, 'gettin': 7382, 'ghastinoir': 7383, 'gideon': 7384, 'gift': 7385, 'gig': 7386, 'girlfriends': 7387, 'giuliani': 7388, 'glance': 7389, 'glanced': 7390, 'gleegoodbye': 7391, 'gleesome': 7392, 'glitch': 7393, 'glory': 7394, 'glove': 7395, 'glow,\\\\nWhilst': 7396, 'glowing': 7397, 'glows': 7398, 'glowy': 7399, 'glutes': 7400, 'gn': 7401, 'gobbler': 7402, 'gobsmacked': 7403, 'goddamn': 7404, 'gods': 7405, 'going4gold': 7406, 'going\\\\nto': 7407, 'goings': 7408, 'goksfillyourhouseforfree': 7409, 'goldmedal': 7410, 'good.\\\\n': 7411, 'good.\\\\n#anxietyrelief': 7412, 'goodbye': 7413, 'goodbyesummer': 7414, 'goofballs': 7415, 'goofiest': 7416, 'goofy': 7417, 'googling': 7418, 'goosebumps': 7419, 'gore': 7420, 'gorgeous': 7421, 'gorre': 7422, 'gospel': 7423, 'got7': 7424, 'gotham': 7425, 'gothcore': 7426, 'gottawearshades': 7427, 'gov': 7428, 'gove': 7429, 'govt--&gt': 7430, 'gpa': 7431, 'gps': 7432, 'grad': 7433, 'grades': 7434, 'graham': 7435, 'gran': 7436, 'grandad': 7437, 'grandmother': 7438, 'granted': 7439, 'grapefruit': 7440, 'grapes': 7441, 'grate': 7442, 'gratitude': 7443, 'grave': 7444, 'grayson': 7445, 'greater': 7446, 'greatest': 7447, 'greatly': 7448, 'greatness': 7449, 'greedy': 7450, 'greenwichmarket': 7451, 'greet': 7452, 'greyhound': 7453, 'greys': 7454, 'griffin': 7455, 'grilled': 7456, 'grimrail': 7457, 'grimy': 7458, 'grinned': 7459, 'gripping': 7460, 'grizzly': 7461, 'groceries': 7462, 'groove': 7463, 'grope': 7464, 'ground': 7465, 'grounds': 7466, 'groups': 7467, 'growingupsucks': 7468, 'grown': 7469, 'growth': 7470, 'grumbled': 7471, 'grumpy': 7472, 'gt;400k': 7473, 'guard': 7474, 'guarded': 7475, 'guards': 7476, 'guiding': 7477, 'guise': 7478, 'guitar': 7479, 'gum': 7480, 'gunna': 7481, 'gurls': 7482, 'ha': 7483, 'habit': 7484, 'habits': 7485, 'hahahah': 7486, 'hahahahahahaha': 7487, 'haiku\\\\n\\\\nThe': 7488, 'haikuchallenge': 7489, 'haircut': 7490, 'haired': 7491, 'halfway': 7492, 'hall': 7493, 'hallucination': 7494, 'ham': 7495, 'hammer': 7496, 'hamstring': 7497, 'handicap': 7498, 'hangers': 7499, 'happen.\\\\n\\\\n#cpd': 7500, 'happily': 7501, 'happiness': 7502, 'happond': 7503, 'happyjinyoungday': 7504, 'harambe': 7505, 'harass': 7506, 'harboring': 7507, 'hardy': 7508, 'harm\\\\njust': 7509, 'harry': 7510, 'harvest16': 7511, 'hashtag': 7512, 'hashtags': 7513, 'hassle': 7514, 'hat': 7515, 'hateBeingLate': 7516, 'hate\\\\nAnd': 7517, 'hateful': 7518, 'hater': 7519, 'hates': 7520, 'haunted': 7521, 'hauntedattraction': 7522, 'havin': 7523, 'havnt': 7524, 'haww': 7525, 'hbu': 7526, \"he'll\": 7527, 'headed': 7528, 'header': 7529, 'headline': 7530, 'headlines': 7531, 'headquarters': 7532, 'healingjustice': 7533, 'heap': 7534, 'hears': 7535, 'heart,\\\\nso': 7536, 'heart\\\\n\\\\nWith': 7537, 'heartbeat': 7538, 'heartbreak': 7539, 'hearted': 7540, 'heat': 7541, 'heated': 7542, 'heavyheart': 7543, 'heckler': 7544, 'hedonic': 7545, 'heels': 7546, 'heh': 7547, 'helicopter': 7548, 'helium': 7549, 'hellloooootwitter': 7550, 'hello': 7551, 'helps': 7552, 'hemp': 7553, 'her--': 7554, 'hero': 7555, 'herself': 7556, 'hesananimal': 7557, 'hesitantly': 7558, 'hffffhj': 7559, 'hiAleshia': 7560, 'hiccuping': 7561, 'hid': 7562, 'hiding': 7563, 'highlight': 7564, 'highlighter': 7565, 'highlights': 7566, 'highs': 7567, 'hijack': 7568, 'hijacked': 7569, 'hiking': 7570, 'hill': 7571, 'hilt': 7572, 'hips': 7573, 'hipster': 7574, 'hireling': 7575, 'hiring': 7576, 'historically': 7577, 'hitler': 7578, 'hitter': 7579, 'hives': 7580, 'hiya2247': 7581, 'hmu': 7582, 'hoe': 7583, 'hogging': 7584, 'hogs': 7585, 'holdin': 7586, 'holidays': 7587, 'hollywood': 7588, 'home:\\\\n-': 7589, 'homefronttherevolution': 7590, 'homestyle': 7591, 'hometown': 7592, 'hominem': 7593, 'honks': 7594, 'hoody': 7595, 'hooked': 7596, 'hop': 7597, 'horny': 7598, 'horoscopes': 7599, 'horrendous': 7600, 'horribly': 7601, 'horrorfilm': 7602, 'horrormoviesarebest': 7603, 'horse': 7604, 'hostile': 7605, 'hotchocolate': 7606, 'hotsauce': 7607, 'howmanymoretimes': 7608, 'hoys': 7609, 'hrs': 7610, 'hubs': 7611, 'huffed': 7612, 'huge': 7613, 'hugeletdown': 7614, 'humanbeing': 7615, 'humanity': 7616, 'humans': 7617, 'humbly': 7618, 'humping': 7619, 'hung': 7620, 'hungergamesmockingjay2': 7621, 'hungover': 7622, 'hungry': 7623, 'hunks': 7624, 'hunter': 7625, 'husband': 7626, 'hut': 7627, 'hw': 7628, 'hygge': 7629, 'hyped': 7630, 'hyper': 7631, 'hypocrisy': 7632, \"i'f\": 7633, 'i.e.': 7634, 'iMessage': 7635, 'ibiza': 7636, 'icantholdmybreaththatlong': 7637, 'icy': 7638, 'identical': 7639, 'identify': 7640, 'idgi': 7641, 'idiosyncrasies': 7642, 'idol': 7643, 'ie': 7644, 'ignored': 7645, 'ignores': 7646, 'ik': 7647, 'illegally': 7648, 'illiteracy': 7649, 'illusion': 7650, 'im': 7651, 'images': 7652, 'imagined': 7653, 'imbeciles': 7654, 'immediate': 7655, 'immobilize': 7656, 'immodest': 7657, 'immolation': 7658, 'immune': 7659, 'impending': 7660, 'implied)w/': 7661, 'implies': 7662, 'importance': 7663, 'impotent': 7664, 'imprisonment': 7665, 'impulsive': 7666, 'imyourdaddy': 7667, 'in.\\\\nEyeballs': 7668, 'in\\\\nI': 7669, 'inactive': 7670, 'inadvertently': 7671, 'inasmuch': 7672, 'inbreds': 7673, 'incensed': 7674, 'inch': 7675, 'include': 7676, 'included': 7677, 'income': 7678, 'increasing': 7679, 'incredible': 7680, 'incurring': 7681, 'indefensible': 7682, 'independant': 7683, 'independent': 7684, 'indian': 7685, 'indicates': 7686, 'indiedev': 7687, 'indiemusic': 7688, 'indifference': 7689, 'individual': 7690, 'indoor': 7691, 'induce': 7692, 'induced': 7693, 'induction': 7694, 'indvsnz': 7695, 'ineedtherapy': 7696, 'inej': 7697, 'inequality': 7698, 'inevitable': 7699, 'inexpensive': 7700, 'infants': 7701, 'inferno': 7702, 'inflatable': 7703, 'influenced': 7704, 'information': 7705, 'ingrained': 7706, 'inha': 7707, 'initiative': 7708, 'injecting': 7709, 'injure': 7710, 'injured': 7711, 'injuries': 7712, 'injury': 7713, 'innocence': 7714, 'insecure': 7715, 'inspire': 7716, 'inspires': 7717, 'inspiring': 7718, 'insta': 7719, 'instestines': 7720, 'instinct': 7721, 'instructors': 7722, 'instruments': 7723, 'insults': 7724, 'insurance': 7725, 'intel': 7726, 'intellectually': 7727, 'intend': 7728, 'intended': 7729, 'intending': 7730, 'intense': 7731, 'intensely': 7732, 'intention': 7733, 'intentional': 7734, 'intentionally': 7735, 'interested': 7736, 'interests': 7737, 'interference': 7738, 'intermediaries': 7739, 'internal': 7740, 'international': 7741, 'interviewed': 7742, 'inthedark': 7743, 'intimidated': 7744, 'intrigued': 7745, 'introduce': 7746, 'invalid': 7747, 'invaluable': 7748, 'investigated': 7749, 'investing': 7750, 'invigorate': 7751, 'inviting': 7752, 'involve': 7753, 'involvement': 7754, 'involving': 7755, 'ion': 7756, 'iphones': 7757, 'ir': 7758, 'irritated': 7759, 'irruptive': 7760, 'is.\\\\nSure': 7761, 'iscalming#mysoul': 7762, 'isi': 7763, 'islambacon': 7764, 'islamophobic': 7765, 'isn;t': 7766, 'isthereahelplineforthis': 7767, 'it.\\\\n@JoyAnnReid': 7768, 'it\\\\nwhen': 7769, 'item': 7770, 'items': 7771, 'itsagunalright': 7772, 'ivory': 7773, 'jack': 7774, 'jacket': 7775, 'jail': 7776, 'jam': 7777, 'jammies': 7778, 'jamming': 7779, 'jammygunnerscum': 7780, 'jams': 7781, 'japes': 7782, 'jasmine': 7783, 'jaws': 7784, 'jaymohrsports': 7785, 'jazzholiday': 7786, 'jealousy': 7787, 'jeez': 7788, 'jellylegs': 7789, 'jerk': 7790, 'jersey': 7791, 'jersey4sale': 7792, 'jesus': 7793, 'jewels': 7794, 'ji': 7795, 'jihadist': 7796, 'jimmy': 7797, 'jimmy_dore': 7798, 'jin': 7799, 'jobinterview': 7800, 'jogging': 7801, 'jose': 7802, 'journ': 7803, 'journalism': 7804, 'joviality': 7805, 'jst': 7806, 'judgement': 7807, 'jumin': 7808, 'jumpship': 7809, 'juniors': 7810, 'jury': 7811, 'justiceofpak': 7812, 'justly': 7813, 'k': 7814, 'kal': 7815, 'kanye': 7816, 'kapernick': 7817, 'kart': 7818, 'kashmir': 7819, 'kate': 7820, 'katherine': 7821, 'kayaks': 7822, 'kaz': 7823, 'keeper': 7824, 'keeptalkin': 7825, 'keithlamontscott': 7826, 'kendall': 7827, 'kenny': 7828, 'kentphonic': 7829, 'kept': 7830, 'keyboard': 7831, 'kicked': 7832, 'kicking': 7833, 'kickinnnnn': 7834, 'kickoff': 7835, 'kicks': 7836, 'kikmessage': 7837, 'killings': 7838, 'kin': 7839, 'kit': 7840, 'kitten': 7841, 'kittens': 7842, 'kkkops': 7843, 'klassicrock': 7844, 'knock': 7845, 'knocked': 7846, 'knocking': 7847, 'knowingly': 7848, 'knowledge': 7849, 'knvfkkjg': 7850, 'korea': 7851, 'kpop': 7852, 'kzfqR': 7853, 'lab': 7854, 'labor': 7855, 'lacking': 7856, 'lads': 7857, 'ladygaga': 7858, 'lake': 7859, 'lakeside': 7860, 'lameduck': 7861, 'landlord': 7862, 'lashes': 7863, 'lasted': 7864, 'late.1st': 7865, 'laughed': 7866, 'launching': 7867, 'laundry': 7868, 'laws': 7869, 'lawsuit': 7870, 'layer': 7871, 'laying': 7872, 'laziness': 7873, 'lbs': 7874, 'ldf16': 7875, 'le': 7876, 'leafy': 7877, 'league': 7878, 'leaning': 7879, 'least\\\\n#AFC': 7880, 'leather': 7881, 'lecturing': 7882, 'led': 7883, 'leftover': 7884, 'leg': 7885, 'legally': 7886, 'legitimate': 7887, 'leictershireaway': 7888, 'lemme': 7889, 'lemon!!Do': 7890, 'lengthening': 7891, 'lessens': 7892, 'lessons': 7893, 'lest': 7894, 'lestweforget': 7895, 'letdown': 7896, 'lethal': 7897, 'letter': 7898, 'lettin': 7899, 'lgbt': 7900, 'lgm': 7901, 'liberals': 7902, 'liberated': 7903, 'libtard': 7904, 'lick': 7905, 'lie\\\\nNo': 7906, 'lie\\\\nThere': 7907, 'lied': 7908, 'lifehacks': 7909, 'lifetime': 7910, 'lightbulb': 7911, 'like4like': 7912, 'like\\\\nLetting': 7913, 'likewise': 7914, 'liking': 7915, 'lilleague': 7916, 'lilylou': 7917, 'limbs': 7918, 'limit': 7919, 'limited': 7920, 'limits': 7921, 'links': 7922, 'lion': 7923, 'liquor': 7924, 'lisa': 7925, 'listed': 7926, 'listens': 7927, 'litany': 7928, 'litigator': 7929, 'litigious': 7930, 'littlest': 7931, 'liver': 7932, 'loads': 7933, 'lobby': 7934, 'locked': 7935, 'locks': 7936, 'log': 7937, 'logging': 7938, 'logical': 7939, 'lol\\\\n@SergioSarzedo': 7940, 'lolol': 7941, 'loneliness': 7942, 'loner': 7943, 'lonesome\\\\nroad,\\\\nstill': 7944, 'long\\\\nMade': 7945, 'longing': 7946, 'loompa': 7947, 'looooool': 7948, 'loosing': 7949, 'loser': 7950, 'loses': 7951, 'losses': 7952, 'lostfriends': 7953, 'loud,\\\\n#AMNDBots': 7954, 'loudly': 7955, 'lovemysleep': 7956, 'lovewins': 7957, 'lowe': 7958, 'lower': 7959, 'lowered': 7960, 'lowers': 7961, 'lowest': 7962, 'lt': 7963, 'lt;&gt': 7964, 'lt;----': 7965, 'lt;•': 7966, 'lunches': 7967, 'luv': 7968, 'luvvvv': 7969, 'lydiaaaa': 7970, 'lyre': 7971, 'macOS': 7972, 'mackinonns': 7973, 'madam': 7974, 'madashell': 7975, 'madness': 7976, 'magazines': 7977, 'magical': 7978, 'magnified': 7979, 'magpies': 7980, 'mail': 7981, 'mailed': 7982, 'maintain': 7983, 'majors': 7984, 'makeover': 7985, 'maker': 7986, 'makeup': 7987, 'makin': 7988, 'malice': 7989, 'maliciously': 7990, 'mamasitas': 7991, 'manager': 7992, 'managing': 7993, 'manchester': 7994, 'mandate': 7995, 'manga': 7996, 'mankind': 7997, 'manner': 7998, 'manufacture': 7999, 'manus': 8000, 'map': 8001, 'marcos': 8002, 'mark': 8003, 'market': 8004, 'markets': 8005, 'marks': 8006, 'marlboro': 8007, 'marriages': 8008, 'marry': 8009, 'marshmallow': 8010, 'marshmallows': 8011, 'masculine': 8012, 'maself': 8013, 'massive': 8014, 'master': 8015, 'masters': 8016, 'mat': 8017, 'maternal': 8018, 'matoma': 8019, 'matt': 8020, 'max': 8021, 'maximum': 8022, 'mayor': 8023, 'mbc': 8024, 'mcfc': 8025, 'md': 8026, 'me\\\\nIt': 8027, 'me\\\\nno': 8028, 'meaningful': 8029, 'meantime': 8030, 'mebbe': 8031, 'mechanism': 8032, 'mechanisms': 8033, 'medchat': 8034, 'meden': 8035, 'medication': 8036, 'mediocrity': 8037, 'meee': 8038, 'meet\\\\nAnd': 8039, 'mega': 8040, 'megaproject': 8041, 'melancholic': 8042, 'melted': 8043, 'memes': 8044, 'memorable': 8045, 'memory': 8046, 'mental': 8047, 'merci': 8048, 'merely': 8049, 'merk': 8050, 'message': 8051, 'messageboard': 8052, 'messageme': 8053, 'messages': 8054, 'messed': 8055, 'meter': 8056, 'meters': 8057, 'method': 8058, 'mfs': 8059, 'mh': 8060, 'miami': 8061, 'mid-30s': 8062, 'midst': 8063, 'mike': 8064, 'mild': 8065, 'mildsauce': 8066, 'military': 8067, 'miltirian': 8068, 'mind-\\\\n\\\\nStephen': 8069, 'minded': 8070, 'minding': 8071, 'mindless': 8072, 'mindset': 8073, 'minimally': 8074, 'minimize': 8075, 'minimum': 8076, 'mints': 8077, 'minuscule': 8078, 'mio': 8079, 'mischief': 8080, 'mischievous': 8081, 'misdirected': 8082, 'miserable': 8083, 'misery': 8084, 'misinformation': 8085, 'misogynist': 8086, 'misogynistic': 8087, 'misplaced': 8088, 'misplacing': 8089, 'missingfriends': 8090, 'missingyou': 8091, 'missyou': 8092, 'mistakes': 8093, 'mistakes-': 8094, 'misty': 8095, 'mitts': 8096, 'mixture': 8097, 'mm': 8098, 'mmmm': 8099, 'mo': 8100, 'moan': 8101, 'moaning': 8102, 'mob': 8103, 'mode': 8104, 'models': 8105, 'modern': 8106, 'modicum': 8107, 'modifier': 8108, 'modric': 8109, 'moisturizing': 8110, 'momlife': 8111, 'mommaGrendel': 8112, 'monday': 8113, 'montanashay': 8114, 'mooching': 8115, 'mooncup': 8116, 'moonlight': 8117, 'moons': 8118, 'morality': 8119, 'moretears': 8120, 'morgs': 8121, 'morgue': 8122, 'mos': 8123, 'moth': 8124, 'motherland': 8125, 'motivate': 8126, 'motivations': 8127, 'motto': 8128, 'moustache': 8129, 'movement': 8130, 'movements': 8131, 'movie.\\\\n': 8132, 'movie.\\\\n#ugh': 8133, 'movie\\\\n#BlairWitch': 8134, 'mr': 8135, 'ms': 8136, 'mt': 8137, 'mtv': 8138, 'mucho': 8139, 'mucus': 8140, 'mulled': 8141, 'multimillionaire': 8142, 'multiple': 8143, 'mums': 8144, 'murdered': 8145, 'murders': 8146, 'murky': 8147, 'murraymcdavid': 8148, 'musical': 8149, 'musician': 8150, 'musicians': 8151, 'muslim': 8152, 'mustard': 8153, 'mutli': 8154, 'naay': 8155, 'nah': 8156, 'nail': 8157, 'naive': 8158, 'naming': 8159, 'nana': 8160, 'nanny': 8161, 'nappy': 8162, 'narcissistic': 8163, 'narcolepsy': 8164, 'narcoleptic': 8165, 'national': 8166, 'nationalsecurity': 8167, 'nations': 8168, 'natong': 8169, 'natural': 8170, 'nature': 8171, 'near,\\\\nthe': 8172, 'near;He': 8173, 'need#terrorstatepak': 8174, 'needa': 8175, 'needhelp': 8176, 'needsmoresleep': 8177, 'needstobeadmitted': 8178, 'needtosleepforhours': 8179, 'neg': 8180, 'neighborhood': 8181, 'neighbors': 8182, 'neither': 8183, 'nephalism': 8184, 'nephews': 8185, 'nerd': 8186, 'nerfed': 8187, 'nerves': 8188, 'netflix': 8189, 'netizen': 8190, 'neverHillary': 8191, 'neverquit': 8192, 'newalbum': 8193, 'newbies': 8194, 'newmusic': 8195, 'newsingle': 8196, 'nexttt': 8197, 'nffc': 8198, 'nfl': 8199, 'niall': 8200, 'nibbles': 8201, 'nicest': 8202, 'nick': 8203, 'nickels': 8204, 'nightlife': 8205, 'nigt': 8206, 'nihari': 8207, 'nill': 8208, 'nimber': 8209, 'ninaturner': 8210, \"nite.\\\\n\\\\n'Been\": 8211, 'nje': 8212, 'nlpoli': 8213, 'nobler': 8214, 'nodded': 8215, 'noheart': 8216, 'nojobsinbiology': 8217, 'nominated': 8218, 'nomorehammocks': 8219, 'nonsensical': 8220, 'noodles': 8221, 'nooneunderstands': 8222, 'noooo': 8223, 'nopanicattack': 8224, 'normalized': 8225, 'norms': 8226, 'north': 8227, 'nosleep': 8228, 'nostrils': 8229, 'notallaboutthemoney': 8230, 'notation': 8231, 'notch': 8232, 'notebooks': 8233, 'nothanks': 8234, 'nothappy': 8235, 'nothings': 8236, 'notice': 8237, 'noticed': 8238, 'noting': 8239, 'nots': 8240, 'notworth2minutes': 8241, 'nova': 8242, 'now!!!\\\\n\\\\nLiquid': 8243, 'np': 8244, 'nrl': 8245, 'nude': 8246, 'numbers': 8247, 'numbness': 8248, 'nurse': 8249, 'nutt': 8250, 'nutter': 8251, 'ny': 8252, 'nyquil': 8253, \"o'clock\": 8254, 'objectively': 8255, 'oblivious': 8256, 'obnoxious': 8257, 'obnoxiously': 8258, 'observant': 8259, 'obstruction': 8260, 'obvious': 8261, 'obvs': 8262, 'occasional': 8263, 'occasionally': 8264, 'occassionally': 8265, 'occurs': 8266, 'oceanic815': 8267, 'od': 8268, 'odd': 8269, 'offalonehugots': 8270, 'offered': 8271, 'offering': 8272, 'offerings': 8273, 'offers': 8274, 'officer(expressed': 8275, 'official': 8276, 'officials': 8277, 'officialy': 8278, 'offline': 8279, 'ohh': 8280, 'oil': 8281, 'oldest': 8282, 'olds': 8283, 'ole': 8284, 'oligarchs': 8285, 'olive': 8286, 'ollafest': 8287, 'ominous': 8288, 'omit': 8289, 'oncoming': 8290, 'onion': 8291, 'onlineradio': 8292, 'onthe': 8293, 'onus': 8294, 'oompa': 8295, 'oops': 8296, 'opponents': 8297, 'opportunities': 8298, 'oppose': 8299, 'opposition': 8300, 'oppressive': 8301, 'opt': 8302, 'optics': 8303, \"optimist:\\\\n'You're\": 8304, 'optimistic': 8305, 'orange': 8306, 'orangehitler': 8307, 'ordering': 8308, 'organ': 8309, 'origin': 8310, 'ornaments': 8311, 'ottawa': 8312, 'ou': 8313, 'ouch': 8314, 'ours': 8315, 'out!!\\\\nHow': 8316, 'outlet': 8317, 'outthere': 8318, 'overall': 8319, 'overcome': 8320, 'overdone': 8321, 'overdose': 8322, 'overdue': 8323, 'overheard': 8324, 'overnight': 8325, 'overpowered': 8326, 'overseer': 8327, 'overtime': 8328, 'overweight': 8329, 'overwhelmed': 8330, 'overwhelming': 8331, 'ovet': 8332, 'owe': 8333, 'owl': 8334, 'owner': 8335, 'ownership': 8336, 'p.s': 8337, 'pIkxb': 8338, 'pace': 8339, 'pack': 8340, 'packing': 8341, 'page': 8342, 'painful': 8343, 'painted': 8344, 'painting': 8345, 'paitpaitanangpeg': 8346, 'pajamas': 8347, 'pakis': 8348, 'pakistani': 8349, 'pal': 8350, 'pampa': 8351, 'pan': 8352, 'pander': 8353, 'pandering': 8354, 'panel': 8355, 'papercuts': 8356, 'parade': 8357, 'parallels': 8358, 'parcel': 8359, 'parched': 8360, 'parenting': 8361, 'parrots': 8362, 'parted': 8363, 'participating': 8364, 'partner': 8365, 'passage': 8366, 'passed': 8367, 'passenger': 8368, 'passport': 8369, 'pasta': 8370, 'pastel': 8371, 'pastry': 8372, 'patched': 8373, 'patent': 8374, 'path\\\\nBut': 8375, 'pathetically': 8376, 'pathological': 8377, 'patience': 8378, 'patients': 8379, 'patron': 8380, 'patterns': 8381, 'paused': 8382, 'pawn': 8383, 'pawpaw': 8384, 'paws': 8385, 'pax': 8386, 'paycheck': 8387, 'payment': 8388, 'peacebuilding': 8389, 'peaked': 8390, 'pecan': 8391, 'pecking': 8392, 'pedal': 8393, 'peeped': 8394, 'peeps': 8395, 'pelting': 8396, 'pen': 8397, 'penis': 8398, 'peoples': 8399, 'perched': 8400, 'perfection': 8401, 'perfume': 8402, 'perilous': 8403, 'permission': 8404, 'persecution': 8405, 'personality': 8406, 'persons': 8407, 'perspective': 8408, 'persuasion': 8409, 'pesto': 8410, 'pet': 8411, 'pets': 8412, 'petty': 8413, 'petulant': 8414, 'phedophiliac': 8415, 'phenomena': 8416, 'phenomenal': 8417, 'phew': 8418, 'philanthropy': 8419, 'philosopher': 8420, 'philosophy': 8421, 'phoneprovider': 8422, 'photograph': 8423, 'photooftheday': 8424, 'photos': 8425, 'phrase': 8426, 'physiatrists': 8427, 'physics': 8428, 'picnic': 8429, 'pictureday2016': 8430, 'pierce': 8431, 'pig': 8432, 'pill': 8433, 'pillow': 8434, 'pills': 8435, 'pinching': 8436, 'ping': 8437, 'pinkfloyd': 8438, 'pinpoint': 8439, 'pipes': 8440, 'pissing': 8441, 'pistols': 8442, 'pitchers': 8443, 'pits': 8444, 'pjs': 8445, 'pk': 8446, 'placed': 8447, 'plain': 8448, 'planet': 8449, 'planning': 8450, 'plans': 8451, 'plantation': 8452, 'plants': 8453, 'plaster': 8454, 'plate': 8455, 'platform': 8456, 'playoffs': 8457, 'pledge': 8458, 'plese': 8459, 'plug': 8460, 'pocket': 8461, 'podcasts': 8462, 'poem': 8463, 'poems': 8464, 'pointe': 8465, 'poison': 8466, 'poisonous': 8467, 'pole': 8468, 'policy.#terroristnation': 8469, 'polish': 8470, 'polite': 8471, 'pollinate': 8472, 'polluted': 8473, 'pondering': 8474, 'poorcustomerservice': 8475, 'poorest': 8476, 'pop\\\\ninto': 8477, 'popmusic': 8478, 'popped': 8479, 'populace': 8480, 'popularization': 8481, 'popwarner': 8482, 'porridge': 8483, 'port': 8484, 'portland': 8485, 'pose': 8486, 'poses': 8487, 'posing': 8488, 'positions': 8489, 'possess': 8490, 'postcode': 8491, 'poster': 8492, 'postponed': 8493, 'postpunk': 8494, 'potential': 8495, 'pound': 8496, 'poured': 8497, 'pouting': 8498, 'pow': 8499, 'pp': 8500, 'practices': 8501, 'prayers': 8502, 'prayinsnotcancer': 8503, 'pre': 8504, 'preached': 8505, 'prebooked': 8506, 'precious': 8507, 'predator': 8508, 'prefect': 8509, 'preggy\\\\n-': 8510, 'premieres': 8511, 'preparation': 8512, 'prepare': 8513, 'preparedness': 8514, 'preposterous': 8515, 'preschool': 8516, 'prescribe': 8517, 'presentations': 8518, 'presents': 8519, 'presidential': 8520, 'pretending': 8521, 'pretentious': 8522, 'prevail': 8523, 'prevelant': 8524, 'prevent': 8525, 'prevmed': 8526, 'price': 8527, 'priests': 8528, 'primarily': 8529, 'primary': 8530, 'principle': 8531, 'principles': 8532, 'prisoned': 8533, 'proactive': 8534, 'prob': 8535, 'proceedings': 8536, 'processed': 8537, 'processor': 8538, 'producers': 8539, 'productive': 8540, 'productivityatitsfinest': 8541, 'profession': 8542, 'professionalism': 8543, 'professors': 8544, 'proficiency': 8545, 'profiling': 8546, 'profit': 8547, 'program': 8548, 'progress': 8549, 'progressives': 8550, 'project': 8551, 'projection': 8552, 'projects': 8553, 'prolly': 8554, 'prominent': 8555, 'promised': 8556, 'promote': 8557, 'promoters': 8558, 'propensity': 8559, 'proportion': 8560, 'proposes': 8561, 'prosecution': 8562, 'prospect': 8563, 'protecting': 8564, 'protection': 8565, 'protects': 8566, 'protest.(like': 8567, 'protesters': 8568, 'protocols': 8569, 'pround': 8570, 'proven': 8571, 'provided': 8572, 'provider': 8573, 'provides': 8574, 'providing': 8575, 'proving': 8576, 'provoked': 8577, 'provoking': 8578, 'prowess': 8579, 'ps4pro': 8580, 'psycho': 8581, 'psychopath': 8582, 'pts': 8583, 'publicly': 8584, 'puck': 8585, 'puerto': 8586, 'puffing': 8587, 'puke': 8588, 'pulled': 8589, 'punching': 8590, 'pundits': 8591, 'punish': 8592, 'punkrock': 8593, 'punt': 8594, 'pupper': 8595, 'puppies': 8596, 'pups': 8597, 'pursuits': 8598, 'puts': 8599, 'quaint': 8600, 'qualifies': 8601, 'quanitfying': 8602, 'quatrains': 8603, 'queries': 8604, 'question*\\\\nAidy': 8605, 'questioned': 8606, 'racepimp': 8607, 'racing': 8608, 'radical': 8609, 'raids': 8610, 'raining': 8611, 'raise': 8612, 'raising': 8613, 'ramble': 8614, 'range': 8615, 'ranger': 8616, 'rangers': 8617, 'rants': 8618, 'raped': 8619, 'rapeseed': 8620, 'rashford': 8621, 'rat': 8622, 'rat\\\\nAm': 8623, 'rate': 8624, 'ratings': 8625, 'rational': 8626, 'ravi': 8627, 'ravis': 8628, 'raw': 8629, 'reached': 8630, 'reaction': 8631, 'reactions': 8632, 'readership': 8633, 'realise': 8634, 'realised': 8635, 'realising': 8636, 'realist': 8637, 'realizes': 8638, 'reallife': 8639, 'realm': 8640, 'rearrange': 8641, 'reasonable': 8642, 'reasonably': 8643, 'reasoned': 8644, 'reasoning': 8645, 'reassigned': 8646, 'reassuring': 8647, 'rebates': 8648, 'rebel': 8649, 'rebuild': 8650, 'rebuke': 8651, 'recall': 8652, 'receive': 8653, 'recently': 8654, 'reckons': 8655, 'reclaimed': 8656, 'recognise': 8657, 'recognized': 8658, 'recognizing': 8659, 'recommended': 8660, 'recording': 8661, 'recovery': 8662, 'recruitment': 8663, 'redden': 8664, 'redefine': 8665, 'redheadteen': 8666, 'redstate': 8667, 'redundant': 8668, 'redzone': 8669, 'reeling': 8670, 'reflect': 8671, 'reflective': 8672, 'reflects': 8673, 'refuge': 8674, 'refugees!\\\\n\\\\n#InYourNeighborhoodNotDC': 8675, 'refuses': 8676, 'regarding': 8677, 'register': 8678, 'regret': 8679, 'regularly': 8680, 'regulation': 8681, 'rehoi': 8682, 'rein': 8683, 'reinstate': 8684, 'rejects': 8685, 'relate': 8686, 'relationship\\\\nme': 8687, 'relatives': 8688, 'relaxationiskey': 8689, 'relaxed': 8690, 'released': 8691, 'relentlessly': 8692, 'relief': 8693, 'relieve': 8694, 'relieves': 8695, 'religion': 8696, 'relocate': 8697, 'reluctantly': 8698, 'remainer': 8699, 'remake': 8700, 'remarkable': 8701, 'remind': 8702, 'reminders': 8703, 'remix': 8704, 'renewtherivalry': 8705, 'rent': 8706, 'renunciation': 8707, 'rep': 8708, 'repainted': 8709, 'reparations': 8710, 'repeat': 8711, 'repeating': 8712, 'replacement': 8713, 'replacements': 8714, 'reporter': 8715, 'reports': 8716, 'representation': 8717, 'request': 8718, 'require': 8719, 'required': 8720, 'requires': 8721, 'rescued': 8722, 'reservation': 8723, 'reservations': 8724, 'resettle': 8725, 'resettlement': 8726, 'resort': 8727, 'resorted': 8728, 'responded': 8729, 'responds': 8730, 'restaurant': 8731, 'resting': 8732, 'restrained': 8733, 'rests': 8734, 'retaliation': 8735, 'rethink': 8736, 'retirement': 8737, 'retitled': 8738, 'returner': 8739, 'returning': 8740, 'returns': 8741, 'reusable': 8742, 'revelations': 8743, 'revells': 8744, 'revels': 8745, 'reverb': 8746, 'reviews': 8747, 'revision': 8748, 'revival': 8749, 'revolves': 8750, 'rewatching': 8751, 'rhabdo': 8752, 'rhetoric': 8753, 'rhyme': 8754, 'ridden': 8755, 'rider': 8756, 'ridge': 8757, 'ridicule': 8758, 'ridiculous.#AmericanAirlines': 8759, 'ridiculously': 8760, 'riesbrothers': 8761, 'right!\\\\n': 8762, 'right!\\\\n#Loneliness': 8763, 'rile': 8764, 'ringing': 8765, 'rioting': 8766, 'ripoff': 8767, 'rise': 8768, 'risks.\\\\nFace': 8769, 'riteing': 8770, 'rly': 8771, 'roast': 8772, 'rob': 8773, 'robbery': 8774, 'roblox': 8775, 'robloxgamer': 8776, 'robot': 8777, 'rocklandcounty': 8778, 'rocknroll': 8779, 'rocky': 8780, 'roids': 8781, 'roll': 8782, 'rollin': 8783, 'rolling': 8784, 'roof': 8785, 'rookie': 8786, 'room,\\\\nDeveloping': 8787, 'rooms': 8788, 'root': 8789, 'rose': 8790, 'roses': 8791, 'rough': 8792, 'rounding': 8793, 'route': 8794, 'routes': 8795, 'roy': 8796, 'royals': 8797, 'rt': 8798, 'rubbing': 8799, 'rubbish': 8800, 'rudely': 8801, 'rudeness': 8802, 'ruin': 8803, 'ruinT': 8804, 'ruined': 8805, 'ruins': 8806, 'rum': 8807, 'rumoured': 8808, 'russia': 8809, 'russian': 8810, 'rusty': 8811, 's6': 8812, 'sacks': 8813, 'sacred': 8814, 'sacrificed': 8815, 'sadden': 8816, 'saddler': 8817, 'saddness': 8818, 'sadiqkhan': 8819, 'sadness\\\\n#depresspop': 8820, 'sadnnes': 8821, 'said,-/': 8822, 'sails': 8823, 'sake': 8824, 'salon': 8825, 'salty': 8826, 'sam': 8827, 'samvrhys': 8828, 'sandwich': 8829, 'sang': 8830, 'sangria': 8831, 'sarcasm]\\\\nHopefully': 8832, 'satan': 8833, 'satisfying': 8834, 'saturday': 8835, 'sauce': 8836, 'sav': 8837, 'savvy': 8838, 'scam': 8839, 'scanning': 8840, 'scaredy': 8841, 'scarf': 8842, 'scarier': 8843, 'scariest': 8844, 'scarred,\\\\nthis': 8845, 'scatter': 8846, 'scenes': 8847, 'scent': 8848, 'scented': 8849, 'schneiderlin': 8850, 'sci': 8851, 'scientist': 8852, 'scorer': 8853, 'scores': 8854, \"scorned'\\\\n\\\\nThat\": 8855, 'scorning': 8856, 'scrap': 8857, 'scratched': 8858, 'screamer': 8859, 'screaming': 8860, 'screeching': 8861, \"screen!Can't\": 8862, 'screened': 8863, 'script': 8864, 'scritch': 8865, 'scritching': 8866, 'scrolling': 8867, 'scrubbed': 8868, 'scrubs': 8869, 'scum': 8870, 'se': 8871, 'seam': 8872, 'season1': 8873, 'seconds': 8874, 'secretary': 8875, 'secretly': 8876, 'secrets': 8877, 'secs': 8878, 'section': 8879, 'seeds': 8880, 'seed‼️‼️‼️': 8881, 'seemed': 8882, 'seenitbefore': 8883, 'seep': 8884, 'selection': 8885, 'selenagomez': 8886, 'selfhelp': 8887, 'semi': 8888, 'sences': 8889, 'sends': 8890, 'senile': 8891, 'sentient': 8892, 'sentimentality': 8893, 'seo': 8894, 'serve': 8895, 'session': 8896, 'setback': 8897, 'sets': 8898, 'severe': 8899, 'severely': 8900, 'sevylor': 8901, 'sewage': 8902, 'sexist': 8903, 'sexually': 8904, 'sexy': 8905, 'sg': 8906, 'shade': 8907, 'shadows': 8908, 'shady': 8909, 'shaker': 8910, 'shallowness': 8911, 'shambles': 8912, 'shamefull': 8913, 'shameless': 8914, 'shaped': 8915, 'shark': 8916, 'sharpened': 8917, 'shawarma': 8918, 'shed': 8919, 'sheer': 8920, 'sheets': 8921, 'sheffieldHour': 8922, 'shilling': 8923, 'shimmy': 8924, 'shining': 8925, 'shipped': 8926, 'shirt': 8927, 'shirt(5/6': 8928, 'shite': 8929, 'shits': 8930, 'shitsucks': 8931, 'shittalking': 8932, 'shitting': 8933, 'shitworldforourkids': 8934, 'shoals': 8935, 'shootthegerman': 8936, 'shorts': 8937, 'shortsightedness': 8938, 'shorty': 8939, 'shoulders': 8940, 'shouldhavebeenhufflepuff': 8941, 'shouldofVotedforNicole': 8942, 'shouldofgonewithvirgin': 8943, 'shove': 8944, 'showcase': 8945, 'showers': 8946, 'showing': 8947, 'showmance': 8948, 'shown': 8949, 'showroom': 8950, 'shrines': 8951, 'shrug': 8952, 'shutupphilsimms': 8953, 'siblings': 8954, 'siding': 8955, 'sigh': 8956, 'significantly': 8957, 'sike': 8958, 'silky': 8959, 'silver': 8960, 'silvereliteleftbehind': 8961, 'sim': 8962, 'simper': 8963, 'singer': 8964, 'singin': 8965, 'sins': 8966, 'sip': 8967, 'sippin': 8968, 'sith': 8969, 'situ': 8970, 'situation!\\\\n@BanoBee': 8971, 'sixwordstory': 8972, 'size': 8973, 'sjw': 8974, 'skeptical': 8975, 'skinned': 8976, 'skinny': 8977, 'skip': 8978, 'skynews': 8979, 'skype': 8980, 'slacking': 8981, 'slam': 8982, 'slams': 8983, 'slap': 8984, 'slash': 8985, 'slave\\\\nFrom': 8986, 'sleeping\\\\n#sleep': 8987, 'sleepissues': 8988, 'sleepnumber': 8989, 'slept': 8990, 'slice': 8991, 'slide': 8992, 'slider': 8993, 'sliding': 8994, 'slim': 8995, 'slip': 8996, 'slipper': 8997, 'slithering': 8998, 'slowing': 8999, 'slutty': 9000, 'smaller': 9001, 'smash': 9002, 'smelly': 9003, 'smiled': 9004, 'smokey': 9005, 'smutty': 9006, 'snake': 9007, 'snapchatme': 9008, 'snapped': 9009, 'snaps': 9010, 'snarl': 9011, 'snarled': 9012, 'sneezing': 9013, 'snitch': 9014, 'snorting': 9015, 'snot': 9016, 'so\\\\ntough': 9017, 'soaking': 9018, 'sobering': 9019, 'sobriety': 9020, 'soccer': 9021, 'sofa': 9022, 'software': 9023, 'solate': 9024, 'sold': 9025, 'soldier': 9026, 'soles': 9027, 'soloist': 9028, 'solution': 9029, 'somebodies': 9030, 'someone&gt': 9031, 'someonetelltinafeytohireme': 9032, 'somewhat': 9033, 'sooked': 9034, 'sooner': 9035, 'sooo': 9036, 'soooo': 9037, 'sooooo': 9038, 'soothe': 9039, 'sorethroat': 9040, 'sorta': 9041, 'sotired': 9042, 'sotoventures': 9043, 'soulless': 9044, 'souls': 9045, 'sounding': 9046, 'soundtrack': 9047, 'sour': 9048, 'southpark': 9049, 'southyorkshire': 9050, 'soywax': 9051, 'spar': 9052, 'speaker': 9053, 'speakinh': 9054, 'speakout': 9055, 'special': 9056, 'spectacles': 9057, 'specter': 9058, 'speed': 9059, 'speeds': 9060, 'spektar': 9061, 'spends': 9062, 'spill': 9063, 'spine': 9064, 'spinning': 9065, 'spiritu': 9066, 'spoiled': 9067, 'spoils': 9068, 'spokeword': 9069, 'sponsor': 9070, 'sponsored': 9071, 'sponsoring': 9072, 'sponsorship': 9073, 'spooky': 9074, 'spots': 9075, 'spray': 9076, 'spraypainting': 9077, 'sprightly': 9078, 'spying': 9079, 'sq': 9080, 'squad': 9081, 'square': 9082, 'squash': 9083, 'squashie': 9084, 'squat': 9085, 'squeak': 9086, 'squealed': 9087, 'squeezing': 9088, 'squirm': 9089, 'srry': 9090, 'st': 9091, 'sta': 9092, 'stage': 9093, 'staid': 9094, 'stalkers': 9095, 'stall': 9096, 'stamped': 9097, 'stan': 9098, 'standing': 9099, 'stands': 9100, 'stange': 9101, 'starburst': 9102, 'stare': 9103, 'startasyoumeantogoon': 9104, 'starter': 9105, 'starts\\\\nchasing': 9106, 'starved': 9107, 'stategames': 9108, 'statuses': 9109, 'stayathome': 9110, 'staying': 9111, 'staystrong': 9112, 'stayunstoppable': 9113, 'steak': 9114, 'steals': 9115, 'steamworks': 9116, 'steel': 9117, 'steer': 9118, 'steps': 9119, 'stetson': 9120, 'stewards': 9121, 'stfu': 9122, 'stick': 9123, 'sticking': 9124, 'sticks': 9125, 'stifle': 9126, 'stinks': 9127, 'stlouis': 9128, 'stocks': 9129, 'stolen': 9130, 'stool': 9131, 'stopbullying': 9132, 'stoppickingonwomen': 9133, 'stops': 9134, 'stored': 9135, 'stove': 9136, 'stranded': 9137, 'strange': 9138, 'strangers': 9139, 'strategically': 9140, 'strawberry': 9141, 'stream\\\\n': 9142, 'streets': 9143, 'strengthens': 9144, 'strengths': 9145, 'stretch': 9146, 'strike': 9147, 'strong\\\\nFeeling': 9148, 'stronger': 9149, 'strongest': 9150, 'strongly': 9151, 'struck': 9152, 'struggles': 9153, 'stuartspecial': 9154, 'stub': 9155, 'students': 9156, 'studios': 9157, 'studying': 9158, 'stung': 9159, 'stunt': 9160, 'stupefied': 9161, 'stupendous': 9162, 'stupidity': 9163, 'style-': 9164, 'styles': 9165, 'sub': 9166, 'subject': 9167, 'subsist': 9168, 'succeed': 9169, 'successes': 9170, 'succumb': 9171, 'sudden': 9172, 'sufc': 9173, 'suffered': 9174, 'suffern': 9175, 'suffocate': 9176, 'suffocating': 9177, 'suggested': 9178, 'suggesting': 9179, 'suggests': 9180, 'suicidal': 9181, 'sulky': 9182, 'sum': 9183, 'sunbed': 9184, 'sunday': 9185, 'sunny': 9186, 'sunshine': 9187, 'superexcited': 9188, 'supper': 9189, 'supplies': 9190, 'supported': 9191, 'supporter': 9192, 'supremacists': 9193, 'suprised': 9194, 'surfed': 9195, 'surfer': 9196, 'surge': 9197, 'surprisingly': 9198, 'surrendered': 9199, 'surrounded': 9200, 'survey': 9201, 'survival': 9202, 'survived': 9203, 'surviving': 9204, 'survivor': 9205, 'survivors': 9206, 'suspect': 9207, 'suspected': 9208, 'suspicion': 9209, 'swallows': 9210, 'swan': 9211, 'swapping': 9212, 'swayed': 9213, 'sweat': 9214, 'sweetheart': 9215, 'swerve': 9216, 'swifts': 9217, 'swimming': 9218, 'swinging': 9219, 'swingish': 9220, 'swooped': 9221, 'sympathy': 9222, 'symptomatize': 9223, 'synthetic': 9224, 'syringes': 9225, 'systemic': 9226, 't': 9227, 'tabitha': 9228, 'tabs': 9229, 'taco': 9230, 'tail': 9231, 'takeabreak': 9232, 'takeing': 9233, 'talked': 9234, 'tall': 9235, 'tall\\\\nRopes': 9236, 'taller': 9237, 'tambourines': 9238, 'tan': 9239, 'tantalizing': 9240, 'tapas': 9241, 'tape': 9242, 'tapes': 9243, 'tapping': 9244, 'targeted': 9245, 'tarts': 9246, 'taser': 9247, 'task': 9248, 'task.#uriattacks': 9249, 'tasked': 9250, 'tastings': 9251, 'tate': 9252, 'tater': 9253, 'tatinof': 9254, 'tatoos': 9255, 'tattooing': 9256, 'taxes': 9257, 'taxi': 9258, 'tay': 9259, 'teampaella': 9260, 'teasing': 9261, 'technician': 9262, 'technics': 9263, 'techno': 9264, 'tee': 9265, 'teenmom': 9266, 'teles': 9267, 'tempered': 9268, 'temporada': 9269, 'tenacious': 9270, 'tenderhearted': 9271, 'tensions': 9272, 'termianted': 9273, 'terrified': 9274, 'territorial': 9275, 'territory': 9276, 'terrorists': 9277, 'terrorize': 9278, 'tesco': 9279, 'testimonies': 9280, 'testosterone': 9281, 'texting': 9282, 'textme': 9283, 'texts': 9284, 'tfw': 9285, 'th': 9286, 'thankyou': 9287, 'thas': 9288, 'thatsmyluck': 9289, 'the--': 9290, 'the40': 9291, 'theBeautyofBalance': 9292, 'theanswer': 9293, 'thearchers': 9294, 'thebabybombers': 9295, 'theblues': 9296, 'thee': 9297, 'theft': 9298, 'them\\\\n#troyler': 9299, 'theme': 9300, 'themed': 9301, 'therapists': 9302, 'therapy': 9303, 'therewillbeblood': 9304, 'therey': 9305, 'theydontlikeyoueither': 9306, 'thief': 9307, 'thier': 9308, 'thine': 9309, 'thinking.#Hillary': 9310, 'thinktoomuch': 9311, 'thirdbasecoach': 9312, 'this!needed': 9313, 'this?????\\\\ni': 9314, 'thisbhuge': 9315, 'thnx': 9316, 'thoroughly': 9317, 'thoughtful': 9318, 'thoughtsbecomethings': 9319, 'thread': 9320, \"thread;'P)\": 9321, 'threats': 9322, 'threw': 9323, 'thrilled': 9324, 'thriller': 9325, 'thrive': 9326, 'throat': 9327, 'throughout': 9328, 'throwback': 9329, \"tht'll\": 9330, 'thug': 9331, 'thumper': 9332, 'thunder': 9333, 'thus': 9334, 'tickle': 9335, 'tide-': 9336, 'tidying': 9337, 'tiger': 9338, 'tillI': 9339, 'time.\\\\n': 9340, 'time.\\\\n\\\\nI': 9341, 'timetogrind': 9342, 'tinge': 9343, 'tinted': 9344, 'tipped': 9345, 'titles': 9346, 'titter': 9347, 'tmrw': 9348, 'toast': 9349, 'toasting': 9350, 'today\\\\n\\\\n#coffee': 9351, 'toddler': 9352, 'toe': 9353, 'toilet': 9354, 'toilets': 9355, 'token': 9356, 'toldeo': 9357, 'tolerate': 9358, 'tomatoes': 9359, 'tomboy': 9360, 'tomorrow.\\\\nBut': 9361, 'tomourssuck': 9362, 'tongue': 9363, 'tongues': 9364, 'tonys': 9365, 'toofaced': 9366, 'tool': 9367, 'toomuchhype': 9368, 'tooooo~': 9369, 'tooth': 9370, 'topped': 9371, 'tore': 9372, 'total': 9373, 'touches': 9374, 'touching': 9375, 'tour': 9376, 'tourist': 9377, 'toussaintromain': 9378, 'towel': 9379, 'towels': 9380, 'towers': 9381, 'toy': 9382, 'toys': 9383, 'tr': 9384, 'tracks': 9385, 'tractor': 9386, 'tradepics': 9387, 'traffic': 9388, 'tragedy': 9389, 'trailers': 9390, 'trainer': 9391, 'trains': 9392, 'trample': 9393, 'tranquilizer': 9394, 'transcendent': 9395, 'transferring': 9396, 'transformed': 9397, 'transgender': 9398, 'transmission': 9399, 'trashy': 9400, 'travelers': 9401, 'travelfail': 9402, 'traveling': 9403, 'tread': 9404, 'treadlines': 9405, 'trees': 9406, 'trembling': 9407, 'tremendous': 9408, 'tremor': 9409, 'trend': 9410, 'trends': 9411, 'tribe': 9412, 'trilogy': 9413, 'tripadvisor': 9414, 'tripping': 9415, 'trips': 9416, 'trips/': 9417, 'trivial': 9418, 'trolled': 9419, 'trolling': 9420, 'trolls': 9421, 'troops': 9422, 'truck': 9423, 'trumpeter': 9424, 'truncating': 9425, 'tryed': 9426, 'tryna': 9427, 'tub': 9428, 'tune': 9429, 'tunnels': 9430, 'tuppytupperware': 9431, 'turnovers': 9432, 'turnt': 9433, 'twat': 9434, 'twd': 9435, 'tweegram': 9436, 'twelvemonth': 9437, 'twenty': 9438, 'twin': 9439, 'twins': 9440, 'twirl': 9441, 'twooo': 9442, 'ty': 9443, 'types': 9444, 'typos': 9445, 'uUDQujcia': 9446, 'ugghhh': 9447, 'ughh': 9448, 'ugliest': 9449, 'ugly': 9450, 'uglycry': 9451, 'uhh': 9452, 'uhhhhh': 9453, 'ukedchat': 9454, 'unacceptable': 9455, 'unarmed': 9456, 'unattractive': 9457, 'unavoidable': 9458, 'unbelievably': 9459, 'unboxing': 9460, 'uncertainty': 9461, 'unchecked': 9462, 'uncontrollable': 9463, 'uncooperative': 9464, 'undergraduate': 9465, 'underlie': 9466, 'underlying': 9467, 'underneath': 9468, 'underrated': 9469, 'understands': 9470, 'undesirables': 9471, 'undying': 9472, 'unequal': 9473, 'unexpectedly': 9474, 'unfailingly': 9475, 'unfair': 9476, 'unfollow': 9477, 'unfollowed': 9478, 'unfortunate': 9479, 'unfulfilled': 9480, 'unga\\\\n#BurhanWani': 9481, 'unimpressive': 9482, 'unintentional': 9483, 'uninteresting': 9484, 'united': 9485, 'unity3d': 9486, 'university': 9487, 'unjust': 9488, 'unlimited': 9489, 'unlocks': 9490, 'unnerved': 9491, 'unpredictable': 9492, 'unprepared': 9493, 'unproductive': 9494, 'unprofessional': 9495, 'unprovoked': 9496, 'unreal': 9497, 'unrest': 9498, 'unroot': 9499, 'unsubscribed': 9500, 'untouchable': 9501, 'untypical': 9502, 'unwittingly': 9503, 'unwoke': 9504, 'up.-': 9505, 'updated': 9506, 'updates': 9507, 'uplifting': 9508, 'upping': 9509, 'uproarious': 9510, 'ups': 9511, 'upsetting': 9512, 'urges': 9513, 'urghh': 9514, 'urself': 9515, 'us\\\\nI': 9516, 'usafootball': 9517, 'useless,++': 9518, 'users': 9519, 'uttered': 9520, 'uwu': 9521, 'vAwyZAD': 9522, 'vacant': 9523, 'vacation': 9524, 'vacuum': 9525, 'val': 9526, 'valid': 9527, 'value': 9528, 'vampire': 9529, 'vampires': 9530, 'vandalism': 9531, 'vandalizing': 9532, 'vape': 9533, 'vapid': 9534, 'varies-': 9535, 'varsity': 9536, 'vas': 9537, 'veggie': 9538, 'vehicle': 9539, 'vehicles': 9540, 'vehs': 9541, 'vein': 9542, 'venezuela': 9543, 'vengeance': 9544, 'vents': 9545, 'verb': 9546, 'verge': 9547, 'verification': 9548, 'verse': 9549, 'vessel': 9550, 'vestiges': 9551, 'vests': 9552, 'vets': 9553, 'vetted': 9554, 'vibe': 9555, 'vibes': 9556, 'vids': 9557, 'viewed': 9558, 'views': 9559, 'vigil': 9560, 'vigilant': 9561, 'vile': 9562, 'village': 9563, 'vine': 9564, 'violation.\\\\n\\\\n': 9565, 'violation.\\\\n\\\\n#TerranceCrutcher': 9566, 'violentextremism': 9567, 'viper': 9568, 'viral': 9569, 'virgin': 9570, 'virginaus': 9571, 'virtuoso': 9572, 'visceral': 9573, 'visible': 9574, 'vision': 9575, 'vision-\\\\n\\\\nHelen': 9576, 'visit': 9577, 'visited': 9578, 'vitriolic': 9579, 'vivid': 9580, 'vixx': 9581, 'voiceover': 9582, 'voices-': 9583, 'voicing': 9584, 'void': 9585, 'volatility': 9586, 'volleyball': 9587, 'voted': 9588, 'voting': 9589, 'voxconversations': 9590, 'vrlfEyrN': 9591, 'vsvplou': 9592, 'vulnerabilities': 9593, 'vwo': 9594, 'wHYaNEWG': 9595, 'wae': 9596, 'waitingforexplanation': 9597, 'waits': 9598, 'wakes': 9599, 'wakeupcall': 9600, 'waking': 9601, 'wallah': 9602, 'walls': 9603, 'wants\\\\n\\\\n(this': 9604, 'wardrobe': 9605, 'warn': 9606, 'warrant': 9607, 'warranty': 9608, 'warriors': 9609, 'washed': 9610, 'washed\\\\nBy': 9611, 'washington\\\\nkenny': 9612, 'washingtonave': 9613, 'wasteland': 9614, 'wasteofmoney': 9615, 'was→': 9616, 'wat': 9617, 'water\\\\nIn': 9618, 'wattch': 9619, 'waving': 9620, 'wavy': 9621, 'wayward': 9622, 'wcw': 9623, 'weakmen': 9624, 'weakness': 9625, 'weaknesses': 9626, 'weans': 9627, 'webcast': 9628, 'weekly': 9629, 'welfare': 9630, 'welfarereform': 9631, 'wellness': 9632, 'went\\\\nTo': 9633, 'wept': 9634, 'werealldevilsinside': 9635, 'werewolves': 9636, 'west': 9637, 'wet': 9638, 'wewait': 9639, 'whaaaooo#UNGA': 9640, 'what?This': 9641, 'whathappenedtocustomerservice': 9642, 'whatsoever': 9643, 'wheel': 9644, 'whenwillitstop': 9645, 'whereareugoing': 9646, 'whereismyfurniture': 9647, 'wheresthetruefriends': 9648, 'whichever': 9649, 'whining': 9650, 'whiskey': 9651, 'whisky': 9652, 'whispers': 9653, 'whistle': 9654, 'whistling': 9655, 'whoever': 9656, 'wholeworld': 9657, 'wholly': 9658, 'whore': 9659, 'whypay': 9660, 'wi': 9661, 'wibbly': 9662, 'wick': 9663, 'wicked': 9664, 'wide': 9665, 'widely': 9666, 'wifl': 9667, 'wiki': 9668, 'willows': 9669, 'wills': 9670, 'willxbe': 9671, 'wince': 9672, 'windows10': 9673, 'wing': 9674, 'winners': 9675, 'winters': 9676, 'wire': 9677, 'wirral': 9678, 'wisdom': 9679, 'wishes': 9680, 'wit': 9681, 'withdraw': 9682, 'wobbly': 9683, 'wolfcreek': 9684, 'wondered': 9685, 'work\\\\n': 9686, 'work\\\\n#mob': 9687, 'worker': 9688, 'workers': 9689, 'works!!!!#gross': 9690, 'world.\\\\n\\\\n': 9691, 'world.\\\\n\\\\n#Trump': 9692, 'worldsapp': 9693, 'worldwide': 9694, 'worms': 9695, 'worn': 9696, 'worsethananatomicbomb': 9697, 'worship': 9698, 'worstenemy': 9699, 'worst~': 9700, 'wots': 9701, 'wound': 9702, 'wounds': 9703, 'wptmain': 9704, 'wraps': 9705, 'wreck': 9706, 'wreckinso': 9707, 'wrecks': 9708, 'wrestling': 9709, 'wrist': 9710, 'writer': 9711, 'writerproblems': 9712, 'writerslife': 9713, 'writingtip': 9714, 'wrong.-Peter': 9715, 'wrong.\\\\n\\\\n@ORConservative': 9716, 'wrongfully': 9717, 'wt': 9718, 'wtvr': 9719, 'wyd': 9720, 'xD': 9721, 'xDDdD': 9722, 'xX': 9723, 'xbeUJGB': 9724, 'xt': 9725, 'xx': 9726, 'yal': 9727, 'yankees': 9728, 'yawning': 9729, 'yawnoff': 9730, 'ye': 9731, 'yea': 9732, 'yearly': 9733, 'yeg': 9734, 'yelled': 9735, 'yeller': 9736, 'yellow': 9737, 'yep': 9738, 'yes-': 9739, 'yessir': 9740, 'yet?FU': 9741, 'yf': 9742, 'yh': 9743, 'yiu': 9744, 'yoga': 9745, 'york': 9746, \"you'\\\\nWRDSMTH\": 9747, \"you're\": 9748, 'youFM': 9749, 'younger': 9750, 'youngleader\\\\n#Pakistan': 9751, 'youraffair': 9752, 'yourebeautiful': 9753, 'youths': 9754, 'youtubegaming': 9755, 'youtubers': 9756, 'you~': 9757, 'yr7': 9758, 'yugioh': 9759, 'yuk': 9760, 'yuppie': 9761, 'yvr': 9762, 'zandu': 9763, 'zionist': 9764, 'zombies': 9765, 'zone': 9766, '{': 9767, '}': 9768, '~100': 9769, '~Pablo': 9770, '~together': 9771, '©': 9772, 'óg': 9773, '՟ິͫ': 9774, '՟ິͫઘ': 9775, 'الخفجي': 9776, '’d': 9777, '’ll': 9778, '”\\\\n': 9779, '”–Plato': 9780, '”―': 9781, '•': 9782, '•&gt': 9783, '™': 9784, '←would': 9785, '≧∇≦': 9786, '━': 9787, '□': 9788, '☀': 9789, '☊': 9790, '☯': 9791, '♨': 9792, '⚫': 9793, '✈': 9794, '✊': 9795, '✋': 9796, '❗': 9797, '❣': 9798, '⬅': 9799, '」': 9800, 'アニメ': 9801, '・ω・': 9802, '화양연화': 9803, '\\uf629\\uf629\\uf629\\uf629': 9804, '\\uf633': 9805, '\\uf645\\uf3fc\\uf648\\uf64a': 9806, '珞': 9807, '︎I': 9808, '️&amp': 9809, '️b': 9810, '️you': 9811, '︵': 9812, '（': 9813, '🅿': 9814, '🌊': 9815, '🌏': 9816, '🌓': 9817, '🌚': 9818, '🌝': 9819, '🌫': 9820, '🌲': 9821, '🌹': 9822, '🍂': 9823, '🍎': 9824, '🍙': 9825, '🍝': 9826, '🍞': 9827, '🍩': 9828, '🍱': 9829, '🍳': 9830, '🍹': 9831, '🍺': 9832, '🍻': 9833, '🍾': 9834, '🎈': 9835, '🎩': 9836, '🎵': 9837, '🎶': 9838, '🏡': 9839, '🏢': 9840, '🏹': 9841, '🏼Rockys': 9842, '🏽': 9843, '🏾️': 9844, '🐆': 9845, '🐐': 9846, '🐥': 9847, '🐴': 9848, '🐶': 9849, '🐾': 9850, '👈': 9851, '👍': 9852, '👎': 9853, '👺': 9854, '👽': 9855, '👿': 9856, '💁': 9857, '💥': 9858, '💩': 9859, '📽': 9860, '🔨': 9861, '🔩': 9862, '🔫': 9863, '🕯': 9864, '🖕': 9865, '😃': 9866, '😄': 9867, '😉': 9868, '😎': 9869, '😔': 9870, '😜': 9871, '😝': 9872, '😦': 9873, '😧': 9874, '😮': 9875, '😿': 9876, '🙋': 9877, '🛂': 9878, '🤐': 9879, '🤖': 9880, '🦄': 9881, '🧀': 9882, '\\U000fe334': 9883})\n",
            "defaultdict(None, {'0': 0, '3': 1, '1': 2, '2': 3})\n"
          ]
        }
      ]
    },
    {
      "cell_type": "code",
      "source": [
        "# sort_within_batch 设置为True的话，每一个batch内的数据，会根据sort_key的排列规则降序排列\n",
        "# len(x.text)即text的长度，即每条用户所包含的单词数量\n",
        "# TODO: Python里难道没有办法类似于继承Comparable<T>接口，然后重写CompareTo()来排序吗，要这样在方法里声明?\n",
        "\n",
        "BATCH_SIZE = 64\n",
        "\n",
        "device = torch.device('cuda' if torch.cuda.is_available() else 'cpu')\n",
        "\n",
        "train_iterator, valid_iterator, test_iterator = data.BucketIterator.splits(\n",
        "    (train_data, valid_data, test_data), \n",
        "    batch_size = BATCH_SIZE,\n",
        "    sort_within_batch = True,\n",
        "    sort_key = lambda x: len(x.text),\n",
        "    device = device)"
      ],
      "metadata": {
        "id": "Cu0nh48rqvj9"
      },
      "execution_count": null,
      "outputs": []
    },
    {
      "cell_type": "code",
      "source": [
        "import torch.nn as nn\n",
        "import torch.nn.functional as F\n",
        "\n",
        "class CNN(nn.Module):\n",
        "    def __init__(self, vocab_size, embedding_dim, n_filters, filter_sizes, output_dim, \n",
        "                 dropout, pad_idx):\n",
        "        \n",
        "        super().__init__()\n",
        "        \n",
        "        self.embedding = nn.Embedding(vocab_size, embedding_dim)\n",
        "        \n",
        "        self.convs = nn.ModuleList([\n",
        "                                    nn.Conv2d(in_channels = 1, \n",
        "                                              out_channels = n_filters, \n",
        "                                              kernel_size = (fs, embedding_dim)) \n",
        "                                    for fs in filter_sizes\n",
        "                                    ])\n",
        "        \n",
        "        self.fc = nn.Linear(len(filter_sizes) * n_filters, output_dim)\n",
        "        \n",
        "        self.dropout = nn.Dropout(dropout)\n",
        "        \n",
        "    def forward(self, text):\n",
        "        \n",
        "        #text = [sent len, batch size]\n",
        "        \n",
        "        text = text.permute(1, 0)\n",
        "                \n",
        "        #text = [batch size, sent len]\n",
        "        \n",
        "        embedded = self.embedding(text)\n",
        "                \n",
        "        #embedded = [batch size, sent len, emb dim]\n",
        "        \n",
        "        embedded = embedded.unsqueeze(1)\n",
        "        \n",
        "        #embedded = [batch size, 1, sent len, emb dim]\n",
        "        \n",
        "        conved = [F.relu(conv(embedded)).squeeze(3) for conv in self.convs]\n",
        "            \n",
        "        #conv_n = [batch size, n_filters, sent len - filter_sizes[n]]\n",
        "        \n",
        "        pooled = [F.max_pool1d(conv, conv.shape[2]).squeeze(2) for conv in conved]\n",
        "        \n",
        "        #pooled_n = [batch size, n_filters]\n",
        "        \n",
        "        cat = self.dropout(torch.cat(pooled, dim = 1))\n",
        "\n",
        "        #cat = [batch size, n_filters * len(filter_sizes)]\n",
        "            \n",
        "        return self.fc(cat)"
      ],
      "metadata": {
        "id": "S49j-KaVzSBZ"
      },
      "execution_count": null,
      "outputs": []
    },
    {
      "cell_type": "code",
      "source": [
        "INPUT_DIM = len(TEXT.vocab)\n",
        "EMBEDDING_DIM = 100\n",
        "N_FILTERS = 100\n",
        "FILTER_SIZES = [2,3,4]\n",
        "OUTPUT_DIM = len(LABEL.vocab)\n",
        "DROPOUT = 0.5\n",
        "PAD_IDX = TEXT.vocab.stoi[TEXT.pad_token]\n",
        "\n",
        "model = CNN(INPUT_DIM, EMBEDDING_DIM, N_FILTERS, FILTER_SIZES, OUTPUT_DIM, DROPOUT, PAD_IDX)"
      ],
      "metadata": {
        "id": "aSUWtaClz59Z"
      },
      "execution_count": null,
      "outputs": []
    },
    {
      "cell_type": "code",
      "source": [
        "def count_parameters(model):\n",
        "    return sum(p.numel() for p in model.parameters() if p.requires_grad)\n",
        "\n",
        "print(f'The model has {count_parameters(model):,} trainable parameters')"
      ],
      "metadata": {
        "colab": {
          "base_uri": "https://localhost:8080/"
        },
        "id": "X9Co-m0YrH-k",
        "outputId": "6960c5f7-aeb3-4aec-aaf5-becbde9768c4"
      },
      "execution_count": null,
      "outputs": [
        {
          "output_type": "stream",
          "name": "stdout",
          "text": [
            "The model has 1,079,904 trainable parameters\n"
          ]
        }
      ]
    },
    {
      "cell_type": "code",
      "source": [
        "pretrained_embeddings = TEXT.vocab.vectors\n",
        "\n",
        "model.embedding.weight.data.copy_(pretrained_embeddings)"
      ],
      "metadata": {
        "colab": {
          "base_uri": "https://localhost:8080/"
        },
        "id": "XDdBuTiorJBD",
        "outputId": "755ed7dc-9c0f-4224-f428-a0f9ce8e0c0b"
      },
      "execution_count": null,
      "outputs": [
        {
          "output_type": "execute_result",
          "data": {
            "text/plain": [
              "tensor([[-0.1117, -0.4966,  0.1631,  ...,  1.2647, -0.2753, -0.1325],\n",
              "        [-0.8555, -0.7208,  1.3755,  ...,  0.0825, -1.1314,  0.3997],\n",
              "        [-0.0188,  0.0117,  0.0393,  ...,  0.4428,  0.9039, -0.2370],\n",
              "        ...,\n",
              "        [-1.0419,  1.3155,  0.8454,  ..., -0.6409, -0.5735,  0.6514],\n",
              "        [-0.9408, -0.6966, -0.3996,  ...,  0.8543, -1.3833, -2.2067],\n",
              "        [-1.6231, -0.3696,  0.6649,  ..., -0.6217,  0.9142, -0.2956]])"
            ]
          },
          "metadata": {},
          "execution_count": 15
        }
      ]
    },
    {
      "cell_type": "code",
      "source": [
        "UNK_IDX = TEXT.vocab.stoi[TEXT.unk_token]\n",
        "PAD_IDX = TEXT.vocab.stoi[TEXT.pad_token]\n",
        "\n",
        "model.embedding.weight.data[UNK_IDX] = torch.zeros(EMBEDDING_DIM)\n",
        "model.embedding.weight.data[PAD_IDX] = torch.zeros(EMBEDDING_DIM)\n",
        "\n",
        "print(model.embedding.weight.data)"
      ],
      "metadata": {
        "colab": {
          "base_uri": "https://localhost:8080/"
        },
        "id": "aJlfiluFrLnL",
        "outputId": "5d74d622-a60e-4f9f-c7a8-6dea62040484"
      },
      "execution_count": null,
      "outputs": [
        {
          "output_type": "stream",
          "name": "stdout",
          "text": [
            "tensor([[ 0.0000,  0.0000,  0.0000,  ...,  0.0000,  0.0000,  0.0000],\n",
            "        [ 0.0000,  0.0000,  0.0000,  ...,  0.0000,  0.0000,  0.0000],\n",
            "        [-0.0188,  0.0117,  0.0393,  ...,  0.4428,  0.9039, -0.2370],\n",
            "        ...,\n",
            "        [-1.0419,  1.3155,  0.8454,  ..., -0.6409, -0.5735,  0.6514],\n",
            "        [-0.9408, -0.6966, -0.3996,  ...,  0.8543, -1.3833, -2.2067],\n",
            "        [-1.6231, -0.3696,  0.6649,  ..., -0.6217,  0.9142, -0.2956]])\n"
          ]
        }
      ]
    },
    {
      "cell_type": "code",
      "source": [
        "import torch.optim as optim\n",
        "\n",
        "optimizer = optim.Adam(model.parameters())\n",
        "# criterion = nn.BCEWithLogitsLoss()\n",
        "criterion = nn.CrossEntropyLoss()\n",
        "model = model.to(device)\n",
        "criterion = criterion.to(device)"
      ],
      "metadata": {
        "id": "hOkuUpEMrNJ1"
      },
      "execution_count": null,
      "outputs": []
    },
    {
      "cell_type": "code",
      "source": [
        "def categorical_accuracy(preds, y):\n",
        "    \"\"\"\n",
        "    Returns accuracy per batch, i.e. if you get 8/10 right, this returns 0.8, NOT 8\n",
        "    \"\"\"\n",
        "    top_pred = preds.argmax(1, keepdim = True)\n",
        "    correct = top_pred.eq(y.view_as(top_pred)).sum()\n",
        "    acc = correct.float() / y.shape[0]\n",
        "    return acc"
      ],
      "metadata": {
        "id": "HL0V8SRtrPn7"
      },
      "execution_count": null,
      "outputs": []
    },
    {
      "cell_type": "code",
      "source": [
        "def train(model, iterator, optimizer, criterion):\n",
        "    \n",
        "    epoch_loss = 0\n",
        "    epoch_acc = 0\n",
        "    \n",
        "    model.train()\n",
        "    \n",
        "    for batch in iterator:\n",
        "        \n",
        "        optimizer.zero_grad()\n",
        "        \n",
        "        predictions = model(batch.text)\n",
        "        \n",
        "        loss = criterion(predictions, batch.label)\n",
        "        \n",
        "        acc = categorical_accuracy(predictions, batch.label)\n",
        "        \n",
        "        loss.backward()\n",
        "        \n",
        "        optimizer.step()\n",
        "        \n",
        "        epoch_loss += loss.item()\n",
        "        epoch_acc += acc.item()\n",
        "        \n",
        "    return epoch_loss / len(iterator), epoch_acc / len(iterator)"
      ],
      "metadata": {
        "id": "d-Jc5yuhrRYj"
      },
      "execution_count": null,
      "outputs": []
    },
    {
      "cell_type": "code",
      "source": [
        "def evaluate(model, iterator, criterion):\n",
        "    \n",
        "    epoch_loss = 0\n",
        "    epoch_acc = 0\n",
        "    \n",
        "    model.eval()\n",
        "    \n",
        "    with torch.no_grad():\n",
        "    \n",
        "        for batch in iterator:\n",
        "\n",
        "            predictions = model(batch.text)\n",
        "            \n",
        "            loss = criterion(predictions, batch.label)\n",
        "            \n",
        "            acc = categorical_accuracy(predictions, batch.label)\n",
        "\n",
        "            epoch_loss += loss.item()\n",
        "            epoch_acc += acc.item()\n",
        "        \n",
        "    return epoch_loss / len(iterator), epoch_acc / len(iterator)"
      ],
      "metadata": {
        "id": "yUH7ipGUrTSw"
      },
      "execution_count": null,
      "outputs": []
    },
    {
      "cell_type": "code",
      "source": [
        "import time\n",
        "\n",
        "def epoch_time(start_time, end_time):\n",
        "    elapsed_time = end_time - start_time\n",
        "    elapsed_mins = int(elapsed_time / 60)\n",
        "    elapsed_secs = int(elapsed_time - (elapsed_mins * 60))\n",
        "    return elapsed_mins, elapsed_secs"
      ],
      "metadata": {
        "id": "weLnVnpwrUu0"
      },
      "execution_count": null,
      "outputs": []
    },
    {
      "cell_type": "code",
      "source": [
        "N_EPOCHS = 10\n",
        "\n",
        "best_valid_loss = float('inf')\n",
        "\n",
        "for epoch in range(N_EPOCHS):\n",
        "\n",
        "    start_time = time.time()\n",
        "    \n",
        "    train_loss, train_acc = train(model, train_iterator, optimizer, criterion)\n",
        "    valid_loss, valid_acc = evaluate(model, valid_iterator, criterion)\n",
        "    \n",
        "    end_time = time.time()\n",
        "\n",
        "    epoch_mins, epoch_secs = epoch_time(start_time, end_time)\n",
        "    \n",
        "    if valid_loss < best_valid_loss:\n",
        "        best_valid_loss = valid_loss\n",
        "        torch.save(model.state_dict(), 'tut2-model.pt')\n",
        "    \n",
        "    print(f'Epoch: {epoch+1:02} | Epoch Time: {epoch_mins}m {epoch_secs}s')\n",
        "    print(f'\\tTrain Loss: {train_loss:.3f} | Train Acc: {train_acc*100:.2f}%')\n",
        "    print(f'\\t Val. Loss: {valid_loss:.3f} |  Val. Acc: {valid_acc*100:.2f}%')"
      ],
      "metadata": {
        "colab": {
          "base_uri": "https://localhost:8080/"
        },
        "id": "o9u73x6xrV8a",
        "outputId": "81efd6c7-eb9c-452f-8e25-7d32ab560616"
      },
      "execution_count": null,
      "outputs": [
        {
          "output_type": "stream",
          "name": "stdout",
          "text": [
            "Epoch: 01 | Epoch Time: 0m 3s\n",
            "\tTrain Loss: 1.244 | Train Acc: 44.48%\n",
            "\t Val. Loss: 1.174 |  Val. Acc: 53.34%\n",
            "Epoch: 02 | Epoch Time: 0m 3s\n",
            "\tTrain Loss: 1.091 | Train Acc: 54.32%\n",
            "\t Val. Loss: 1.089 |  Val. Acc: 54.48%\n",
            "Epoch: 03 | Epoch Time: 0m 3s\n",
            "\tTrain Loss: 0.904 | Train Acc: 66.31%\n",
            "\t Val. Loss: 0.978 |  Val. Acc: 63.00%\n",
            "Epoch: 04 | Epoch Time: 0m 3s\n",
            "\tTrain Loss: 0.727 | Train Acc: 73.53%\n",
            "\t Val. Loss: 0.868 |  Val. Acc: 66.96%\n",
            "Epoch: 05 | Epoch Time: 0m 3s\n",
            "\tTrain Loss: 0.557 | Train Acc: 80.67%\n",
            "\t Val. Loss: 0.809 |  Val. Acc: 68.78%\n",
            "Epoch: 06 | Epoch Time: 0m 3s\n",
            "\tTrain Loss: 0.423 | Train Acc: 86.15%\n",
            "\t Val. Loss: 0.817 |  Val. Acc: 69.44%\n",
            "Epoch: 07 | Epoch Time: 0m 3s\n",
            "\tTrain Loss: 0.344 | Train Acc: 88.83%\n",
            "\t Val. Loss: 0.787 |  Val. Acc: 69.75%\n",
            "Epoch: 08 | Epoch Time: 0m 3s\n",
            "\tTrain Loss: 0.274 | Train Acc: 91.55%\n",
            "\t Val. Loss: 0.803 |  Val. Acc: 70.06%\n",
            "Epoch: 09 | Epoch Time: 0m 3s\n",
            "\tTrain Loss: 0.207 | Train Acc: 94.34%\n",
            "\t Val. Loss: 0.814 |  Val. Acc: 71.53%\n",
            "Epoch: 10 | Epoch Time: 0m 3s\n",
            "\tTrain Loss: 0.170 | Train Acc: 95.40%\n",
            "\t Val. Loss: 0.853 |  Val. Acc: 70.27%\n"
          ]
        }
      ]
    },
    {
      "cell_type": "code",
      "source": [
        "model.load_state_dict(torch.load('tut2-model.pt'))\n",
        "\n",
        "test_loss, test_acc = evaluate(model, test_iterator, criterion)\n",
        "\n",
        "print(f'Test Loss: {test_loss:.3f} | Test Acc: {test_acc*100:.2f}%')"
      ],
      "metadata": {
        "colab": {
          "base_uri": "https://localhost:8080/"
        },
        "id": "C2Kel44MsN9Z",
        "outputId": "b0f991b4-d635-4dee-92ea-623c188df81c"
      },
      "execution_count": null,
      "outputs": [
        {
          "output_type": "stream",
          "name": "stdout",
          "text": [
            "Test Loss: 0.727 | Test Acc: 73.24%\n"
          ]
        }
      ]
    },
    {
      "cell_type": "code",
      "source": [
        "import spacy\n",
        "nlp = spacy.load('en_core_web_sm')\n",
        "\n",
        "def predict_sentiment(model, sentence):\n",
        "    model.eval()\n",
        "    tokenized = [tok.text for tok in nlp.tokenizer(sentence)]\n",
        "    indexed = [TEXT.vocab.stoi[t] for t in tokenized]\n",
        "    length = [len(indexed)]\n",
        "    tensor = torch.LongTensor(indexed).to(device)\n",
        "    tensor = tensor.unsqueeze(1)\n",
        "    length_tensor = torch.LongTensor(length)\n",
        "    prediction = torch.sigmoid(model(tensor, length_tensor))\n",
        "    return prediction.item()"
      ],
      "metadata": {
        "id": "BHDZ-qKYsQa7"
      },
      "execution_count": null,
      "outputs": []
    },
    {
      "cell_type": "code",
      "source": [
        "def predict_class(model, sentence, min_len = 4):\n",
        "    model.eval()\n",
        "    tokenized = [tok.text for tok in nlp.tokenizer(sentence)]\n",
        "    if len(tokenized) < min_len:\n",
        "        tokenized += ['<pad>'] * (min_len - len(tokenized))\n",
        "    indexed = [TEXT.vocab.stoi[t] for t in tokenized]\n",
        "    tensor = torch.LongTensor(indexed).to(device)\n",
        "    tensor = tensor.unsqueeze(1)\n",
        "    preds = model(tensor)\n",
        "    max_preds = preds.argmax(dim = 1)\n",
        "    return max_preds.item()"
      ],
      "metadata": {
        "id": "DJ69t492cbMz"
      },
      "execution_count": null,
      "outputs": []
    },
    {
      "cell_type": "code",
      "source": [
        "# map Integer label -> String emotions\n",
        "def labelToemotion(label):\n",
        "  if (label == '0'):\n",
        "      return 'anger'\n",
        "  elif (label == '1'):\n",
        "    return 'joy'\n",
        "  elif (label == '2'):\n",
        "    return 'optimism'\n",
        "  else:\n",
        "    return 'sadness'\n",
        "  "
      ],
      "metadata": {
        "id": "KDlSDC8inPaX"
      },
      "execution_count": null,
      "outputs": []
    },
    {
      "cell_type": "code",
      "source": [
        "pred_class = predict_class(model, \"I am coding test cases\")\n",
        "print('Predicted class is: ' + labelToemotion(LABEL.vocab.itos[pred_class]))"
      ],
      "metadata": {
        "colab": {
          "base_uri": "https://localhost:8080/"
        },
        "id": "y_gCyMYOq6AO",
        "outputId": "eed7f715-5fc5-4be5-cbc0-7086ad3bc4bd"
      },
      "execution_count": null,
      "outputs": [
        {
          "output_type": "stream",
          "name": "stdout",
          "text": [
            "Predicted class is: sadness\n"
          ]
        }
      ]
    },
    {
      "cell_type": "code",
      "source": [
        "pred_class = predict_class(model, \"You are dog\")\n",
        "print('Predicted class is: ' + labelToemotion(LABEL.vocab.itos[pred_class]))"
      ],
      "metadata": {
        "colab": {
          "base_uri": "https://localhost:8080/"
        },
        "id": "9y9SzJz5rvx6",
        "outputId": "43b860b1-46ba-4739-8185-015f34526fa2"
      },
      "execution_count": null,
      "outputs": [
        {
          "output_type": "stream",
          "name": "stdout",
          "text": [
            "Predicted class is: anger\n"
          ]
        }
      ]
    },
    {
      "cell_type": "code",
      "source": [
        "pred_class = predict_class(model, \"I will finish the code soon.\")\n",
        "print('Predicted class is: ' + labelToemotion(LABEL.vocab.itos[pred_class]))"
      ],
      "metadata": {
        "colab": {
          "base_uri": "https://localhost:8080/"
        },
        "id": "OkiX8YacrM1_",
        "outputId": "0ad71c3a-f90a-470f-8080-af6bc3b36c94"
      },
      "execution_count": null,
      "outputs": [
        {
          "output_type": "stream",
          "name": "stdout",
          "text": [
            "Predicted class is: joy\n"
          ]
        }
      ]
    },
    {
      "cell_type": "code",
      "source": [
        "pred_class = predict_class(model, \"JAVA is the best language in the world!\")\n",
        "print('Predicted class is: ' + labelToemotion(LABEL.vocab.itos[pred_class]))"
      ],
      "metadata": {
        "colab": {
          "base_uri": "https://localhost:8080/"
        },
        "id": "XbhjpIYIqkCu",
        "outputId": "f1b6d875-372c-411d-90a6-d4ca04c228a6"
      },
      "execution_count": null,
      "outputs": [
        {
          "output_type": "stream",
          "name": "stdout",
          "text": [
            "Predicted class is: joy\n"
          ]
        }
      ]
    },
    {
      "cell_type": "code",
      "source": [
        "pred_class = predict_class(model, \"All finished!\")\n",
        "print('Predicted class is: ' + labelToemotion(LABEL.vocab.itos[pred_class]))"
      ],
      "metadata": {
        "colab": {
          "base_uri": "https://localhost:8080/"
        },
        "id": "llk_l6ySp2ZM",
        "outputId": "6fbb2b68-31ae-4b0e-f03d-0fc4cc1f7909"
      },
      "execution_count": null,
      "outputs": [
        {
          "output_type": "stream",
          "name": "stdout",
          "text": [
            "Predicted class is: joy\n"
          ]
        }
      ]
    }
  ],
  "metadata": {
    "kernelspec": {
      "display_name": "Python 3",
      "language": "python",
      "name": "python3"
    },
    "language_info": {
      "codemirror_mode": {
        "name": "ipython",
        "version": 3
      },
      "file_extension": ".py",
      "mimetype": "text/x-python",
      "name": "python",
      "nbconvert_exporter": "python",
      "pygments_lexer": "ipython3",
      "version": "3.6.3"
    },
    "colab": {
      "provenance": []
    }
  },
  "nbformat": 4,
  "nbformat_minor": 0
}